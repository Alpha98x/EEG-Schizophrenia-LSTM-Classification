{
 "cells": [
  {
   "cell_type": "code",
   "execution_count": 7,
   "id": "3444eb52-6147-42d2-8ada-0452da9e12ce",
   "metadata": {},
   "outputs": [
    {
     "name": "stdout",
     "output_type": "stream",
     "text": [
      "Looking in indexes: https://pypi.org/simple, https://pypi.ngc.nvidia.com\n",
      "Requirement already satisfied: mne in d:\\conda\\lib\\site-packages (1.7.1)\n",
      "Requirement already satisfied: decorator in d:\\conda\\lib\\site-packages (from mne) (5.1.1)\n",
      "Requirement already satisfied: jinja2 in d:\\conda\\lib\\site-packages (from mne) (3.1.3)\n",
      "Requirement already satisfied: lazy-loader>=0.3 in d:\\conda\\lib\\site-packages (from mne) (0.3)\n",
      "Requirement already satisfied: matplotlib>=3.5.0 in d:\\conda\\lib\\site-packages (from mne) (3.8.0)\n",
      "Requirement already satisfied: numpy>=1.21.2 in d:\\conda\\lib\\site-packages (from mne) (1.26.4)\n",
      "Requirement already satisfied: packaging in d:\\conda\\lib\\site-packages (from mne) (23.1)\n",
      "Requirement already satisfied: pooch>=1.5 in d:\\conda\\lib\\site-packages (from mne) (1.8.2)\n",
      "Requirement already satisfied: scipy>=1.7.1 in d:\\conda\\lib\\site-packages (from mne) (1.11.4)\n",
      "Requirement already satisfied: tqdm in d:\\conda\\lib\\site-packages (from mne) (4.65.0)\n",
      "Requirement already satisfied: contourpy>=1.0.1 in d:\\conda\\lib\\site-packages (from matplotlib>=3.5.0->mne) (1.2.0)\n",
      "Requirement already satisfied: cycler>=0.10 in d:\\conda\\lib\\site-packages (from matplotlib>=3.5.0->mne) (0.11.0)\n",
      "Requirement already satisfied: fonttools>=4.22.0 in d:\\conda\\lib\\site-packages (from matplotlib>=3.5.0->mne) (4.25.0)\n",
      "Requirement already satisfied: kiwisolver>=1.0.1 in d:\\conda\\lib\\site-packages (from matplotlib>=3.5.0->mne) (1.4.4)\n",
      "Requirement already satisfied: pillow>=6.2.0 in d:\\conda\\lib\\site-packages (from matplotlib>=3.5.0->mne) (10.2.0)\n",
      "Requirement already satisfied: pyparsing>=2.3.1 in d:\\conda\\lib\\site-packages (from matplotlib>=3.5.0->mne) (3.0.9)\n",
      "Requirement already satisfied: python-dateutil>=2.7 in d:\\conda\\lib\\site-packages (from matplotlib>=3.5.0->mne) (2.8.2)\n",
      "Requirement already satisfied: platformdirs>=2.5.0 in d:\\conda\\lib\\site-packages (from pooch>=1.5->mne) (3.10.0)\n",
      "Requirement already satisfied: requests>=2.19.0 in d:\\conda\\lib\\site-packages (from pooch>=1.5->mne) (2.31.0)\n",
      "Requirement already satisfied: MarkupSafe>=2.0 in d:\\conda\\lib\\site-packages (from jinja2->mne) (2.1.3)\n",
      "Requirement already satisfied: colorama in d:\\conda\\lib\\site-packages (from tqdm->mne) (0.4.6)\n",
      "Requirement already satisfied: six>=1.5 in d:\\conda\\lib\\site-packages (from python-dateutil>=2.7->matplotlib>=3.5.0->mne) (1.16.0)\n",
      "Requirement already satisfied: charset-normalizer<4,>=2 in d:\\conda\\lib\\site-packages (from requests>=2.19.0->pooch>=1.5->mne) (2.0.4)\n",
      "Requirement already satisfied: idna<4,>=2.5 in d:\\conda\\lib\\site-packages (from requests>=2.19.0->pooch>=1.5->mne) (3.4)\n",
      "Requirement already satisfied: urllib3<3,>=1.21.1 in d:\\conda\\lib\\site-packages (from requests>=2.19.0->pooch>=1.5->mne) (2.0.7)\n",
      "Requirement already satisfied: certifi>=2017.4.17 in d:\\conda\\lib\\site-packages (from requests>=2.19.0->pooch>=1.5->mne) (2024.2.2)\n",
      "Looking in indexes: https://pypi.org/simple, https://pypi.ngc.nvidia.com\n",
      "Requirement already satisfied: mne in d:\\conda\\lib\\site-packages (1.7.1)\n",
      "Requirement already satisfied: decorator in d:\\conda\\lib\\site-packages (from mne) (5.1.1)\n",
      "Requirement already satisfied: jinja2 in d:\\conda\\lib\\site-packages (from mne) (3.1.3)\n",
      "Requirement already satisfied: lazy-loader>=0.3 in d:\\conda\\lib\\site-packages (from mne) (0.3)\n",
      "Requirement already satisfied: matplotlib>=3.5.0 in d:\\conda\\lib\\site-packages (from mne) (3.8.0)\n",
      "Requirement already satisfied: numpy>=1.21.2 in d:\\conda\\lib\\site-packages (from mne) (1.26.4)\n",
      "Requirement already satisfied: packaging in d:\\conda\\lib\\site-packages (from mne) (23.1)\n",
      "Requirement already satisfied: pooch>=1.5 in d:\\conda\\lib\\site-packages (from mne) (1.8.2)\n",
      "Requirement already satisfied: scipy>=1.7.1 in d:\\conda\\lib\\site-packages (from mne) (1.11.4)\n",
      "Requirement already satisfied: tqdm in d:\\conda\\lib\\site-packages (from mne) (4.65.0)\n",
      "Requirement already satisfied: contourpy>=1.0.1 in d:\\conda\\lib\\site-packages (from matplotlib>=3.5.0->mne) (1.2.0)\n",
      "Requirement already satisfied: cycler>=0.10 in d:\\conda\\lib\\site-packages (from matplotlib>=3.5.0->mne) (0.11.0)\n",
      "Requirement already satisfied: fonttools>=4.22.0 in d:\\conda\\lib\\site-packages (from matplotlib>=3.5.0->mne) (4.25.0)\n",
      "Requirement already satisfied: kiwisolver>=1.0.1 in d:\\conda\\lib\\site-packages (from matplotlib>=3.5.0->mne) (1.4.4)\n",
      "Requirement already satisfied: pillow>=6.2.0 in d:\\conda\\lib\\site-packages (from matplotlib>=3.5.0->mne) (10.2.0)\n",
      "Requirement already satisfied: pyparsing>=2.3.1 in d:\\conda\\lib\\site-packages (from matplotlib>=3.5.0->mne) (3.0.9)\n",
      "Requirement already satisfied: python-dateutil>=2.7 in d:\\conda\\lib\\site-packages (from matplotlib>=3.5.0->mne) (2.8.2)\n",
      "Requirement already satisfied: platformdirs>=2.5.0 in d:\\conda\\lib\\site-packages (from pooch>=1.5->mne) (3.10.0)\n",
      "Requirement already satisfied: requests>=2.19.0 in d:\\conda\\lib\\site-packages (from pooch>=1.5->mne) (2.31.0)\n",
      "Requirement already satisfied: MarkupSafe>=2.0 in d:\\conda\\lib\\site-packages (from jinja2->mne) (2.1.3)\n",
      "Requirement already satisfied: colorama in d:\\conda\\lib\\site-packages (from tqdm->mne) (0.4.6)\n",
      "Requirement already satisfied: six>=1.5 in d:\\conda\\lib\\site-packages (from python-dateutil>=2.7->matplotlib>=3.5.0->mne) (1.16.0)\n",
      "Requirement already satisfied: charset-normalizer<4,>=2 in d:\\conda\\lib\\site-packages (from requests>=2.19.0->pooch>=1.5->mne) (2.0.4)\n",
      "Requirement already satisfied: idna<4,>=2.5 in d:\\conda\\lib\\site-packages (from requests>=2.19.0->pooch>=1.5->mne) (3.4)\n",
      "Requirement already satisfied: urllib3<3,>=1.21.1 in d:\\conda\\lib\\site-packages (from requests>=2.19.0->pooch>=1.5->mne) (2.0.7)\n",
      "Requirement already satisfied: certifi>=2017.4.17 in d:\\conda\\lib\\site-packages (from requests>=2.19.0->pooch>=1.5->mne) (2024.2.2)\n"
     ]
    }
   ],
   "source": [
    "!pip install mne\n",
    "\n"
   ]
  },
  {
   "cell_type": "code",
   "execution_count": 22,
   "id": "021cab04-cec3-46f2-968f-9fa3f201cf3f",
   "metadata": {},
   "outputs": [
    {
     "name": "stdout",
     "output_type": "stream",
     "text": [
      "Looking in indexes: https://pypi.org/simple, https://pypi.ngc.nvidia.com\n",
      "Requirement already satisfied: openpyxl in d:\\conda\\lib\\site-packages (3.0.10)\n",
      "Requirement already satisfied: et_xmlfile in d:\\conda\\lib\\site-packages (from openpyxl) (1.1.0)\n"
     ]
    }
   ],
   "source": [
    "!pip install openpyxl\n"
   ]
  },
  {
   "cell_type": "code",
   "execution_count": 23,
   "id": "9b9c9cdc-80b8-4dbf-b4c9-2bf06ed781c2",
   "metadata": {},
   "outputs": [
    {
     "name": "stdout",
     "output_type": "stream",
     "text": [
      "Checking file AB1_211180_Rest1_ds_GA_rE_rL_ds_flt_rr_Dqrs_Rbcg_ASR_rr_eog_ica_mara_proj_rSE.set\n",
      "Reading G:\\ABP_PreprocessedEEG\\AB1_211180_Rest1_ds_GA_rE_rL_ds_flt_rr_Dqrs_Rbcg_ASR_rr_eog_ica_mara_proj_rSE.fdt\n",
      "Reading 0 ... 57494  =      0.000 ...   229.976 secs...\n",
      "Checking file AB1_211196_Rest1_ds_GA_rE_rL_ds_flt_rr_Dqrs_Rbcg_ASR_rr_eog_ica_mara_proj_rSE.set\n",
      "Reading G:\\ABP_PreprocessedEEG\\AB1_211196_Rest1_ds_GA_rE_rL_ds_flt_rr_Dqrs_Rbcg_ASR_rr_eog_ica_mara_proj_rSE.fdt\n",
      "Reading 0 ... 76359  =      0.000 ...   305.436 secs...\n"
     ]
    },
    {
     "name": "stderr",
     "output_type": "stream",
     "text": [
      "C:\\Users\\locha\\AppData\\Local\\Temp\\ipykernel_7852\\1156392699.py:8: RuntimeWarning: Limited 2 annotation(s) that were expanding outside the data range.\n",
      "  raw = mne.io.read_raw_eeglab(filepath, preload=True)\n",
      "C:\\Users\\locha\\AppData\\Local\\Temp\\ipykernel_7852\\1156392699.py:8: RuntimeWarning: The data contains 'boundary' events, indicating data discontinuities. Be cautious of filtering and epoching around these events.\n",
      "  raw = mne.io.read_raw_eeglab(filepath, preload=True)\n"
     ]
    },
    {
     "name": "stdout",
     "output_type": "stream",
     "text": [
      "Checking file AB2_109077_Rest1_ds_GA_rE_rL_ds_flt_rr_Dqrs_Rbcg_ASR_rr_eog_ica_mara_proj_rSE.set\n",
      "Reading G:\\ABP_PreprocessedEEG\\AB2_109077_Rest1_ds_GA_rE_rL_ds_flt_rr_Dqrs_Rbcg_ASR_rr_eog_ica_mara_proj_rSE.fdt\n",
      "Reading 0 ... 59294  =      0.000 ...   237.176 secs...\n"
     ]
    },
    {
     "name": "stderr",
     "output_type": "stream",
     "text": [
      "C:\\Users\\locha\\AppData\\Local\\Temp\\ipykernel_7852\\1156392699.py:8: RuntimeWarning: Limited 1 annotation(s) that were expanding outside the data range.\n",
      "  raw = mne.io.read_raw_eeglab(filepath, preload=True)\n",
      "C:\\Users\\locha\\AppData\\Local\\Temp\\ipykernel_7852\\1156392699.py:8: RuntimeWarning: The data contains 'boundary' events, indicating data discontinuities. Be cautious of filtering and epoching around these events.\n",
      "  raw = mne.io.read_raw_eeglab(filepath, preload=True)\n",
      "C:\\Users\\locha\\AppData\\Local\\Temp\\ipykernel_7852\\1156392699.py:8: RuntimeWarning: Limited 2 annotation(s) that were expanding outside the data range.\n",
      "  raw = mne.io.read_raw_eeglab(filepath, preload=True)\n",
      "C:\\Users\\locha\\AppData\\Local\\Temp\\ipykernel_7852\\1156392699.py:8: RuntimeWarning: The data contains 'boundary' events, indicating data discontinuities. Be cautious of filtering and epoching around these events.\n",
      "  raw = mne.io.read_raw_eeglab(filepath, preload=True)\n"
     ]
    },
    {
     "name": "stdout",
     "output_type": "stream",
     "text": [
      "Checking file AB2_206497_Rest1_ds_GA_rE_rL_ds_flt_rr_Dqrs_Rbcg_ASR_rr_eog_ica_mara_proj_rSE.set\n",
      "Reading G:\\ABP_PreprocessedEEG\\AB2_206497_Rest1_ds_GA_rE_rL_ds_flt_rr_Dqrs_Rbcg_ASR_rr_eog_ica_mara_proj_rSE.fdt\n",
      "Reading 0 ... 71614  =      0.000 ...   286.456 secs...\n",
      "Checking file AB2_209170_Rest1_ds_GA_rE_rL_ds_flt_rr_Dqrs_Rbcg_ASR_rr_eog_ica_mara_proj_rSE.set\n",
      "Reading G:\\ABP_PreprocessedEEG\\AB2_209170_Rest1_ds_GA_rE_rL_ds_flt_rr_Dqrs_Rbcg_ASR_rr_eog_ica_mara_proj_rSE.fdt\n",
      "Reading 0 ... 73419  =      0.000 ...   293.676 secs...\n"
     ]
    },
    {
     "name": "stderr",
     "output_type": "stream",
     "text": [
      "C:\\Users\\locha\\AppData\\Local\\Temp\\ipykernel_7852\\1156392699.py:8: RuntimeWarning: Limited 2 annotation(s) that were expanding outside the data range.\n",
      "  raw = mne.io.read_raw_eeglab(filepath, preload=True)\n",
      "C:\\Users\\locha\\AppData\\Local\\Temp\\ipykernel_7852\\1156392699.py:8: RuntimeWarning: The data contains 'boundary' events, indicating data discontinuities. Be cautious of filtering and epoching around these events.\n",
      "  raw = mne.io.read_raw_eeglab(filepath, preload=True)\n"
     ]
    },
    {
     "name": "stdout",
     "output_type": "stream",
     "text": [
      "Checking file AB2_210495_Rest1_ds_GA_rE_rL_ds_flt_rr_Dqrs_Rbcg_ASR_rr_eog_ica_mara_proj_rSE.set\n",
      "Reading G:\\ABP_PreprocessedEEG\\AB2_210495_Rest1_ds_GA_rE_rL_ds_flt_rr_Dqrs_Rbcg_ASR_rr_eog_ica_mara_proj_rSE.fdt\n",
      "Reading 0 ... 79909  =      0.000 ...   319.636 secs...\n"
     ]
    },
    {
     "name": "stderr",
     "output_type": "stream",
     "text": [
      "C:\\Users\\locha\\AppData\\Local\\Temp\\ipykernel_7852\\1156392699.py:8: RuntimeWarning: Limited 1 annotation(s) that were expanding outside the data range.\n",
      "  raw = mne.io.read_raw_eeglab(filepath, preload=True)\n",
      "C:\\Users\\locha\\AppData\\Local\\Temp\\ipykernel_7852\\1156392699.py:8: RuntimeWarning: The data contains 'boundary' events, indicating data discontinuities. Be cautious of filtering and epoching around these events.\n",
      "  raw = mne.io.read_raw_eeglab(filepath, preload=True)\n"
     ]
    },
    {
     "name": "stdout",
     "output_type": "stream",
     "text": [
      "Checking file AB2_211334_Rest1_ds_GA_rE_rL_ds_flt_rr_Dqrs_Rbcg_ASR_rr_eog_ica_mara_proj_rSE.set\n",
      "Reading G:\\ABP_PreprocessedEEG\\AB2_211334_Rest1_ds_GA_rE_rL_ds_flt_rr_Dqrs_Rbcg_ASR_rr_eog_ica_mara_proj_rSE.fdt\n",
      "Reading 0 ... 72004  =      0.000 ...   288.016 secs...\n"
     ]
    },
    {
     "name": "stderr",
     "output_type": "stream",
     "text": [
      "C:\\Users\\locha\\AppData\\Local\\Temp\\ipykernel_7852\\1156392699.py:8: RuntimeWarning: The data contains 'boundary' events, indicating data discontinuities. Be cautious of filtering and epoching around these events.\n",
      "  raw = mne.io.read_raw_eeglab(filepath, preload=True)\n"
     ]
    },
    {
     "name": "stdout",
     "output_type": "stream",
     "text": [
      "Checking file AB2_211629_Rest1_ds_GA_rE_rL_ds_flt_rr_Dqrs_Rbcg_ASR_rr_eog_ica_mara_proj_rSE.set\n",
      "Reading G:\\ABP_PreprocessedEEG\\AB2_211629_Rest1_ds_GA_rE_rL_ds_flt_rr_Dqrs_Rbcg_ASR_rr_eog_ica_mara_proj_rSE.fdt\n",
      "Reading 0 ... 73579  =      0.000 ...   294.316 secs...\n"
     ]
    },
    {
     "name": "stderr",
     "output_type": "stream",
     "text": [
      "C:\\Users\\locha\\AppData\\Local\\Temp\\ipykernel_7852\\1156392699.py:8: RuntimeWarning: Limited 1 annotation(s) that were expanding outside the data range.\n",
      "  raw = mne.io.read_raw_eeglab(filepath, preload=True)\n",
      "C:\\Users\\locha\\AppData\\Local\\Temp\\ipykernel_7852\\1156392699.py:8: RuntimeWarning: The data contains 'boundary' events, indicating data discontinuities. Be cautious of filtering and epoching around these events.\n",
      "  raw = mne.io.read_raw_eeglab(filepath, preload=True)\n",
      "C:\\Users\\locha\\AppData\\Local\\Temp\\ipykernel_7852\\1156392699.py:8: RuntimeWarning: Limited 1 annotation(s) that were expanding outside the data range.\n",
      "  raw = mne.io.read_raw_eeglab(filepath, preload=True)\n",
      "C:\\Users\\locha\\AppData\\Local\\Temp\\ipykernel_7852\\1156392699.py:8: RuntimeWarning: The data contains 'boundary' events, indicating data discontinuities. Be cautious of filtering and epoching around these events.\n",
      "  raw = mne.io.read_raw_eeglab(filepath, preload=True)\n"
     ]
    },
    {
     "name": "stdout",
     "output_type": "stream",
     "text": [
      "Checking file AB2_211630_Rest1_ds_GA_rE_rL_ds_flt_rr_Dqrs_Rbcg_ASR_rr_eog_ica_mara_proj_rSE.set\n",
      "Reading G:\\ABP_PreprocessedEEG\\AB2_211630_Rest1_ds_GA_rE_rL_ds_flt_rr_Dqrs_Rbcg_ASR_rr_eog_ica_mara_proj_rSE.fdt\n",
      "Reading 0 ... 77369  =      0.000 ...   309.476 secs...\n",
      "Checking file AB2_211631_Rest1_ds_GA_rE_rL_ds_flt_rr_Dqrs_Rbcg_ASR_rr_eog_ica_mara_proj_rSE.set\n",
      "Reading G:\\ABP_PreprocessedEEG\\AB2_211631_Rest1_ds_GA_rE_rL_ds_flt_rr_Dqrs_Rbcg_ASR_rr_eog_ica_mara_proj_rSE.fdt\n",
      "Reading 0 ... 73324  =      0.000 ...   293.296 secs...\n"
     ]
    },
    {
     "name": "stderr",
     "output_type": "stream",
     "text": [
      "C:\\Users\\locha\\AppData\\Local\\Temp\\ipykernel_7852\\1156392699.py:8: RuntimeWarning: Limited 1 annotation(s) that were expanding outside the data range.\n",
      "  raw = mne.io.read_raw_eeglab(filepath, preload=True)\n",
      "C:\\Users\\locha\\AppData\\Local\\Temp\\ipykernel_7852\\1156392699.py:8: RuntimeWarning: The data contains 'boundary' events, indicating data discontinuities. Be cautious of filtering and epoching around these events.\n",
      "  raw = mne.io.read_raw_eeglab(filepath, preload=True)\n"
     ]
    },
    {
     "name": "stdout",
     "output_type": "stream",
     "text": [
      "Checking file AB2_211639_Rest1_ds_GA_rE_rL_ds_flt_rr_Dqrs_Rbcg_ASR_rr_eog_ica_mara_proj_rSE.set\n",
      "Reading G:\\ABP_PreprocessedEEG\\AB2_211639_Rest1_ds_GA_rE_rL_ds_flt_rr_Dqrs_Rbcg_ASR_rr_eog_ica_mara_proj_rSE.fdt\n",
      "Reading 0 ... 79309  =      0.000 ...   317.236 secs...\n"
     ]
    },
    {
     "name": "stderr",
     "output_type": "stream",
     "text": [
      "C:\\Users\\locha\\AppData\\Local\\Temp\\ipykernel_7852\\1156392699.py:8: RuntimeWarning: The data contains 'boundary' events, indicating data discontinuities. Be cautious of filtering and epoching around these events.\n",
      "  raw = mne.io.read_raw_eeglab(filepath, preload=True)\n"
     ]
    },
    {
     "name": "stdout",
     "output_type": "stream",
     "text": [
      "Checking file AB2_211774_Rest1_ds_GA_rE_rL_ds_flt_rr_Dqrs_Rbcg_ASR_rr_eog_ica_mara_proj_rSE.set\n",
      "Reading G:\\ABP_PreprocessedEEG\\AB2_211774_Rest1_ds_GA_rE_rL_ds_flt_rr_Dqrs_Rbcg_ASR_rr_eog_ica_mara_proj_rSE.fdt\n",
      "Reading 0 ... 78454  =      0.000 ...   313.816 secs...\n"
     ]
    },
    {
     "name": "stderr",
     "output_type": "stream",
     "text": [
      "C:\\Users\\locha\\AppData\\Local\\Temp\\ipykernel_7852\\1156392699.py:8: RuntimeWarning: Limited 1 annotation(s) that were expanding outside the data range.\n",
      "  raw = mne.io.read_raw_eeglab(filepath, preload=True)\n",
      "C:\\Users\\locha\\AppData\\Local\\Temp\\ipykernel_7852\\1156392699.py:8: RuntimeWarning: The data contains 'boundary' events, indicating data discontinuities. Be cautious of filtering and epoching around these events.\n",
      "  raw = mne.io.read_raw_eeglab(filepath, preload=True)\n"
     ]
    },
    {
     "name": "stdout",
     "output_type": "stream",
     "text": [
      "Checking file AB2_211782_Rest1_ds_GA_rE_rL_ds_flt_rr_Dqrs_Rbcg_ASR_rr_eog_ica_mara_proj_rSE.set\n",
      "Reading G:\\ABP_PreprocessedEEG\\AB2_211782_Rest1_ds_GA_rE_rL_ds_flt_rr_Dqrs_Rbcg_ASR_rr_eog_ica_mara_proj_rSE.fdt\n",
      "Reading 0 ... 80404  =      0.000 ...   321.616 secs...\n"
     ]
    },
    {
     "name": "stderr",
     "output_type": "stream",
     "text": [
      "C:\\Users\\locha\\AppData\\Local\\Temp\\ipykernel_7852\\1156392699.py:8: RuntimeWarning: Limited 1 annotation(s) that were expanding outside the data range.\n",
      "  raw = mne.io.read_raw_eeglab(filepath, preload=True)\n",
      "C:\\Users\\locha\\AppData\\Local\\Temp\\ipykernel_7852\\1156392699.py:8: RuntimeWarning: The data contains 'boundary' events, indicating data discontinuities. Be cautious of filtering and epoching around these events.\n",
      "  raw = mne.io.read_raw_eeglab(filepath, preload=True)\n"
     ]
    },
    {
     "name": "stdout",
     "output_type": "stream",
     "text": [
      "Checking file AB2_211852_Rest1_ds_GA_rE_rL_ds_flt_rr_Dqrs_Rbcg_ASR_rr_eog_ica_mara_proj_rSE.set\n",
      "Reading G:\\ABP_PreprocessedEEG\\AB2_211852_Rest1_ds_GA_rE_rL_ds_flt_rr_Dqrs_Rbcg_ASR_rr_eog_ica_mara_proj_rSE.fdt\n",
      "Reading 0 ... 37064  =      0.000 ...   148.256 secs...\n",
      "Checking file AB2_212016_Rest1_ds_GA_rE_rL_ds_flt_rr_Dqrs_Rbcg_ASR_rr_eog_ica_mara_proj_rSE.set\n",
      "Reading G:\\ABP_PreprocessedEEG\\AB2_212016_Rest1_ds_GA_rE_rL_ds_flt_rr_Dqrs_Rbcg_ASR_rr_eog_ica_mara_proj_rSE.fdt\n"
     ]
    },
    {
     "name": "stderr",
     "output_type": "stream",
     "text": [
      "C:\\Users\\locha\\AppData\\Local\\Temp\\ipykernel_7852\\1156392699.py:8: RuntimeWarning: The data contains 'boundary' events, indicating data discontinuities. Be cautious of filtering and epoching around these events.\n",
      "  raw = mne.io.read_raw_eeglab(filepath, preload=True)\n",
      "C:\\Users\\locha\\AppData\\Local\\Temp\\ipykernel_7852\\1156392699.py:8: RuntimeWarning: Limited 2 annotation(s) that were expanding outside the data range.\n",
      "  raw = mne.io.read_raw_eeglab(filepath, preload=True)\n",
      "C:\\Users\\locha\\AppData\\Local\\Temp\\ipykernel_7852\\1156392699.py:8: RuntimeWarning: The data contains 'boundary' events, indicating data discontinuities. Be cautious of filtering and epoching around these events.\n",
      "  raw = mne.io.read_raw_eeglab(filepath, preload=True)\n"
     ]
    },
    {
     "name": "stdout",
     "output_type": "stream",
     "text": [
      "Reading 0 ... 61439  =      0.000 ...   245.756 secs...\n",
      "Checking file AB2_212030_Rest1_ds_GA_rE_rL_ds_flt_rr_Dqrs_Rbcg_ASR_rr_eog_ica_mara_proj_rSE.set\n",
      "Reading G:\\ABP_PreprocessedEEG\\AB2_212030_Rest1_ds_GA_rE_rL_ds_flt_rr_Dqrs_Rbcg_ASR_rr_eog_ica_mara_proj_rSE.fdt\n",
      "Reading 0 ... 77629  =      0.000 ...   310.516 secs...\n"
     ]
    },
    {
     "name": "stderr",
     "output_type": "stream",
     "text": [
      "C:\\Users\\locha\\AppData\\Local\\Temp\\ipykernel_7852\\1156392699.py:8: RuntimeWarning: The data contains 'boundary' events, indicating data discontinuities. Be cautious of filtering and epoching around these events.\n",
      "  raw = mne.io.read_raw_eeglab(filepath, preload=True)\n"
     ]
    },
    {
     "name": "stdout",
     "output_type": "stream",
     "text": [
      "Checking file AB2_212048_Rest1_ds_GA_rE_rL_ds_flt_rr_Dqrs_Rbcg_ASR_rr_eog_ica_mara_proj_rSE.set\n",
      "Reading G:\\ABP_PreprocessedEEG\\AB2_212048_Rest1_ds_GA_rE_rL_ds_flt_rr_Dqrs_Rbcg_ASR_rr_eog_ica_mara_proj_rSE.fdt\n",
      "Reading 0 ... 79049  =      0.000 ...   316.196 secs...\n"
     ]
    },
    {
     "name": "stderr",
     "output_type": "stream",
     "text": [
      "C:\\Users\\locha\\AppData\\Local\\Temp\\ipykernel_7852\\1156392699.py:8: RuntimeWarning: Limited 1 annotation(s) that were expanding outside the data range.\n",
      "  raw = mne.io.read_raw_eeglab(filepath, preload=True)\n",
      "C:\\Users\\locha\\AppData\\Local\\Temp\\ipykernel_7852\\1156392699.py:8: RuntimeWarning: The data contains 'boundary' events, indicating data discontinuities. Be cautious of filtering and epoching around these events.\n",
      "  raw = mne.io.read_raw_eeglab(filepath, preload=True)\n",
      "C:\\Users\\locha\\AppData\\Local\\Temp\\ipykernel_7852\\1156392699.py:8: RuntimeWarning: Limited 1 annotation(s) that were expanding outside the data range.\n",
      "  raw = mne.io.read_raw_eeglab(filepath, preload=True)\n",
      "C:\\Users\\locha\\AppData\\Local\\Temp\\ipykernel_7852\\1156392699.py:8: RuntimeWarning: The data contains 'boundary' events, indicating data discontinuities. Be cautious of filtering and epoching around these events.\n",
      "  raw = mne.io.read_raw_eeglab(filepath, preload=True)\n"
     ]
    },
    {
     "name": "stdout",
     "output_type": "stream",
     "text": [
      "Checking file AB2_212101_Rest1_ds_GA_rE_rL_ds_flt_rr_Dqrs_Rbcg_ASR_rr_eog_ica_mara_proj_rSE.set\n",
      "Reading G:\\ABP_PreprocessedEEG\\AB2_212101_Rest1_ds_GA_rE_rL_ds_flt_rr_Dqrs_Rbcg_ASR_rr_eog_ica_mara_proj_rSE.fdt\n",
      "Reading 0 ... 75774  =      0.000 ...   303.096 secs...\n",
      "Checking file AB2_212166_Rest1_ds_GA_rE_rL_ds_flt_rr_Dqrs_Rbcg_ASR_rr_eog_ica_mara_proj_rSE.set\n",
      "Reading G:\\ABP_PreprocessedEEG\\AB2_212166_Rest1_ds_GA_rE_rL_ds_flt_rr_Dqrs_Rbcg_ASR_rr_eog_ica_mara_proj_rSE.fdt\n",
      "Reading 0 ... 74919  =      0.000 ...   299.676 secs...\n"
     ]
    },
    {
     "name": "stderr",
     "output_type": "stream",
     "text": [
      "C:\\Users\\locha\\AppData\\Local\\Temp\\ipykernel_7852\\1156392699.py:8: RuntimeWarning: Limited 1 annotation(s) that were expanding outside the data range.\n",
      "  raw = mne.io.read_raw_eeglab(filepath, preload=True)\n",
      "C:\\Users\\locha\\AppData\\Local\\Temp\\ipykernel_7852\\1156392699.py:8: RuntimeWarning: The data contains 'boundary' events, indicating data discontinuities. Be cautious of filtering and epoching around these events.\n",
      "  raw = mne.io.read_raw_eeglab(filepath, preload=True)\n",
      "C:\\Users\\locha\\AppData\\Local\\Temp\\ipykernel_7852\\1156392699.py:8: RuntimeWarning: Limited 1 annotation(s) that were expanding outside the data range.\n",
      "  raw = mne.io.read_raw_eeglab(filepath, preload=True)\n",
      "C:\\Users\\locha\\AppData\\Local\\Temp\\ipykernel_7852\\1156392699.py:8: RuntimeWarning: The data contains 'boundary' events, indicating data discontinuities. Be cautious of filtering and epoching around these events.\n",
      "  raw = mne.io.read_raw_eeglab(filepath, preload=True)\n"
     ]
    },
    {
     "name": "stdout",
     "output_type": "stream",
     "text": [
      "Checking file AB2_212167_Rest1_ds_GA_rE_rL_ds_flt_rr_Dqrs_Rbcg_ASR_rr_eog_ica_mara_proj_rSE.set\n",
      "Reading G:\\ABP_PreprocessedEEG\\AB2_212167_Rest1_ds_GA_rE_rL_ds_flt_rr_Dqrs_Rbcg_ASR_rr_eog_ica_mara_proj_rSE.fdt\n",
      "Reading 0 ... 61689  =      0.000 ...   246.756 secs...\n",
      "Checking file AB2_212496_Rest1_ds_GA_rE_rL_ds_flt_rr_Dqrs_Rbcg_ASR_rr_eog_ica_mara_proj_rSE.set\n",
      "Reading G:\\ABP_PreprocessedEEG\\AB2_212496_Rest1_ds_GA_rE_rL_ds_flt_rr_Dqrs_Rbcg_ASR_rr_eog_ica_mara_proj_rSE.fdt\n",
      "Reading 0 ... 64663  =      0.000 ...   258.652 secs...\n"
     ]
    },
    {
     "name": "stderr",
     "output_type": "stream",
     "text": [
      "C:\\Users\\locha\\AppData\\Local\\Temp\\ipykernel_7852\\1156392699.py:8: RuntimeWarning: The data contains 'boundary' events, indicating data discontinuities. Be cautious of filtering and epoching around these events.\n",
      "  raw = mne.io.read_raw_eeglab(filepath, preload=True)\n",
      "C:\\Users\\locha\\AppData\\Local\\Temp\\ipykernel_7852\\1156392699.py:8: RuntimeWarning: Limited 2 annotation(s) that were expanding outside the data range.\n",
      "  raw = mne.io.read_raw_eeglab(filepath, preload=True)\n",
      "C:\\Users\\locha\\AppData\\Local\\Temp\\ipykernel_7852\\1156392699.py:8: RuntimeWarning: The data contains 'boundary' events, indicating data discontinuities. Be cautious of filtering and epoching around these events.\n",
      "  raw = mne.io.read_raw_eeglab(filepath, preload=True)\n"
     ]
    },
    {
     "name": "stdout",
     "output_type": "stream",
     "text": [
      "Checking file AB2_212514_Rest1_ds_GA_rE_rL_ds_flt_rr_Dqrs_Rbcg_ASR_rr_eog_ica_mara_proj_rSE.set\n",
      "Reading G:\\ABP_PreprocessedEEG\\AB2_212514_Rest1_ds_GA_rE_rL_ds_flt_rr_Dqrs_Rbcg_ASR_rr_eog_ica_mara_proj_rSE.fdt\n",
      "Reading 0 ... 70949  =      0.000 ...   283.796 secs...\n",
      "Checking file AB2_212515_Rest1_ds_GA_rE_rL_ds_flt_rr_Dqrs_Rbcg_ASR_rr_eog_ica_mara_proj_rSE.set\n",
      "Reading G:\\ABP_PreprocessedEEG\\AB2_212515_Rest1_ds_GA_rE_rL_ds_flt_rr_Dqrs_Rbcg_ASR_rr_eog_ica_mara_proj_rSE.fdt\n",
      "Reading 0 ... 69984  =      0.000 ...   279.936 secs...\n"
     ]
    },
    {
     "name": "stderr",
     "output_type": "stream",
     "text": [
      "C:\\Users\\locha\\AppData\\Local\\Temp\\ipykernel_7852\\1156392699.py:8: RuntimeWarning: Limited 2 annotation(s) that were expanding outside the data range.\n",
      "  raw = mne.io.read_raw_eeglab(filepath, preload=True)\n",
      "C:\\Users\\locha\\AppData\\Local\\Temp\\ipykernel_7852\\1156392699.py:8: RuntimeWarning: The data contains 'boundary' events, indicating data discontinuities. Be cautious of filtering and epoching around these events.\n",
      "  raw = mne.io.read_raw_eeglab(filepath, preload=True)\n",
      "C:\\Users\\locha\\AppData\\Local\\Temp\\ipykernel_7852\\1156392699.py:8: RuntimeWarning: The data contains 'boundary' events, indicating data discontinuities. Be cautious of filtering and epoching around these events.\n",
      "  raw = mne.io.read_raw_eeglab(filepath, preload=True)\n"
     ]
    },
    {
     "name": "stdout",
     "output_type": "stream",
     "text": [
      "Checking file AB2_212542_Rest1_ds_GA_rE_rL_ds_flt_rr_Dqrs_Rbcg_ASR_rr_eog_ica_mara_proj_rSE.set\n",
      "Reading G:\\ABP_PreprocessedEEG\\AB2_212542_Rest1_ds_GA_rE_rL_ds_flt_rr_Dqrs_Rbcg_ASR_rr_eog_ica_mara_proj_rSE.fdt\n",
      "Reading 0 ... 63479  =      0.000 ...   253.916 secs...\n",
      "Checking file AB2_212760_Rest1_ds_GA_rE_rL_ds_flt_rr_Dqrs_Rbcg_ASR_rr_eog_ica_mara_proj_rSE.set\n",
      "Reading G:\\ABP_PreprocessedEEG\\AB2_212760_Rest1_ds_GA_rE_rL_ds_flt_rr_Dqrs_Rbcg_ASR_rr_eog_ica_mara_proj_rSE.fdt\n",
      "Reading 0 ... 76114  =      0.000 ...   304.456 secs...\n"
     ]
    },
    {
     "name": "stderr",
     "output_type": "stream",
     "text": [
      "C:\\Users\\locha\\AppData\\Local\\Temp\\ipykernel_7852\\1156392699.py:8: RuntimeWarning: Limited 2 annotation(s) that were expanding outside the data range.\n",
      "  raw = mne.io.read_raw_eeglab(filepath, preload=True)\n",
      "C:\\Users\\locha\\AppData\\Local\\Temp\\ipykernel_7852\\1156392699.py:8: RuntimeWarning: The data contains 'boundary' events, indicating data discontinuities. Be cautious of filtering and epoching around these events.\n",
      "  raw = mne.io.read_raw_eeglab(filepath, preload=True)\n"
     ]
    },
    {
     "name": "stdout",
     "output_type": "stream",
     "text": [
      "Checking file AB2_212782_Rest1_ds_GA_rE_rL_ds_flt_rr_Dqrs_Rbcg_ASR_rr_eog_ica_mara_proj_rSE.set\n",
      "Reading G:\\ABP_PreprocessedEEG\\AB2_212782_Rest1_ds_GA_rE_rL_ds_flt_rr_Dqrs_Rbcg_ASR_rr_eog_ica_mara_proj_rSE.fdt\n",
      "Reading 0 ... 72169  =      0.000 ...   288.676 secs...\n"
     ]
    },
    {
     "name": "stderr",
     "output_type": "stream",
     "text": [
      "C:\\Users\\locha\\AppData\\Local\\Temp\\ipykernel_7852\\1156392699.py:8: RuntimeWarning: The data contains 'boundary' events, indicating data discontinuities. Be cautious of filtering and epoching around these events.\n",
      "  raw = mne.io.read_raw_eeglab(filepath, preload=True)\n",
      "C:\\Users\\locha\\AppData\\Local\\Temp\\ipykernel_7852\\1156392699.py:8: RuntimeWarning: The data contains 'boundary' events, indicating data discontinuities. Be cautious of filtering and epoching around these events.\n",
      "  raw = mne.io.read_raw_eeglab(filepath, preload=True)\n"
     ]
    },
    {
     "name": "stdout",
     "output_type": "stream",
     "text": [
      "Checking file AB2_212819_Rest1_ds_GA_rE_rL_ds_flt_rr_Dqrs_Rbcg_ASR_rr_eog_ica_mara_proj_rSE.set\n",
      "Reading G:\\ABP_PreprocessedEEG\\AB2_212819_Rest1_ds_GA_rE_rL_ds_flt_rr_Dqrs_Rbcg_ASR_rr_eog_ica_mara_proj_rSE.fdt\n",
      "Reading 0 ... 77204  =      0.000 ...   308.816 secs...\n",
      "Checking file AB2_212820_Rest1_ds_GA_rE_rL_ds_flt_rr_Dqrs_Rbcg_ASR_rr_eog_ica_mara_proj_rSE.set\n",
      "Reading G:\\ABP_PreprocessedEEG\\AB2_212820_Rest1_ds_GA_rE_rL_ds_flt_rr_Dqrs_Rbcg_ASR_rr_eog_ica_mara_proj_rSE.fdt\n",
      "Reading 0 ... 80319  =      0.000 ...   321.276 secs...\n"
     ]
    },
    {
     "name": "stderr",
     "output_type": "stream",
     "text": [
      "C:\\Users\\locha\\AppData\\Local\\Temp\\ipykernel_7852\\1156392699.py:8: RuntimeWarning: Limited 1 annotation(s) that were expanding outside the data range.\n",
      "  raw = mne.io.read_raw_eeglab(filepath, preload=True)\n",
      "C:\\Users\\locha\\AppData\\Local\\Temp\\ipykernel_7852\\1156392699.py:8: RuntimeWarning: The data contains 'boundary' events, indicating data discontinuities. Be cautious of filtering and epoching around these events.\n",
      "  raw = mne.io.read_raw_eeglab(filepath, preload=True)\n"
     ]
    },
    {
     "name": "stdout",
     "output_type": "stream",
     "text": [
      "Checking file AB2_212840_Rest1_ds_GA_rE_rL_ds_flt_rr_Dqrs_Rbcg_ASR_rr_eog_ica_mara_proj_rSE.set\n",
      "Reading G:\\ABP_PreprocessedEEG\\AB2_212840_Rest1_ds_GA_rE_rL_ds_flt_rr_Dqrs_Rbcg_ASR_rr_eog_ica_mara_proj_rSE.fdt\n",
      "Reading 0 ... 79734  =      0.000 ...   318.936 secs...\n"
     ]
    },
    {
     "name": "stderr",
     "output_type": "stream",
     "text": [
      "C:\\Users\\locha\\AppData\\Local\\Temp\\ipykernel_7852\\1156392699.py:8: RuntimeWarning: The data contains 'boundary' events, indicating data discontinuities. Be cautious of filtering and epoching around these events.\n",
      "  raw = mne.io.read_raw_eeglab(filepath, preload=True)\n"
     ]
    },
    {
     "name": "stdout",
     "output_type": "stream",
     "text": [
      "Checking file AB2_213033_Rest1_ds_GA_rE_rL_ds_flt_rr_Dqrs_Rbcg_ASR_rr_eog_ica_mara_proj_rSE.set\n",
      "Reading G:\\ABP_PreprocessedEEG\\AB2_213033_Rest1_ds_GA_rE_rL_ds_flt_rr_Dqrs_Rbcg_ASR_rr_eog_ica_mara_proj_rSE.fdt\n",
      "Reading 0 ... 64639  =      0.000 ...   258.556 secs...\n"
     ]
    },
    {
     "name": "stderr",
     "output_type": "stream",
     "text": [
      "C:\\Users\\locha\\AppData\\Local\\Temp\\ipykernel_7852\\1156392699.py:8: RuntimeWarning: The data contains 'boundary' events, indicating data discontinuities. Be cautious of filtering and epoching around these events.\n",
      "  raw = mne.io.read_raw_eeglab(filepath, preload=True)\n",
      "C:\\Users\\locha\\AppData\\Local\\Temp\\ipykernel_7852\\1156392699.py:8: RuntimeWarning: Limited 2 annotation(s) that were expanding outside the data range.\n",
      "  raw = mne.io.read_raw_eeglab(filepath, preload=True)\n",
      "C:\\Users\\locha\\AppData\\Local\\Temp\\ipykernel_7852\\1156392699.py:8: RuntimeWarning: The data contains 'boundary' events, indicating data discontinuities. Be cautious of filtering and epoching around these events.\n",
      "  raw = mne.io.read_raw_eeglab(filepath, preload=True)\n"
     ]
    },
    {
     "name": "stdout",
     "output_type": "stream",
     "text": [
      "Checking file AB2_213075_Rest1_ds_GA_rE_rL_ds_flt_rr_Dqrs_Rbcg_ASR_rr_eog_ica_mara_proj_rSE.set\n",
      "Reading G:\\ABP_PreprocessedEEG\\AB2_213075_Rest1_ds_GA_rE_rL_ds_flt_rr_Dqrs_Rbcg_ASR_rr_eog_ica_mara_proj_rSE.fdt\n",
      "Reading 0 ... 75589  =      0.000 ...   302.356 secs...\n",
      "Checking file AB2_213193_Rest1_ds_GA_rE_rL_ds_flt_rr_Dqrs_Rbcg_ASR_rr_eog_ica_mara_proj_rSE.set\n",
      "Reading G:\\ABP_PreprocessedEEG\\AB2_213193_Rest1_ds_GA_rE_rL_ds_flt_rr_Dqrs_Rbcg_ASR_rr_eog_ica_mara_proj_rSE.fdt\n",
      "Reading 0 ... 78044  =      0.000 ...   312.176 secs...\n"
     ]
    },
    {
     "name": "stderr",
     "output_type": "stream",
     "text": [
      "C:\\Users\\locha\\AppData\\Local\\Temp\\ipykernel_7852\\1156392699.py:8: RuntimeWarning: The data contains 'boundary' events, indicating data discontinuities. Be cautious of filtering and epoching around these events.\n",
      "  raw = mne.io.read_raw_eeglab(filepath, preload=True)\n",
      "C:\\Users\\locha\\AppData\\Local\\Temp\\ipykernel_7852\\1156392699.py:8: RuntimeWarning: Limited 1 annotation(s) that were expanding outside the data range.\n",
      "  raw = mne.io.read_raw_eeglab(filepath, preload=True)\n",
      "C:\\Users\\locha\\AppData\\Local\\Temp\\ipykernel_7852\\1156392699.py:8: RuntimeWarning: The data contains 'boundary' events, indicating data discontinuities. Be cautious of filtering and epoching around these events.\n",
      "  raw = mne.io.read_raw_eeglab(filepath, preload=True)\n"
     ]
    },
    {
     "name": "stdout",
     "output_type": "stream",
     "text": [
      "Checking file AB2_213194_Rest1_ds_GA_rE_rL_ds_flt_rr_Dqrs_Rbcg_ASR_rr_eog_ica_mara_proj_rSE.set\n",
      "Reading G:\\ABP_PreprocessedEEG\\AB2_213194_Rest1_ds_GA_rE_rL_ds_flt_rr_Dqrs_Rbcg_ASR_rr_eog_ica_mara_proj_rSE.fdt\n",
      "Reading 0 ... 78389  =      0.000 ...   313.556 secs...\n",
      "Checking file AB2_213212_Rest1_ds_GA_rE_rL_ds_flt_rr_Dqrs_Rbcg_ASR_rr_eog_ica_mara_proj_rSE.set\n",
      "Reading G:\\ABP_PreprocessedEEG\\AB2_213212_Rest1_ds_GA_rE_rL_ds_flt_rr_Dqrs_Rbcg_ASR_rr_eog_ica_mara_proj_rSE.fdt\n",
      "Reading 0 ... 74834  =      0.000 ...   299.336 secs...\n"
     ]
    },
    {
     "name": "stderr",
     "output_type": "stream",
     "text": [
      "C:\\Users\\locha\\AppData\\Local\\Temp\\ipykernel_7852\\1156392699.py:8: RuntimeWarning: The data contains 'boundary' events, indicating data discontinuities. Be cautious of filtering and epoching around these events.\n",
      "  raw = mne.io.read_raw_eeglab(filepath, preload=True)\n"
     ]
    },
    {
     "name": "stdout",
     "output_type": "stream",
     "text": [
      "Checking file AB2_213325_Rest1_ds_GA_rE_rL_ds_flt_rr_Dqrs_Rbcg_ASR_rr_eog_ica_mara_proj_rSE.set\n",
      "Reading G:\\ABP_PreprocessedEEG\\AB2_213325_Rest1_ds_GA_rE_rL_ds_flt_rr_Dqrs_Rbcg_ASR_rr_eog_ica_mara_proj_rSE.fdt\n",
      "Reading 0 ... 77879  =      0.000 ...   311.516 secs...\n"
     ]
    },
    {
     "name": "stderr",
     "output_type": "stream",
     "text": [
      "C:\\Users\\locha\\AppData\\Local\\Temp\\ipykernel_7852\\1156392699.py:8: RuntimeWarning: The data contains 'boundary' events, indicating data discontinuities. Be cautious of filtering and epoching around these events.\n",
      "  raw = mne.io.read_raw_eeglab(filepath, preload=True)\n"
     ]
    },
    {
     "name": "stdout",
     "output_type": "stream",
     "text": [
      "Checking file AB3_110146_Rest1_ds_GA_rE_rL_ds_flt_rr_Dqrs_Rbcg_ASR_rr_eog_ica_mara_proj_rSE.set\n",
      "Reading G:\\ABP_PreprocessedEEG\\AB3_110146_Rest1_ds_GA_rE_rL_ds_flt_rr_Dqrs_Rbcg_ASR_rr_eog_ica_mara_proj_rSE.fdt\n",
      "Reading 0 ... 77094  =      0.000 ...   308.376 secs...\n"
     ]
    },
    {
     "name": "stderr",
     "output_type": "stream",
     "text": [
      "C:\\Users\\locha\\AppData\\Local\\Temp\\ipykernel_7852\\1156392699.py:8: RuntimeWarning: The data contains 'boundary' events, indicating data discontinuities. Be cautious of filtering and epoching around these events.\n",
      "  raw = mne.io.read_raw_eeglab(filepath, preload=True)\n"
     ]
    },
    {
     "name": "stdout",
     "output_type": "stream",
     "text": [
      "Checking file AB3_202503_Rest1_ds_GA_rE_rL_ds_flt_rr_Dqrs_Rbcg_ASR_rr_eog_ica_mara_proj_rSE.set\n",
      "Reading G:\\ABP_PreprocessedEEG\\AB3_202503_Rest1_ds_GA_rE_rL_ds_flt_rr_Dqrs_Rbcg_ASR_rr_eog_ica_mara_proj_rSE.fdt\n",
      "Reading 0 ... 72659  =      0.000 ...   290.636 secs...\n"
     ]
    },
    {
     "name": "stderr",
     "output_type": "stream",
     "text": [
      "C:\\Users\\locha\\AppData\\Local\\Temp\\ipykernel_7852\\1156392699.py:8: RuntimeWarning: The data contains 'boundary' events, indicating data discontinuities. Be cautious of filtering and epoching around these events.\n",
      "  raw = mne.io.read_raw_eeglab(filepath, preload=True)\n",
      "C:\\Users\\locha\\AppData\\Local\\Temp\\ipykernel_7852\\1156392699.py:8: RuntimeWarning: The data contains 'boundary' events, indicating data discontinuities. Be cautious of filtering and epoching around these events.\n",
      "  raw = mne.io.read_raw_eeglab(filepath, preload=True)\n"
     ]
    },
    {
     "name": "stdout",
     "output_type": "stream",
     "text": [
      "Checking file AB3_209767_Rest1_ds_GA_rE_rL_ds_flt_rr_Dqrs_Rbcg_ASR_rr_eog_ica_mara_proj_rSE.set\n",
      "Reading G:\\ABP_PreprocessedEEG\\AB3_209767_Rest1_ds_GA_rE_rL_ds_flt_rr_Dqrs_Rbcg_ASR_rr_eog_ica_mara_proj_rSE.fdt\n",
      "Reading 0 ... 67504  =      0.000 ...   270.016 secs...\n",
      "Checking file AB3_211236_Rest1_ds_GA_rE_rL_ds_flt_rr_Dqrs_Rbcg_ASR_rr_eog_ica_mara_proj_rSE.set\n",
      "Reading G:\\ABP_PreprocessedEEG\\AB3_211236_Rest1_ds_GA_rE_rL_ds_flt_rr_Dqrs_Rbcg_ASR_rr_eog_ica_mara_proj_rSE.fdt\n",
      "Reading 0 ... 59429  =      0.000 ...   237.716 secs...\n"
     ]
    },
    {
     "name": "stderr",
     "output_type": "stream",
     "text": [
      "C:\\Users\\locha\\AppData\\Local\\Temp\\ipykernel_7852\\1156392699.py:8: RuntimeWarning: Limited 1 annotation(s) that were expanding outside the data range.\n",
      "  raw = mne.io.read_raw_eeglab(filepath, preload=True)\n",
      "C:\\Users\\locha\\AppData\\Local\\Temp\\ipykernel_7852\\1156392699.py:8: RuntimeWarning: The data contains 'boundary' events, indicating data discontinuities. Be cautious of filtering and epoching around these events.\n",
      "  raw = mne.io.read_raw_eeglab(filepath, preload=True)\n",
      "C:\\Users\\locha\\AppData\\Local\\Temp\\ipykernel_7852\\1156392699.py:8: RuntimeWarning: Limited 2 annotation(s) that were expanding outside the data range.\n",
      "  raw = mne.io.read_raw_eeglab(filepath, preload=True)\n",
      "C:\\Users\\locha\\AppData\\Local\\Temp\\ipykernel_7852\\1156392699.py:8: RuntimeWarning: The data contains 'boundary' events, indicating data discontinuities. Be cautious of filtering and epoching around these events.\n",
      "  raw = mne.io.read_raw_eeglab(filepath, preload=True)\n"
     ]
    },
    {
     "name": "stdout",
     "output_type": "stream",
     "text": [
      "Checking file AB3_211237_Rest1_ds_GA_rE_rL_ds_flt_rr_Dqrs_Rbcg_ASR_rr_eog_ica_mara_proj_rSE.set\n",
      "Reading G:\\ABP_PreprocessedEEG\\AB3_211237_Rest1_ds_GA_rE_rL_ds_flt_rr_Dqrs_Rbcg_ASR_rr_eog_ica_mara_proj_rSE.fdt\n",
      "Reading 0 ... 77779  =      0.000 ...   311.116 secs...\n",
      "Checking file AB3_211249_Rest1_ds_GA_rE_rL_ds_flt_rr_Dqrs_Rbcg_ASR_rr_eog_ica_mara_proj_rSE.set\n",
      "Reading G:\\ABP_PreprocessedEEG\\AB3_211249_Rest1_ds_GA_rE_rL_ds_flt_rr_Dqrs_Rbcg_ASR_rr_eog_ica_mara_proj_rSE.fdt\n",
      "Reading 0 ... 76204  =      0.000 ...   304.816 secs...\n"
     ]
    },
    {
     "name": "stderr",
     "output_type": "stream",
     "text": [
      "C:\\Users\\locha\\AppData\\Local\\Temp\\ipykernel_7852\\1156392699.py:8: RuntimeWarning: The data contains 'boundary' events, indicating data discontinuities. Be cautious of filtering and epoching around these events.\n",
      "  raw = mne.io.read_raw_eeglab(filepath, preload=True)\n"
     ]
    },
    {
     "name": "stdout",
     "output_type": "stream",
     "text": [
      "Checking file AB3_211250_Rest1_ds_GA_rE_rL_ds_flt_rr_Dqrs_Rbcg_ASR_rr_eog_ica_mara_proj_rSE.set\n",
      "Reading G:\\ABP_PreprocessedEEG\\AB3_211250_Rest1_ds_GA_rE_rL_ds_flt_rr_Dqrs_Rbcg_ASR_rr_eog_ica_mara_proj_rSE.fdt\n",
      "Reading 0 ... 72959  =      0.000 ...   291.836 secs...\n"
     ]
    },
    {
     "name": "stderr",
     "output_type": "stream",
     "text": [
      "C:\\Users\\locha\\AppData\\Local\\Temp\\ipykernel_7852\\1156392699.py:8: RuntimeWarning: Limited 1 annotation(s) that were expanding outside the data range.\n",
      "  raw = mne.io.read_raw_eeglab(filepath, preload=True)\n",
      "C:\\Users\\locha\\AppData\\Local\\Temp\\ipykernel_7852\\1156392699.py:8: RuntimeWarning: The data contains 'boundary' events, indicating data discontinuities. Be cautious of filtering and epoching around these events.\n",
      "  raw = mne.io.read_raw_eeglab(filepath, preload=True)\n"
     ]
    },
    {
     "name": "stdout",
     "output_type": "stream",
     "text": [
      "Checking file AB3_211275_Rest1_ds_GA_rE_rL_ds_flt_rr_Dqrs_Rbcg_ASR_rr_eog_ica_mara_proj_rSE.set\n",
      "Reading G:\\ABP_PreprocessedEEG\\AB3_211275_Rest1_ds_GA_rE_rL_ds_flt_rr_Dqrs_Rbcg_ASR_rr_eog_ica_mara_proj_rSE.fdt\n",
      "Reading 0 ... 78979  =      0.000 ...   315.916 secs...\n"
     ]
    },
    {
     "name": "stderr",
     "output_type": "stream",
     "text": [
      "C:\\Users\\locha\\AppData\\Local\\Temp\\ipykernel_7852\\1156392699.py:8: RuntimeWarning: The data contains 'boundary' events, indicating data discontinuities. Be cautious of filtering and epoching around these events.\n",
      "  raw = mne.io.read_raw_eeglab(filepath, preload=True)\n"
     ]
    },
    {
     "name": "stdout",
     "output_type": "stream",
     "text": [
      "Checking file AB3_211312_Rest1_ds_GA_rE_rL_ds_flt_rr_Dqrs_Rbcg_ASR_rr_eog_ica_mara_proj_rSE.set\n",
      "Reading G:\\ABP_PreprocessedEEG\\AB3_211312_Rest1_ds_GA_rE_rL_ds_flt_rr_Dqrs_Rbcg_ASR_rr_eog_ica_mara_proj_rSE.fdt\n",
      "Reading 0 ... 76769  =      0.000 ...   307.076 secs...\n"
     ]
    },
    {
     "name": "stderr",
     "output_type": "stream",
     "text": [
      "C:\\Users\\locha\\AppData\\Local\\Temp\\ipykernel_7852\\1156392699.py:8: RuntimeWarning: Limited 1 annotation(s) that were expanding outside the data range.\n",
      "  raw = mne.io.read_raw_eeglab(filepath, preload=True)\n",
      "C:\\Users\\locha\\AppData\\Local\\Temp\\ipykernel_7852\\1156392699.py:8: RuntimeWarning: The data contains 'boundary' events, indicating data discontinuities. Be cautious of filtering and epoching around these events.\n",
      "  raw = mne.io.read_raw_eeglab(filepath, preload=True)\n"
     ]
    },
    {
     "name": "stdout",
     "output_type": "stream",
     "text": [
      "Checking file AB3_211325_Rest1_ds_GA_rE_rL_ds_flt_rr_Dqrs_Rbcg_ASR_rr_eog_ica_mara_proj_rSE.set\n",
      "Reading G:\\ABP_PreprocessedEEG\\AB3_211325_Rest1_ds_GA_rE_rL_ds_flt_rr_Dqrs_Rbcg_ASR_rr_eog_ica_mara_proj_rSE.fdt\n",
      "Reading 0 ... 78224  =      0.000 ...   312.896 secs...\n"
     ]
    },
    {
     "name": "stderr",
     "output_type": "stream",
     "text": [
      "C:\\Users\\locha\\AppData\\Local\\Temp\\ipykernel_7852\\1156392699.py:8: RuntimeWarning: Limited 2 annotation(s) that were expanding outside the data range.\n",
      "  raw = mne.io.read_raw_eeglab(filepath, preload=True)\n",
      "C:\\Users\\locha\\AppData\\Local\\Temp\\ipykernel_7852\\1156392699.py:8: RuntimeWarning: The data contains 'boundary' events, indicating data discontinuities. Be cautious of filtering and epoching around these events.\n",
      "  raw = mne.io.read_raw_eeglab(filepath, preload=True)\n"
     ]
    },
    {
     "name": "stdout",
     "output_type": "stream",
     "text": [
      "Checking file AB3_211326_Rest1_ds_GA_rE_rL_ds_flt_rr_Dqrs_Rbcg_ASR_rr_eog_ica_mara_proj_rSE.set\n",
      "Reading G:\\ABP_PreprocessedEEG\\AB3_211326_Rest1_ds_GA_rE_rL_ds_flt_rr_Dqrs_Rbcg_ASR_rr_eog_ica_mara_proj_rSE.fdt\n",
      "Reading 0 ... 75609  =      0.000 ...   302.436 secs...\n"
     ]
    },
    {
     "name": "stderr",
     "output_type": "stream",
     "text": [
      "C:\\Users\\locha\\AppData\\Local\\Temp\\ipykernel_7852\\1156392699.py:8: RuntimeWarning: The data contains 'boundary' events, indicating data discontinuities. Be cautious of filtering and epoching around these events.\n",
      "  raw = mne.io.read_raw_eeglab(filepath, preload=True)\n"
     ]
    },
    {
     "name": "stdout",
     "output_type": "stream",
     "text": [
      "Checking file AB3_211340_Rest1_ds_GA_rE_rL_ds_flt_rr_Dqrs_Rbcg_ASR_rr_eog_ica_mara_proj_rSE.set\n",
      "Reading G:\\ABP_PreprocessedEEG\\AB3_211340_Rest1_ds_GA_rE_rL_ds_flt_rr_Dqrs_Rbcg_ASR_rr_eog_ica_mara_proj_rSE.fdt\n",
      "Reading 0 ... 81414  =      0.000 ...   325.656 secs...\n"
     ]
    },
    {
     "name": "stderr",
     "output_type": "stream",
     "text": [
      "C:\\Users\\locha\\AppData\\Local\\Temp\\ipykernel_7852\\1156392699.py:8: RuntimeWarning: The data contains 'boundary' events, indicating data discontinuities. Be cautious of filtering and epoching around these events.\n",
      "  raw = mne.io.read_raw_eeglab(filepath, preload=True)\n",
      "C:\\Users\\locha\\AppData\\Local\\Temp\\ipykernel_7852\\1156392699.py:8: RuntimeWarning: The data contains 'boundary' events, indicating data discontinuities. Be cautious of filtering and epoching around these events.\n",
      "  raw = mne.io.read_raw_eeglab(filepath, preload=True)\n"
     ]
    },
    {
     "name": "stdout",
     "output_type": "stream",
     "text": [
      "Checking file AB3_211670_Rest1_ds_GA_rE_rL_ds_flt_rr_Dqrs_Rbcg_ASR_rr_eog_ica_mara_proj_rSE.set\n",
      "Reading G:\\ABP_PreprocessedEEG\\AB3_211670_Rest1_ds_GA_rE_rL_ds_flt_rr_Dqrs_Rbcg_ASR_rr_eog_ica_mara_proj_rSE.fdt\n",
      "Reading 0 ... 80654  =      0.000 ...   322.616 secs...\n",
      "Checking file AB3_211694_Rest1_ds_GA_rE_rL_ds_flt_rr_Dqrs_Rbcg_ASR_rr_eog_ica_mara_proj_rSE.set\n",
      "Reading G:\\ABP_PreprocessedEEG\\AB3_211694_Rest1_ds_GA_rE_rL_ds_flt_rr_Dqrs_Rbcg_ASR_rr_eog_ica_mara_proj_rSE.fdt\n",
      "Reading 0 ... 77969  =      0.000 ...   311.876 secs...\n"
     ]
    },
    {
     "name": "stderr",
     "output_type": "stream",
     "text": [
      "C:\\Users\\locha\\AppData\\Local\\Temp\\ipykernel_7852\\1156392699.py:8: RuntimeWarning: The data contains 'boundary' events, indicating data discontinuities. Be cautious of filtering and epoching around these events.\n",
      "  raw = mne.io.read_raw_eeglab(filepath, preload=True)\n",
      "C:\\Users\\locha\\AppData\\Local\\Temp\\ipykernel_7852\\1156392699.py:8: RuntimeWarning: Limited 1 annotation(s) that were expanding outside the data range.\n",
      "  raw = mne.io.read_raw_eeglab(filepath, preload=True)\n",
      "C:\\Users\\locha\\AppData\\Local\\Temp\\ipykernel_7852\\1156392699.py:8: RuntimeWarning: The data contains 'boundary' events, indicating data discontinuities. Be cautious of filtering and epoching around these events.\n",
      "  raw = mne.io.read_raw_eeglab(filepath, preload=True)\n"
     ]
    },
    {
     "name": "stdout",
     "output_type": "stream",
     "text": [
      "Checking file AB3_212027_Rest1_ds_GA_rE_rL_ds_flt_rr_Dqrs_Rbcg_ASR_rr_eog_ica_mara_proj_rSE.set\n",
      "Reading G:\\ABP_PreprocessedEEG\\AB3_212027_Rest1_ds_GA_rE_rL_ds_flt_rr_Dqrs_Rbcg_ASR_rr_eog_ica_mara_proj_rSE.fdt\n",
      "Reading 0 ... 79139  =      0.000 ...   316.556 secs...\n",
      "Checking file AB3_212049_Rest1_ds_GA_rE_rL_ds_flt_rr_Dqrs_Rbcg_ASR_rr_eog_ica_mara_proj_rSE.set\n",
      "Reading G:\\ABP_PreprocessedEEG\\AB3_212049_Rest1_ds_GA_rE_rL_ds_flt_rr_Dqrs_Rbcg_ASR_rr_eog_ica_mara_proj_rSE.fdt\n",
      "Reading 0 ... 66989  =      0.000 ...   267.956 secs...\n"
     ]
    },
    {
     "name": "stderr",
     "output_type": "stream",
     "text": [
      "C:\\Users\\locha\\AppData\\Local\\Temp\\ipykernel_7852\\1156392699.py:8: RuntimeWarning: The data contains 'boundary' events, indicating data discontinuities. Be cautious of filtering and epoching around these events.\n",
      "  raw = mne.io.read_raw_eeglab(filepath, preload=True)\n"
     ]
    },
    {
     "name": "stdout",
     "output_type": "stream",
     "text": [
      "Checking file AB3_212336_Rest1_ds_GA_rE_rL_ds_flt_rr_Dqrs_Rbcg_ASR_rr_eog_ica_mara_proj_rSE.set\n",
      "Reading G:\\ABP_PreprocessedEEG\\AB3_212336_Rest1_ds_GA_rE_rL_ds_flt_rr_Dqrs_Rbcg_ASR_rr_eog_ica_mara_proj_rSE.fdt\n",
      "Reading 0 ... 67439  =      0.000 ...   269.756 secs...\n"
     ]
    },
    {
     "name": "stderr",
     "output_type": "stream",
     "text": [
      "C:\\Users\\locha\\AppData\\Local\\Temp\\ipykernel_7852\\1156392699.py:8: RuntimeWarning: Limited 1 annotation(s) that were expanding outside the data range.\n",
      "  raw = mne.io.read_raw_eeglab(filepath, preload=True)\n",
      "C:\\Users\\locha\\AppData\\Local\\Temp\\ipykernel_7852\\1156392699.py:8: RuntimeWarning: The data contains 'boundary' events, indicating data discontinuities. Be cautious of filtering and epoching around these events.\n",
      "  raw = mne.io.read_raw_eeglab(filepath, preload=True)\n",
      "C:\\Users\\locha\\AppData\\Local\\Temp\\ipykernel_7852\\1156392699.py:8: RuntimeWarning: Limited 1 annotation(s) that were expanding outside the data range.\n",
      "  raw = mne.io.read_raw_eeglab(filepath, preload=True)\n",
      "C:\\Users\\locha\\AppData\\Local\\Temp\\ipykernel_7852\\1156392699.py:8: RuntimeWarning: The data contains 'boundary' events, indicating data discontinuities. Be cautious of filtering and epoching around these events.\n",
      "  raw = mne.io.read_raw_eeglab(filepath, preload=True)\n"
     ]
    },
    {
     "name": "stdout",
     "output_type": "stream",
     "text": [
      "Checking file AB3_212577_Rest1_ds_GA_rE_rL_ds_flt_rr_Dqrs_Rbcg_ASR_rr_eog_ica_mara_proj_rSE.set\n",
      "Reading G:\\ABP_PreprocessedEEG\\AB3_212577_Rest1_ds_GA_rE_rL_ds_flt_rr_Dqrs_Rbcg_ASR_rr_eog_ica_mara_proj_rSE.fdt\n",
      "Reading 0 ... 76444  =      0.000 ...   305.776 secs...\n",
      "Checking file AB3_212578_Rest1_ds_GA_rE_rL_ds_flt_rr_Dqrs_Rbcg_ASR_rr_eog_ica_mara_proj_rSE.set\n",
      "Reading G:\\ABP_PreprocessedEEG\\AB3_212578_Rest1_ds_GA_rE_rL_ds_flt_rr_Dqrs_Rbcg_ASR_rr_eog_ica_mara_proj_rSE.fdt\n",
      "Reading 0 ... 77629  =      0.000 ...   310.516 secs...\n"
     ]
    },
    {
     "name": "stderr",
     "output_type": "stream",
     "text": [
      "C:\\Users\\locha\\AppData\\Local\\Temp\\ipykernel_7852\\1156392699.py:8: RuntimeWarning: Limited 1 annotation(s) that were expanding outside the data range.\n",
      "  raw = mne.io.read_raw_eeglab(filepath, preload=True)\n",
      "C:\\Users\\locha\\AppData\\Local\\Temp\\ipykernel_7852\\1156392699.py:8: RuntimeWarning: The data contains 'boundary' events, indicating data discontinuities. Be cautious of filtering and epoching around these events.\n",
      "  raw = mne.io.read_raw_eeglab(filepath, preload=True)\n"
     ]
    },
    {
     "name": "stdout",
     "output_type": "stream",
     "text": [
      "Checking file AB3_212590_Rest1_ds_GA_rE_rL_ds_flt_rr_Dqrs_Rbcg_ASR_rr_eog_ica_mara_proj_rSE.set\n",
      "Reading G:\\ABP_PreprocessedEEG\\AB3_212590_Rest1_ds_GA_rE_rL_ds_flt_rr_Dqrs_Rbcg_ASR_rr_eog_ica_mara_proj_rSE.fdt\n",
      "Reading 0 ... 72744  =      0.000 ...   290.976 secs...\n"
     ]
    },
    {
     "name": "stderr",
     "output_type": "stream",
     "text": [
      "C:\\Users\\locha\\AppData\\Local\\Temp\\ipykernel_7852\\1156392699.py:8: RuntimeWarning: The data contains 'boundary' events, indicating data discontinuities. Be cautious of filtering and epoching around these events.\n",
      "  raw = mne.io.read_raw_eeglab(filepath, preload=True)\n"
     ]
    },
    {
     "name": "stdout",
     "output_type": "stream",
     "text": [
      "Checking file AB3_212595_Rest1_ds_GA_rE_rL_ds_flt_rr_Dqrs_Rbcg_ASR_rr_eog_ica_mara_proj_rSE.set\n",
      "Reading G:\\ABP_PreprocessedEEG\\AB3_212595_Rest1_ds_GA_rE_rL_ds_flt_rr_Dqrs_Rbcg_ASR_rr_eog_ica_mara_proj_rSE.fdt\n",
      "Reading 0 ... 76245  =      0.000 ...   304.980 secs...\n"
     ]
    },
    {
     "name": "stderr",
     "output_type": "stream",
     "text": [
      "C:\\Users\\locha\\AppData\\Local\\Temp\\ipykernel_7852\\1156392699.py:8: RuntimeWarning: The data contains 'boundary' events, indicating data discontinuities. Be cautious of filtering and epoching around these events.\n",
      "  raw = mne.io.read_raw_eeglab(filepath, preload=True)\n",
      "C:\\Users\\locha\\AppData\\Local\\Temp\\ipykernel_7852\\1156392699.py:8: RuntimeWarning: Limited 1 annotation(s) that were expanding outside the data range.\n",
      "  raw = mne.io.read_raw_eeglab(filepath, preload=True)\n",
      "C:\\Users\\locha\\AppData\\Local\\Temp\\ipykernel_7852\\1156392699.py:8: RuntimeWarning: The data contains 'boundary' events, indicating data discontinuities. Be cautious of filtering and epoching around these events.\n",
      "  raw = mne.io.read_raw_eeglab(filepath, preload=True)\n"
     ]
    },
    {
     "name": "stdout",
     "output_type": "stream",
     "text": [
      "Checking file AB3_212654_Rest1_ds_GA_rE_rL_ds_flt_rr_Dqrs_Rbcg_ASR_rr_eog_ica_mara_proj_rSE.set\n",
      "Reading G:\\ABP_PreprocessedEEG\\AB3_212654_Rest1_ds_GA_rE_rL_ds_flt_rr_Dqrs_Rbcg_ASR_rr_eog_ica_mara_proj_rSE.fdt\n",
      "Reading 0 ... 69659  =      0.000 ...   278.636 secs...\n",
      "Checking file AB3_212751_Rest1_ds_GA_rE_rL_ds_flt_rr_Dqrs_Rbcg_ASR_rr_eog_ica_mara_proj_rSE.set\n",
      "Reading G:\\ABP_PreprocessedEEG\\AB3_212751_Rest1_ds_GA_rE_rL_ds_flt_rr_Dqrs_Rbcg_ASR_rr_eog_ica_mara_proj_rSE.fdt\n",
      "Reading 0 ... 64589  =      0.000 ...   258.356 secs...\n"
     ]
    },
    {
     "name": "stderr",
     "output_type": "stream",
     "text": [
      "C:\\Users\\locha\\AppData\\Local\\Temp\\ipykernel_7852\\1156392699.py:8: RuntimeWarning: The data contains 'boundary' events, indicating data discontinuities. Be cautious of filtering and epoching around these events.\n",
      "  raw = mne.io.read_raw_eeglab(filepath, preload=True)\n",
      "C:\\Users\\locha\\AppData\\Local\\Temp\\ipykernel_7852\\1156392699.py:8: RuntimeWarning: Limited 1 annotation(s) that were expanding outside the data range.\n",
      "  raw = mne.io.read_raw_eeglab(filepath, preload=True)\n",
      "C:\\Users\\locha\\AppData\\Local\\Temp\\ipykernel_7852\\1156392699.py:8: RuntimeWarning: The data contains 'boundary' events, indicating data discontinuities. Be cautious of filtering and epoching around these events.\n",
      "  raw = mne.io.read_raw_eeglab(filepath, preload=True)\n"
     ]
    },
    {
     "name": "stdout",
     "output_type": "stream",
     "text": [
      "Checking file AB3_212769_Rest1_ds_GA_rE_rL_ds_flt_rr_Dqrs_Rbcg_ASR_rr_eog_ica_mara_proj_rSE.set\n",
      "Reading G:\\ABP_PreprocessedEEG\\AB3_212769_Rest1_ds_GA_rE_rL_ds_flt_rr_Dqrs_Rbcg_ASR_rr_eog_ica_mara_proj_rSE.fdt\n",
      "Reading 0 ... 74924  =      0.000 ...   299.696 secs...\n",
      "Checking file AB3_212976_Rest1_ds_GA_rE_rL_ds_flt_rr_Dqrs_Rbcg_ASR_rr_eog_ica_mara_proj_rSE.set\n",
      "Reading G:\\ABP_PreprocessedEEG\\AB3_212976_Rest1_ds_GA_rE_rL_ds_flt_rr_Dqrs_Rbcg_ASR_rr_eog_ica_mara_proj_rSE.fdt\n",
      "Reading 0 ... 78224  =      0.000 ...   312.896 secs...\n"
     ]
    },
    {
     "name": "stderr",
     "output_type": "stream",
     "text": [
      "C:\\Users\\locha\\AppData\\Local\\Temp\\ipykernel_7852\\1156392699.py:8: RuntimeWarning: The data contains 'boundary' events, indicating data discontinuities. Be cautious of filtering and epoching around these events.\n",
      "  raw = mne.io.read_raw_eeglab(filepath, preload=True)\n",
      "C:\\Users\\locha\\AppData\\Local\\Temp\\ipykernel_7852\\1156392699.py:8: RuntimeWarning: Limited 1 annotation(s) that were expanding outside the data range.\n",
      "  raw = mne.io.read_raw_eeglab(filepath, preload=True)\n",
      "C:\\Users\\locha\\AppData\\Local\\Temp\\ipykernel_7852\\1156392699.py:8: RuntimeWarning: The data contains 'boundary' events, indicating data discontinuities. Be cautious of filtering and epoching around these events.\n",
      "  raw = mne.io.read_raw_eeglab(filepath, preload=True)\n"
     ]
    },
    {
     "name": "stdout",
     "output_type": "stream",
     "text": [
      "Missing channels report saved to missing_channels_report.xlsx\n"
     ]
    }
   ],
   "source": [
    "import mne\n",
    "import os\n",
    "import pandas as pd\n",
    "\n",
    "def check_missing_channels(filepath, target_channels):\n",
    "    try:\n",
    "        # Load the preprocessed .set file\n",
    "        raw = mne.io.read_raw_eeglab(filepath, preload=True)\n",
    "        # Identify missing channels\n",
    "        missing_channels = list(set(target_channels) - set(raw.ch_names))\n",
    "        return missing_channels\n",
    "    except Exception as e:\n",
    "        print(f\"Error processing file {filepath}: {e}\")\n",
    "        return None\n",
    "\n",
    "# Setup directories and process files\n",
    "directory = \"G:\\\\ABP_PreprocessedEEG\"\n",
    "target_channels = [\n",
    "    'FP1', 'FP2', 'F7', 'F3', 'FZ', 'F4', 'F8', 'T3', 'C3', 'CZ', 'C4', 'T4', 'T5', 'P3', 'PZ', 'P4', 'T6', 'O1', 'O2', \n",
    "    'FPZ', 'F1', 'F2', 'FT7', 'FC3', 'FCZ', 'FC4', 'FT8', 'C1', 'C2', 'TP7', 'CP3', 'CPZ', 'CP4', 'TP8', 'P1', 'P2', \n",
    "    'PO7', 'PO3', 'POZ', 'PO4', 'PO8', 'OZ', 'AF3', 'AF4', 'F5', 'F6', 'FT9', 'FT10', 'FC1', 'FC2', 'C5', 'C6', 'TP9', \n",
    "    'TP10', 'CP1', 'CP2', 'P5', 'P6', 'PO1', 'PO2', 'I1', 'I2', 'FTT7h', 'FTT8h'\n",
    "]\n",
    "\n",
    "# Verify the length of target_channels\n",
    "if len(target_channels) != 64:\n",
    "    raise ValueError(f\"The target_channels list must contain exactly 64 channels. Currently, it contains {len(target_channels)} channels.\")\n",
    "\n",
    "# List to store the results\n",
    "results = []\n",
    "\n",
    "for filename in os.listdir(directory):\n",
    "    if filename.endswith('.set'):\n",
    "        filepath = os.path.join(directory, filename)\n",
    "        print(f\"Checking file {filename}\")\n",
    "        missing_channels = check_missing_channels(filepath, target_channels)\n",
    "        if missing_channels is not None:\n",
    "            results.append({\n",
    "                'Filename': filename,\n",
    "                'Missing Channels': ', '.join(missing_channels)\n",
    "            })\n",
    "\n",
    "# Convert the results to a DataFrame\n",
    "df = pd.DataFrame(results)\n",
    "\n",
    "# Save the DataFrame to an Excel file\n",
    "output_file = \"missing_channels_report.xlsx\"\n",
    "df.to_excel(output_file, index=False)\n",
    "\n",
    "print(f\"Missing channels report saved to {output_file}\")\n"
   ]
  },
  {
   "cell_type": "code",
   "execution_count": 24,
   "id": "76a4d23c-c235-436b-af58-a3f6dcfb24b2",
   "metadata": {},
   "outputs": [
    {
     "name": "stdout",
     "output_type": "stream",
     "text": [
      "Reading G:\\ABP_PreprocessedEEG\\AB1_211180_Rest1_ds_GA_rE_rL_ds_flt_rr_Dqrs_Rbcg_ASR_rr_eog_ica_mara_proj_rSE.fdt\n",
      "Reading 0 ... 57494  =      0.000 ...   229.976 secs...\n",
      "Reading G:\\ABP_PreprocessedEEG\\AB1_211196_Rest1_ds_GA_rE_rL_ds_flt_rr_Dqrs_Rbcg_ASR_rr_eog_ica_mara_proj_rSE.fdt\n",
      "Reading 0 ... 76359  =      0.000 ...   305.436 secs...\n"
     ]
    },
    {
     "name": "stderr",
     "output_type": "stream",
     "text": [
      "C:\\Users\\locha\\AppData\\Local\\Temp\\ipykernel_7852\\968512103.py:9: RuntimeWarning: Limited 2 annotation(s) that were expanding outside the data range.\n",
      "  raw = mne.io.read_raw_eeglab(filepath, preload=True)\n",
      "C:\\Users\\locha\\AppData\\Local\\Temp\\ipykernel_7852\\968512103.py:9: RuntimeWarning: The data contains 'boundary' events, indicating data discontinuities. Be cautious of filtering and epoching around these events.\n",
      "  raw = mne.io.read_raw_eeglab(filepath, preload=True)\n",
      "C:\\Users\\locha\\AppData\\Local\\Temp\\ipykernel_7852\\968512103.py:9: RuntimeWarning: Limited 1 annotation(s) that were expanding outside the data range.\n",
      "  raw = mne.io.read_raw_eeglab(filepath, preload=True)\n",
      "C:\\Users\\locha\\AppData\\Local\\Temp\\ipykernel_7852\\968512103.py:9: RuntimeWarning: The data contains 'boundary' events, indicating data discontinuities. Be cautious of filtering and epoching around these events.\n",
      "  raw = mne.io.read_raw_eeglab(filepath, preload=True)\n"
     ]
    },
    {
     "name": "stdout",
     "output_type": "stream",
     "text": [
      "Reading G:\\ABP_PreprocessedEEG\\AB2_109077_Rest1_ds_GA_rE_rL_ds_flt_rr_Dqrs_Rbcg_ASR_rr_eog_ica_mara_proj_rSE.fdt\n",
      "Reading 0 ... 59294  =      0.000 ...   237.176 secs...\n",
      "Reading G:\\ABP_PreprocessedEEG\\AB2_206497_Rest1_ds_GA_rE_rL_ds_flt_rr_Dqrs_Rbcg_ASR_rr_eog_ica_mara_proj_rSE.fdt\n",
      "Reading 0 ... 71614  =      0.000 ...   286.456 secs...\n"
     ]
    },
    {
     "name": "stderr",
     "output_type": "stream",
     "text": [
      "C:\\Users\\locha\\AppData\\Local\\Temp\\ipykernel_7852\\968512103.py:9: RuntimeWarning: Limited 2 annotation(s) that were expanding outside the data range.\n",
      "  raw = mne.io.read_raw_eeglab(filepath, preload=True)\n",
      "C:\\Users\\locha\\AppData\\Local\\Temp\\ipykernel_7852\\968512103.py:9: RuntimeWarning: The data contains 'boundary' events, indicating data discontinuities. Be cautious of filtering and epoching around these events.\n",
      "  raw = mne.io.read_raw_eeglab(filepath, preload=True)\n"
     ]
    },
    {
     "name": "stdout",
     "output_type": "stream",
     "text": [
      "Reading G:\\ABP_PreprocessedEEG\\AB2_209170_Rest1_ds_GA_rE_rL_ds_flt_rr_Dqrs_Rbcg_ASR_rr_eog_ica_mara_proj_rSE.fdt\n",
      "Reading 0 ... 73419  =      0.000 ...   293.676 secs...\n"
     ]
    },
    {
     "name": "stderr",
     "output_type": "stream",
     "text": [
      "C:\\Users\\locha\\AppData\\Local\\Temp\\ipykernel_7852\\968512103.py:9: RuntimeWarning: Limited 2 annotation(s) that were expanding outside the data range.\n",
      "  raw = mne.io.read_raw_eeglab(filepath, preload=True)\n",
      "C:\\Users\\locha\\AppData\\Local\\Temp\\ipykernel_7852\\968512103.py:9: RuntimeWarning: The data contains 'boundary' events, indicating data discontinuities. Be cautious of filtering and epoching around these events.\n",
      "  raw = mne.io.read_raw_eeglab(filepath, preload=True)\n",
      "C:\\Users\\locha\\AppData\\Local\\Temp\\ipykernel_7852\\968512103.py:9: RuntimeWarning: Limited 1 annotation(s) that were expanding outside the data range.\n",
      "  raw = mne.io.read_raw_eeglab(filepath, preload=True)\n",
      "C:\\Users\\locha\\AppData\\Local\\Temp\\ipykernel_7852\\968512103.py:9: RuntimeWarning: The data contains 'boundary' events, indicating data discontinuities. Be cautious of filtering and epoching around these events.\n",
      "  raw = mne.io.read_raw_eeglab(filepath, preload=True)\n"
     ]
    },
    {
     "name": "stdout",
     "output_type": "stream",
     "text": [
      "Reading G:\\ABP_PreprocessedEEG\\AB2_210495_Rest1_ds_GA_rE_rL_ds_flt_rr_Dqrs_Rbcg_ASR_rr_eog_ica_mara_proj_rSE.fdt\n",
      "Reading 0 ... 79909  =      0.000 ...   319.636 secs...\n",
      "Reading G:\\ABP_PreprocessedEEG\\AB2_211334_Rest1_ds_GA_rE_rL_ds_flt_rr_Dqrs_Rbcg_ASR_rr_eog_ica_mara_proj_rSE.fdt\n",
      "Reading 0 ... 72004  =      0.000 ...   288.016 secs...\n"
     ]
    },
    {
     "name": "stderr",
     "output_type": "stream",
     "text": [
      "C:\\Users\\locha\\AppData\\Local\\Temp\\ipykernel_7852\\968512103.py:9: RuntimeWarning: The data contains 'boundary' events, indicating data discontinuities. Be cautious of filtering and epoching around these events.\n",
      "  raw = mne.io.read_raw_eeglab(filepath, preload=True)\n"
     ]
    },
    {
     "name": "stdout",
     "output_type": "stream",
     "text": [
      "Reading G:\\ABP_PreprocessedEEG\\AB2_211629_Rest1_ds_GA_rE_rL_ds_flt_rr_Dqrs_Rbcg_ASR_rr_eog_ica_mara_proj_rSE.fdt\n",
      "Reading 0 ... 73579  =      0.000 ...   294.316 secs...\n"
     ]
    },
    {
     "name": "stderr",
     "output_type": "stream",
     "text": [
      "C:\\Users\\locha\\AppData\\Local\\Temp\\ipykernel_7852\\968512103.py:9: RuntimeWarning: Limited 1 annotation(s) that were expanding outside the data range.\n",
      "  raw = mne.io.read_raw_eeglab(filepath, preload=True)\n",
      "C:\\Users\\locha\\AppData\\Local\\Temp\\ipykernel_7852\\968512103.py:9: RuntimeWarning: The data contains 'boundary' events, indicating data discontinuities. Be cautious of filtering and epoching around these events.\n",
      "  raw = mne.io.read_raw_eeglab(filepath, preload=True)\n",
      "C:\\Users\\locha\\AppData\\Local\\Temp\\ipykernel_7852\\968512103.py:9: RuntimeWarning: Limited 1 annotation(s) that were expanding outside the data range.\n",
      "  raw = mne.io.read_raw_eeglab(filepath, preload=True)\n",
      "C:\\Users\\locha\\AppData\\Local\\Temp\\ipykernel_7852\\968512103.py:9: RuntimeWarning: The data contains 'boundary' events, indicating data discontinuities. Be cautious of filtering and epoching around these events.\n",
      "  raw = mne.io.read_raw_eeglab(filepath, preload=True)\n"
     ]
    },
    {
     "name": "stdout",
     "output_type": "stream",
     "text": [
      "Reading G:\\ABP_PreprocessedEEG\\AB2_211630_Rest1_ds_GA_rE_rL_ds_flt_rr_Dqrs_Rbcg_ASR_rr_eog_ica_mara_proj_rSE.fdt\n",
      "Reading 0 ... 77369  =      0.000 ...   309.476 secs...\n",
      "Reading G:\\ABP_PreprocessedEEG\\AB2_211631_Rest1_ds_GA_rE_rL_ds_flt_rr_Dqrs_Rbcg_ASR_rr_eog_ica_mara_proj_rSE.fdt\n",
      "Reading 0 ... 73324  =      0.000 ...   293.296 secs...\n"
     ]
    },
    {
     "name": "stderr",
     "output_type": "stream",
     "text": [
      "C:\\Users\\locha\\AppData\\Local\\Temp\\ipykernel_7852\\968512103.py:9: RuntimeWarning: Limited 1 annotation(s) that were expanding outside the data range.\n",
      "  raw = mne.io.read_raw_eeglab(filepath, preload=True)\n",
      "C:\\Users\\locha\\AppData\\Local\\Temp\\ipykernel_7852\\968512103.py:9: RuntimeWarning: The data contains 'boundary' events, indicating data discontinuities. Be cautious of filtering and epoching around these events.\n",
      "  raw = mne.io.read_raw_eeglab(filepath, preload=True)\n"
     ]
    },
    {
     "name": "stdout",
     "output_type": "stream",
     "text": [
      "Reading G:\\ABP_PreprocessedEEG\\AB2_211639_Rest1_ds_GA_rE_rL_ds_flt_rr_Dqrs_Rbcg_ASR_rr_eog_ica_mara_proj_rSE.fdt\n",
      "Reading 0 ... 79309  =      0.000 ...   317.236 secs...\n"
     ]
    },
    {
     "name": "stderr",
     "output_type": "stream",
     "text": [
      "C:\\Users\\locha\\AppData\\Local\\Temp\\ipykernel_7852\\968512103.py:9: RuntimeWarning: The data contains 'boundary' events, indicating data discontinuities. Be cautious of filtering and epoching around these events.\n",
      "  raw = mne.io.read_raw_eeglab(filepath, preload=True)\n",
      "C:\\Users\\locha\\AppData\\Local\\Temp\\ipykernel_7852\\968512103.py:9: RuntimeWarning: Limited 1 annotation(s) that were expanding outside the data range.\n",
      "  raw = mne.io.read_raw_eeglab(filepath, preload=True)\n",
      "C:\\Users\\locha\\AppData\\Local\\Temp\\ipykernel_7852\\968512103.py:9: RuntimeWarning: The data contains 'boundary' events, indicating data discontinuities. Be cautious of filtering and epoching around these events.\n",
      "  raw = mne.io.read_raw_eeglab(filepath, preload=True)\n"
     ]
    },
    {
     "name": "stdout",
     "output_type": "stream",
     "text": [
      "Reading G:\\ABP_PreprocessedEEG\\AB2_211774_Rest1_ds_GA_rE_rL_ds_flt_rr_Dqrs_Rbcg_ASR_rr_eog_ica_mara_proj_rSE.fdt\n",
      "Reading 0 ... 78454  =      0.000 ...   313.816 secs...\n",
      "Reading G:\\ABP_PreprocessedEEG\\AB2_211782_Rest1_ds_GA_rE_rL_ds_flt_rr_Dqrs_Rbcg_ASR_rr_eog_ica_mara_proj_rSE.fdt\n",
      "Reading 0 ... 80404  =      0.000 ...   321.616 secs...\n"
     ]
    },
    {
     "name": "stderr",
     "output_type": "stream",
     "text": [
      "C:\\Users\\locha\\AppData\\Local\\Temp\\ipykernel_7852\\968512103.py:9: RuntimeWarning: Limited 1 annotation(s) that were expanding outside the data range.\n",
      "  raw = mne.io.read_raw_eeglab(filepath, preload=True)\n",
      "C:\\Users\\locha\\AppData\\Local\\Temp\\ipykernel_7852\\968512103.py:9: RuntimeWarning: The data contains 'boundary' events, indicating data discontinuities. Be cautious of filtering and epoching around these events.\n",
      "  raw = mne.io.read_raw_eeglab(filepath, preload=True)\n"
     ]
    },
    {
     "name": "stdout",
     "output_type": "stream",
     "text": [
      "Reading G:\\ABP_PreprocessedEEG\\AB2_211852_Rest1_ds_GA_rE_rL_ds_flt_rr_Dqrs_Rbcg_ASR_rr_eog_ica_mara_proj_rSE.fdt\n",
      "Reading 0 ... 37064  =      0.000 ...   148.256 secs...\n",
      "Reading G:\\ABP_PreprocessedEEG\\AB2_212016_Rest1_ds_GA_rE_rL_ds_flt_rr_Dqrs_Rbcg_ASR_rr_eog_ica_mara_proj_rSE.fdt\n",
      "Reading 0 ... 61439  =      0.000 ...   245.756 secs...\n"
     ]
    },
    {
     "name": "stderr",
     "output_type": "stream",
     "text": [
      "C:\\Users\\locha\\AppData\\Local\\Temp\\ipykernel_7852\\968512103.py:9: RuntimeWarning: The data contains 'boundary' events, indicating data discontinuities. Be cautious of filtering and epoching around these events.\n",
      "  raw = mne.io.read_raw_eeglab(filepath, preload=True)\n",
      "C:\\Users\\locha\\AppData\\Local\\Temp\\ipykernel_7852\\968512103.py:9: RuntimeWarning: Limited 2 annotation(s) that were expanding outside the data range.\n",
      "  raw = mne.io.read_raw_eeglab(filepath, preload=True)\n",
      "C:\\Users\\locha\\AppData\\Local\\Temp\\ipykernel_7852\\968512103.py:9: RuntimeWarning: The data contains 'boundary' events, indicating data discontinuities. Be cautious of filtering and epoching around these events.\n",
      "  raw = mne.io.read_raw_eeglab(filepath, preload=True)\n"
     ]
    },
    {
     "name": "stdout",
     "output_type": "stream",
     "text": [
      "Reading G:\\ABP_PreprocessedEEG\\AB2_212030_Rest1_ds_GA_rE_rL_ds_flt_rr_Dqrs_Rbcg_ASR_rr_eog_ica_mara_proj_rSE.fdt\n",
      "Reading 0 ... 77629  =      0.000 ...   310.516 secs...\n"
     ]
    },
    {
     "name": "stderr",
     "output_type": "stream",
     "text": [
      "C:\\Users\\locha\\AppData\\Local\\Temp\\ipykernel_7852\\968512103.py:9: RuntimeWarning: The data contains 'boundary' events, indicating data discontinuities. Be cautious of filtering and epoching around these events.\n",
      "  raw = mne.io.read_raw_eeglab(filepath, preload=True)\n"
     ]
    },
    {
     "name": "stdout",
     "output_type": "stream",
     "text": [
      "Reading G:\\ABP_PreprocessedEEG\\AB2_212048_Rest1_ds_GA_rE_rL_ds_flt_rr_Dqrs_Rbcg_ASR_rr_eog_ica_mara_proj_rSE.fdt\n",
      "Reading 0 ... 79049  =      0.000 ...   316.196 secs...\n"
     ]
    },
    {
     "name": "stderr",
     "output_type": "stream",
     "text": [
      "C:\\Users\\locha\\AppData\\Local\\Temp\\ipykernel_7852\\968512103.py:9: RuntimeWarning: Limited 1 annotation(s) that were expanding outside the data range.\n",
      "  raw = mne.io.read_raw_eeglab(filepath, preload=True)\n",
      "C:\\Users\\locha\\AppData\\Local\\Temp\\ipykernel_7852\\968512103.py:9: RuntimeWarning: The data contains 'boundary' events, indicating data discontinuities. Be cautious of filtering and epoching around these events.\n",
      "  raw = mne.io.read_raw_eeglab(filepath, preload=True)\n",
      "C:\\Users\\locha\\AppData\\Local\\Temp\\ipykernel_7852\\968512103.py:9: RuntimeWarning: Limited 1 annotation(s) that were expanding outside the data range.\n",
      "  raw = mne.io.read_raw_eeglab(filepath, preload=True)\n",
      "C:\\Users\\locha\\AppData\\Local\\Temp\\ipykernel_7852\\968512103.py:9: RuntimeWarning: The data contains 'boundary' events, indicating data discontinuities. Be cautious of filtering and epoching around these events.\n",
      "  raw = mne.io.read_raw_eeglab(filepath, preload=True)\n"
     ]
    },
    {
     "name": "stdout",
     "output_type": "stream",
     "text": [
      "Reading G:\\ABP_PreprocessedEEG\\AB2_212101_Rest1_ds_GA_rE_rL_ds_flt_rr_Dqrs_Rbcg_ASR_rr_eog_ica_mara_proj_rSE.fdt\n",
      "Reading 0 ... 75774  =      0.000 ...   303.096 secs...\n",
      "Reading G:\\ABP_PreprocessedEEG\\AB2_212166_Rest1_ds_GA_rE_rL_ds_flt_rr_Dqrs_Rbcg_ASR_rr_eog_ica_mara_proj_rSE.fdt\n",
      "Reading 0 ... 74919  =      0.000 ...   299.676 secs...\n"
     ]
    },
    {
     "name": "stderr",
     "output_type": "stream",
     "text": [
      "C:\\Users\\locha\\AppData\\Local\\Temp\\ipykernel_7852\\968512103.py:9: RuntimeWarning: Limited 1 annotation(s) that were expanding outside the data range.\n",
      "  raw = mne.io.read_raw_eeglab(filepath, preload=True)\n",
      "C:\\Users\\locha\\AppData\\Local\\Temp\\ipykernel_7852\\968512103.py:9: RuntimeWarning: The data contains 'boundary' events, indicating data discontinuities. Be cautious of filtering and epoching around these events.\n",
      "  raw = mne.io.read_raw_eeglab(filepath, preload=True)\n",
      "C:\\Users\\locha\\AppData\\Local\\Temp\\ipykernel_7852\\968512103.py:9: RuntimeWarning: Limited 1 annotation(s) that were expanding outside the data range.\n",
      "  raw = mne.io.read_raw_eeglab(filepath, preload=True)\n",
      "C:\\Users\\locha\\AppData\\Local\\Temp\\ipykernel_7852\\968512103.py:9: RuntimeWarning: The data contains 'boundary' events, indicating data discontinuities. Be cautious of filtering and epoching around these events.\n",
      "  raw = mne.io.read_raw_eeglab(filepath, preload=True)\n"
     ]
    },
    {
     "name": "stdout",
     "output_type": "stream",
     "text": [
      "Reading G:\\ABP_PreprocessedEEG\\AB2_212167_Rest1_ds_GA_rE_rL_ds_flt_rr_Dqrs_Rbcg_ASR_rr_eog_ica_mara_proj_rSE.fdt\n",
      "Reading 0 ... 61689  =      0.000 ...   246.756 secs...\n",
      "Reading G:\\ABP_PreprocessedEEG\\AB2_212496_Rest1_ds_GA_rE_rL_ds_flt_rr_Dqrs_Rbcg_ASR_rr_eog_ica_mara_proj_rSE.fdt\n",
      "Reading 0 ... 64663  =      0.000 ...   258.652 secs...\n"
     ]
    },
    {
     "name": "stderr",
     "output_type": "stream",
     "text": [
      "C:\\Users\\locha\\AppData\\Local\\Temp\\ipykernel_7852\\968512103.py:9: RuntimeWarning: The data contains 'boundary' events, indicating data discontinuities. Be cautious of filtering and epoching around these events.\n",
      "  raw = mne.io.read_raw_eeglab(filepath, preload=True)\n",
      "C:\\Users\\locha\\AppData\\Local\\Temp\\ipykernel_7852\\968512103.py:9: RuntimeWarning: Limited 2 annotation(s) that were expanding outside the data range.\n",
      "  raw = mne.io.read_raw_eeglab(filepath, preload=True)\n",
      "C:\\Users\\locha\\AppData\\Local\\Temp\\ipykernel_7852\\968512103.py:9: RuntimeWarning: The data contains 'boundary' events, indicating data discontinuities. Be cautious of filtering and epoching around these events.\n",
      "  raw = mne.io.read_raw_eeglab(filepath, preload=True)\n"
     ]
    },
    {
     "name": "stdout",
     "output_type": "stream",
     "text": [
      "Reading G:\\ABP_PreprocessedEEG\\AB2_212514_Rest1_ds_GA_rE_rL_ds_flt_rr_Dqrs_Rbcg_ASR_rr_eog_ica_mara_proj_rSE.fdt\n",
      "Reading 0 ... 70949  =      0.000 ...   283.796 secs...\n",
      "Reading G:\\ABP_PreprocessedEEG\\AB2_212515_Rest1_ds_GA_rE_rL_ds_flt_rr_Dqrs_Rbcg_ASR_rr_eog_ica_mara_proj_rSE.fdt\n",
      "Reading 0 ... 69984  =      0.000 ...   279.936 secs...\n"
     ]
    },
    {
     "name": "stderr",
     "output_type": "stream",
     "text": [
      "C:\\Users\\locha\\AppData\\Local\\Temp\\ipykernel_7852\\968512103.py:9: RuntimeWarning: Limited 2 annotation(s) that were expanding outside the data range.\n",
      "  raw = mne.io.read_raw_eeglab(filepath, preload=True)\n",
      "C:\\Users\\locha\\AppData\\Local\\Temp\\ipykernel_7852\\968512103.py:9: RuntimeWarning: The data contains 'boundary' events, indicating data discontinuities. Be cautious of filtering and epoching around these events.\n",
      "  raw = mne.io.read_raw_eeglab(filepath, preload=True)\n"
     ]
    },
    {
     "name": "stdout",
     "output_type": "stream",
     "text": [
      "Reading G:\\ABP_PreprocessedEEG\\AB2_212542_Rest1_ds_GA_rE_rL_ds_flt_rr_Dqrs_Rbcg_ASR_rr_eog_ica_mara_proj_rSE.fdt\n",
      "Reading 0 ... 63479  =      0.000 ...   253.916 secs...\n"
     ]
    },
    {
     "name": "stderr",
     "output_type": "stream",
     "text": [
      "C:\\Users\\locha\\AppData\\Local\\Temp\\ipykernel_7852\\968512103.py:9: RuntimeWarning: The data contains 'boundary' events, indicating data discontinuities. Be cautious of filtering and epoching around these events.\n",
      "  raw = mne.io.read_raw_eeglab(filepath, preload=True)\n",
      "C:\\Users\\locha\\AppData\\Local\\Temp\\ipykernel_7852\\968512103.py:9: RuntimeWarning: Limited 2 annotation(s) that were expanding outside the data range.\n",
      "  raw = mne.io.read_raw_eeglab(filepath, preload=True)\n",
      "C:\\Users\\locha\\AppData\\Local\\Temp\\ipykernel_7852\\968512103.py:9: RuntimeWarning: The data contains 'boundary' events, indicating data discontinuities. Be cautious of filtering and epoching around these events.\n",
      "  raw = mne.io.read_raw_eeglab(filepath, preload=True)\n"
     ]
    },
    {
     "name": "stdout",
     "output_type": "stream",
     "text": [
      "Reading G:\\ABP_PreprocessedEEG\\AB2_212760_Rest1_ds_GA_rE_rL_ds_flt_rr_Dqrs_Rbcg_ASR_rr_eog_ica_mara_proj_rSE.fdt\n",
      "Reading 0 ... 76114  =      0.000 ...   304.456 secs...\n",
      "Reading G:\\ABP_PreprocessedEEG\\AB2_212782_Rest1_ds_GA_rE_rL_ds_flt_rr_Dqrs_Rbcg_ASR_rr_eog_ica_mara_proj_rSE.fdt\n",
      "Reading 0 ... 72169  =      0.000 ...   288.676 secs...\n"
     ]
    },
    {
     "name": "stderr",
     "output_type": "stream",
     "text": [
      "C:\\Users\\locha\\AppData\\Local\\Temp\\ipykernel_7852\\968512103.py:9: RuntimeWarning: The data contains 'boundary' events, indicating data discontinuities. Be cautious of filtering and epoching around these events.\n",
      "  raw = mne.io.read_raw_eeglab(filepath, preload=True)\n",
      "C:\\Users\\locha\\AppData\\Local\\Temp\\ipykernel_7852\\968512103.py:9: RuntimeWarning: The data contains 'boundary' events, indicating data discontinuities. Be cautious of filtering and epoching around these events.\n",
      "  raw = mne.io.read_raw_eeglab(filepath, preload=True)\n"
     ]
    },
    {
     "name": "stdout",
     "output_type": "stream",
     "text": [
      "Reading G:\\ABP_PreprocessedEEG\\AB2_212819_Rest1_ds_GA_rE_rL_ds_flt_rr_Dqrs_Rbcg_ASR_rr_eog_ica_mara_proj_rSE.fdt\n",
      "Reading 0 ... 77204  =      0.000 ...   308.816 secs...\n",
      "Reading G:\\ABP_PreprocessedEEG\\AB2_212820_Rest1_ds_GA_rE_rL_ds_flt_rr_Dqrs_Rbcg_ASR_rr_eog_ica_mara_proj_rSE.fdt\n",
      "Reading 0 ... 80319  =      0.000 ...   321.276 secs...\n"
     ]
    },
    {
     "name": "stderr",
     "output_type": "stream",
     "text": [
      "C:\\Users\\locha\\AppData\\Local\\Temp\\ipykernel_7852\\968512103.py:9: RuntimeWarning: Limited 1 annotation(s) that were expanding outside the data range.\n",
      "  raw = mne.io.read_raw_eeglab(filepath, preload=True)\n",
      "C:\\Users\\locha\\AppData\\Local\\Temp\\ipykernel_7852\\968512103.py:9: RuntimeWarning: The data contains 'boundary' events, indicating data discontinuities. Be cautious of filtering and epoching around these events.\n",
      "  raw = mne.io.read_raw_eeglab(filepath, preload=True)\n",
      "C:\\Users\\locha\\AppData\\Local\\Temp\\ipykernel_7852\\968512103.py:9: RuntimeWarning: The data contains 'boundary' events, indicating data discontinuities. Be cautious of filtering and epoching around these events.\n",
      "  raw = mne.io.read_raw_eeglab(filepath, preload=True)\n"
     ]
    },
    {
     "name": "stdout",
     "output_type": "stream",
     "text": [
      "Reading G:\\ABP_PreprocessedEEG\\AB2_212840_Rest1_ds_GA_rE_rL_ds_flt_rr_Dqrs_Rbcg_ASR_rr_eog_ica_mara_proj_rSE.fdt\n",
      "Reading 0 ... 79734  =      0.000 ...   318.936 secs...\n",
      "Reading G:\\ABP_PreprocessedEEG\\AB2_213033_Rest1_ds_GA_rE_rL_ds_flt_rr_Dqrs_Rbcg_ASR_rr_eog_ica_mara_proj_rSE.fdt\n",
      "Reading 0 ... 64639  =      0.000 ...   258.556 secs...\n"
     ]
    },
    {
     "name": "stderr",
     "output_type": "stream",
     "text": [
      "C:\\Users\\locha\\AppData\\Local\\Temp\\ipykernel_7852\\968512103.py:9: RuntimeWarning: The data contains 'boundary' events, indicating data discontinuities. Be cautious of filtering and epoching around these events.\n",
      "  raw = mne.io.read_raw_eeglab(filepath, preload=True)\n"
     ]
    },
    {
     "name": "stdout",
     "output_type": "stream",
     "text": [
      "Reading G:\\ABP_PreprocessedEEG\\AB2_213075_Rest1_ds_GA_rE_rL_ds_flt_rr_Dqrs_Rbcg_ASR_rr_eog_ica_mara_proj_rSE.fdt\n",
      "Reading 0 ... 75589  =      0.000 ...   302.356 secs...\n"
     ]
    },
    {
     "name": "stderr",
     "output_type": "stream",
     "text": [
      "C:\\Users\\locha\\AppData\\Local\\Temp\\ipykernel_7852\\968512103.py:9: RuntimeWarning: Limited 2 annotation(s) that were expanding outside the data range.\n",
      "  raw = mne.io.read_raw_eeglab(filepath, preload=True)\n",
      "C:\\Users\\locha\\AppData\\Local\\Temp\\ipykernel_7852\\968512103.py:9: RuntimeWarning: The data contains 'boundary' events, indicating data discontinuities. Be cautious of filtering and epoching around these events.\n",
      "  raw = mne.io.read_raw_eeglab(filepath, preload=True)\n"
     ]
    },
    {
     "name": "stdout",
     "output_type": "stream",
     "text": [
      "Reading G:\\ABP_PreprocessedEEG\\AB2_213193_Rest1_ds_GA_rE_rL_ds_flt_rr_Dqrs_Rbcg_ASR_rr_eog_ica_mara_proj_rSE.fdt\n",
      "Reading 0 ... 78044  =      0.000 ...   312.176 secs...\n"
     ]
    },
    {
     "name": "stderr",
     "output_type": "stream",
     "text": [
      "C:\\Users\\locha\\AppData\\Local\\Temp\\ipykernel_7852\\968512103.py:9: RuntimeWarning: The data contains 'boundary' events, indicating data discontinuities. Be cautious of filtering and epoching around these events.\n",
      "  raw = mne.io.read_raw_eeglab(filepath, preload=True)\n",
      "C:\\Users\\locha\\AppData\\Local\\Temp\\ipykernel_7852\\968512103.py:9: RuntimeWarning: Limited 1 annotation(s) that were expanding outside the data range.\n",
      "  raw = mne.io.read_raw_eeglab(filepath, preload=True)\n",
      "C:\\Users\\locha\\AppData\\Local\\Temp\\ipykernel_7852\\968512103.py:9: RuntimeWarning: The data contains 'boundary' events, indicating data discontinuities. Be cautious of filtering and epoching around these events.\n",
      "  raw = mne.io.read_raw_eeglab(filepath, preload=True)\n"
     ]
    },
    {
     "name": "stdout",
     "output_type": "stream",
     "text": [
      "Reading G:\\ABP_PreprocessedEEG\\AB2_213194_Rest1_ds_GA_rE_rL_ds_flt_rr_Dqrs_Rbcg_ASR_rr_eog_ica_mara_proj_rSE.fdt\n",
      "Reading 0 ... 78389  =      0.000 ...   313.556 secs...\n",
      "Reading G:\\ABP_PreprocessedEEG\\AB2_213212_Rest1_ds_GA_rE_rL_ds_flt_rr_Dqrs_Rbcg_ASR_rr_eog_ica_mara_proj_rSE.fdt\n",
      "Reading 0 ... 74834  =      0.000 ...   299.336 secs...\n"
     ]
    },
    {
     "name": "stderr",
     "output_type": "stream",
     "text": [
      "C:\\Users\\locha\\AppData\\Local\\Temp\\ipykernel_7852\\968512103.py:9: RuntimeWarning: The data contains 'boundary' events, indicating data discontinuities. Be cautious of filtering and epoching around these events.\n",
      "  raw = mne.io.read_raw_eeglab(filepath, preload=True)\n"
     ]
    },
    {
     "name": "stdout",
     "output_type": "stream",
     "text": [
      "Reading G:\\ABP_PreprocessedEEG\\AB2_213325_Rest1_ds_GA_rE_rL_ds_flt_rr_Dqrs_Rbcg_ASR_rr_eog_ica_mara_proj_rSE.fdt\n",
      "Reading 0 ... 77879  =      0.000 ...   311.516 secs...\n"
     ]
    },
    {
     "name": "stderr",
     "output_type": "stream",
     "text": [
      "C:\\Users\\locha\\AppData\\Local\\Temp\\ipykernel_7852\\968512103.py:9: RuntimeWarning: The data contains 'boundary' events, indicating data discontinuities. Be cautious of filtering and epoching around these events.\n",
      "  raw = mne.io.read_raw_eeglab(filepath, preload=True)\n"
     ]
    },
    {
     "name": "stdout",
     "output_type": "stream",
     "text": [
      "Reading G:\\ABP_PreprocessedEEG\\AB3_110146_Rest1_ds_GA_rE_rL_ds_flt_rr_Dqrs_Rbcg_ASR_rr_eog_ica_mara_proj_rSE.fdt\n",
      "Reading 0 ... 77094  =      0.000 ...   308.376 secs...\n"
     ]
    },
    {
     "name": "stderr",
     "output_type": "stream",
     "text": [
      "C:\\Users\\locha\\AppData\\Local\\Temp\\ipykernel_7852\\968512103.py:9: RuntimeWarning: The data contains 'boundary' events, indicating data discontinuities. Be cautious of filtering and epoching around these events.\n",
      "  raw = mne.io.read_raw_eeglab(filepath, preload=True)\n"
     ]
    },
    {
     "name": "stdout",
     "output_type": "stream",
     "text": [
      "Reading G:\\ABP_PreprocessedEEG\\AB3_202503_Rest1_ds_GA_rE_rL_ds_flt_rr_Dqrs_Rbcg_ASR_rr_eog_ica_mara_proj_rSE.fdt\n",
      "Reading 0 ... 72659  =      0.000 ...   290.636 secs...\n"
     ]
    },
    {
     "name": "stderr",
     "output_type": "stream",
     "text": [
      "C:\\Users\\locha\\AppData\\Local\\Temp\\ipykernel_7852\\968512103.py:9: RuntimeWarning: The data contains 'boundary' events, indicating data discontinuities. Be cautious of filtering and epoching around these events.\n",
      "  raw = mne.io.read_raw_eeglab(filepath, preload=True)\n"
     ]
    },
    {
     "name": "stdout",
     "output_type": "stream",
     "text": [
      "Reading G:\\ABP_PreprocessedEEG\\AB3_209767_Rest1_ds_GA_rE_rL_ds_flt_rr_Dqrs_Rbcg_ASR_rr_eog_ica_mara_proj_rSE.fdt\n",
      "Reading 0 ... 67504  =      0.000 ...   270.016 secs...\n"
     ]
    },
    {
     "name": "stderr",
     "output_type": "stream",
     "text": [
      "C:\\Users\\locha\\AppData\\Local\\Temp\\ipykernel_7852\\968512103.py:9: RuntimeWarning: The data contains 'boundary' events, indicating data discontinuities. Be cautious of filtering and epoching around these events.\n",
      "  raw = mne.io.read_raw_eeglab(filepath, preload=True)\n"
     ]
    },
    {
     "name": "stdout",
     "output_type": "stream",
     "text": [
      "Reading G:\\ABP_PreprocessedEEG\\AB3_211236_Rest1_ds_GA_rE_rL_ds_flt_rr_Dqrs_Rbcg_ASR_rr_eog_ica_mara_proj_rSE.fdt\n",
      "Reading 0 ... 59429  =      0.000 ...   237.716 secs...\n"
     ]
    },
    {
     "name": "stderr",
     "output_type": "stream",
     "text": [
      "C:\\Users\\locha\\AppData\\Local\\Temp\\ipykernel_7852\\968512103.py:9: RuntimeWarning: Limited 1 annotation(s) that were expanding outside the data range.\n",
      "  raw = mne.io.read_raw_eeglab(filepath, preload=True)\n",
      "C:\\Users\\locha\\AppData\\Local\\Temp\\ipykernel_7852\\968512103.py:9: RuntimeWarning: The data contains 'boundary' events, indicating data discontinuities. Be cautious of filtering and epoching around these events.\n",
      "  raw = mne.io.read_raw_eeglab(filepath, preload=True)\n",
      "C:\\Users\\locha\\AppData\\Local\\Temp\\ipykernel_7852\\968512103.py:9: RuntimeWarning: Limited 2 annotation(s) that were expanding outside the data range.\n",
      "  raw = mne.io.read_raw_eeglab(filepath, preload=True)\n",
      "C:\\Users\\locha\\AppData\\Local\\Temp\\ipykernel_7852\\968512103.py:9: RuntimeWarning: The data contains 'boundary' events, indicating data discontinuities. Be cautious of filtering and epoching around these events.\n",
      "  raw = mne.io.read_raw_eeglab(filepath, preload=True)\n"
     ]
    },
    {
     "name": "stdout",
     "output_type": "stream",
     "text": [
      "Reading G:\\ABP_PreprocessedEEG\\AB3_211237_Rest1_ds_GA_rE_rL_ds_flt_rr_Dqrs_Rbcg_ASR_rr_eog_ica_mara_proj_rSE.fdt\n",
      "Reading 0 ... 77779  =      0.000 ...   311.116 secs...\n",
      "Reading G:\\ABP_PreprocessedEEG\\AB3_211249_Rest1_ds_GA_rE_rL_ds_flt_rr_Dqrs_Rbcg_ASR_rr_eog_ica_mara_proj_rSE.fdt\n",
      "Reading 0 ... 76204  =      0.000 ...   304.816 secs...\n"
     ]
    },
    {
     "name": "stderr",
     "output_type": "stream",
     "text": [
      "C:\\Users\\locha\\AppData\\Local\\Temp\\ipykernel_7852\\968512103.py:9: RuntimeWarning: The data contains 'boundary' events, indicating data discontinuities. Be cautious of filtering and epoching around these events.\n",
      "  raw = mne.io.read_raw_eeglab(filepath, preload=True)\n"
     ]
    },
    {
     "name": "stdout",
     "output_type": "stream",
     "text": [
      "Reading G:\\ABP_PreprocessedEEG\\AB3_211250_Rest1_ds_GA_rE_rL_ds_flt_rr_Dqrs_Rbcg_ASR_rr_eog_ica_mara_proj_rSE.fdt\n",
      "Reading 0 ... 72959  =      0.000 ...   291.836 secs...\n"
     ]
    },
    {
     "name": "stderr",
     "output_type": "stream",
     "text": [
      "C:\\Users\\locha\\AppData\\Local\\Temp\\ipykernel_7852\\968512103.py:9: RuntimeWarning: Limited 1 annotation(s) that were expanding outside the data range.\n",
      "  raw = mne.io.read_raw_eeglab(filepath, preload=True)\n",
      "C:\\Users\\locha\\AppData\\Local\\Temp\\ipykernel_7852\\968512103.py:9: RuntimeWarning: The data contains 'boundary' events, indicating data discontinuities. Be cautious of filtering and epoching around these events.\n",
      "  raw = mne.io.read_raw_eeglab(filepath, preload=True)\n",
      "C:\\Users\\locha\\AppData\\Local\\Temp\\ipykernel_7852\\968512103.py:9: RuntimeWarning: The data contains 'boundary' events, indicating data discontinuities. Be cautious of filtering and epoching around these events.\n",
      "  raw = mne.io.read_raw_eeglab(filepath, preload=True)\n"
     ]
    },
    {
     "name": "stdout",
     "output_type": "stream",
     "text": [
      "Reading G:\\ABP_PreprocessedEEG\\AB3_211275_Rest1_ds_GA_rE_rL_ds_flt_rr_Dqrs_Rbcg_ASR_rr_eog_ica_mara_proj_rSE.fdt\n",
      "Reading 0 ... 78979  =      0.000 ...   315.916 secs...\n",
      "Reading G:\\ABP_PreprocessedEEG\\AB3_211312_Rest1_ds_GA_rE_rL_ds_flt_rr_Dqrs_Rbcg_ASR_rr_eog_ica_mara_proj_rSE.fdt\n",
      "Reading 0 ... 76769  =      0.000 ...   307.076 secs...\n"
     ]
    },
    {
     "name": "stderr",
     "output_type": "stream",
     "text": [
      "C:\\Users\\locha\\AppData\\Local\\Temp\\ipykernel_7852\\968512103.py:9: RuntimeWarning: Limited 1 annotation(s) that were expanding outside the data range.\n",
      "  raw = mne.io.read_raw_eeglab(filepath, preload=True)\n",
      "C:\\Users\\locha\\AppData\\Local\\Temp\\ipykernel_7852\\968512103.py:9: RuntimeWarning: The data contains 'boundary' events, indicating data discontinuities. Be cautious of filtering and epoching around these events.\n",
      "  raw = mne.io.read_raw_eeglab(filepath, preload=True)\n",
      "C:\\Users\\locha\\AppData\\Local\\Temp\\ipykernel_7852\\968512103.py:9: RuntimeWarning: Limited 2 annotation(s) that were expanding outside the data range.\n",
      "  raw = mne.io.read_raw_eeglab(filepath, preload=True)\n",
      "C:\\Users\\locha\\AppData\\Local\\Temp\\ipykernel_7852\\968512103.py:9: RuntimeWarning: The data contains 'boundary' events, indicating data discontinuities. Be cautious of filtering and epoching around these events.\n",
      "  raw = mne.io.read_raw_eeglab(filepath, preload=True)\n"
     ]
    },
    {
     "name": "stdout",
     "output_type": "stream",
     "text": [
      "Reading G:\\ABP_PreprocessedEEG\\AB3_211325_Rest1_ds_GA_rE_rL_ds_flt_rr_Dqrs_Rbcg_ASR_rr_eog_ica_mara_proj_rSE.fdt\n",
      "Reading 0 ... 78224  =      0.000 ...   312.896 secs...\n",
      "Reading G:\\ABP_PreprocessedEEG\\AB3_211326_Rest1_ds_GA_rE_rL_ds_flt_rr_Dqrs_Rbcg_ASR_rr_eog_ica_mara_proj_rSE.fdt\n",
      "Reading 0 ... 75609  =      0.000 ...   302.436 secs...\n"
     ]
    },
    {
     "name": "stderr",
     "output_type": "stream",
     "text": [
      "C:\\Users\\locha\\AppData\\Local\\Temp\\ipykernel_7852\\968512103.py:9: RuntimeWarning: The data contains 'boundary' events, indicating data discontinuities. Be cautious of filtering and epoching around these events.\n",
      "  raw = mne.io.read_raw_eeglab(filepath, preload=True)\n"
     ]
    },
    {
     "name": "stdout",
     "output_type": "stream",
     "text": [
      "Reading G:\\ABP_PreprocessedEEG\\AB3_211340_Rest1_ds_GA_rE_rL_ds_flt_rr_Dqrs_Rbcg_ASR_rr_eog_ica_mara_proj_rSE.fdt\n",
      "Reading 0 ... 81414  =      0.000 ...   325.656 secs...\n"
     ]
    },
    {
     "name": "stderr",
     "output_type": "stream",
     "text": [
      "C:\\Users\\locha\\AppData\\Local\\Temp\\ipykernel_7852\\968512103.py:9: RuntimeWarning: The data contains 'boundary' events, indicating data discontinuities. Be cautious of filtering and epoching around these events.\n",
      "  raw = mne.io.read_raw_eeglab(filepath, preload=True)\n"
     ]
    },
    {
     "name": "stdout",
     "output_type": "stream",
     "text": [
      "Reading G:\\ABP_PreprocessedEEG\\AB3_211670_Rest1_ds_GA_rE_rL_ds_flt_rr_Dqrs_Rbcg_ASR_rr_eog_ica_mara_proj_rSE.fdt\n",
      "Reading 0 ... 80654  =      0.000 ...   322.616 secs...\n"
     ]
    },
    {
     "name": "stderr",
     "output_type": "stream",
     "text": [
      "C:\\Users\\locha\\AppData\\Local\\Temp\\ipykernel_7852\\968512103.py:9: RuntimeWarning: The data contains 'boundary' events, indicating data discontinuities. Be cautious of filtering and epoching around these events.\n",
      "  raw = mne.io.read_raw_eeglab(filepath, preload=True)\n"
     ]
    },
    {
     "name": "stdout",
     "output_type": "stream",
     "text": [
      "Reading G:\\ABP_PreprocessedEEG\\AB3_211694_Rest1_ds_GA_rE_rL_ds_flt_rr_Dqrs_Rbcg_ASR_rr_eog_ica_mara_proj_rSE.fdt\n",
      "Reading 0 ... 77969  =      0.000 ...   311.876 secs...\n"
     ]
    },
    {
     "name": "stderr",
     "output_type": "stream",
     "text": [
      "C:\\Users\\locha\\AppData\\Local\\Temp\\ipykernel_7852\\968512103.py:9: RuntimeWarning: The data contains 'boundary' events, indicating data discontinuities. Be cautious of filtering and epoching around these events.\n",
      "  raw = mne.io.read_raw_eeglab(filepath, preload=True)\n"
     ]
    },
    {
     "name": "stdout",
     "output_type": "stream",
     "text": [
      "Reading G:\\ABP_PreprocessedEEG\\AB3_212027_Rest1_ds_GA_rE_rL_ds_flt_rr_Dqrs_Rbcg_ASR_rr_eog_ica_mara_proj_rSE.fdt\n",
      "Reading 0 ... 79139  =      0.000 ...   316.556 secs...\n"
     ]
    },
    {
     "name": "stderr",
     "output_type": "stream",
     "text": [
      "C:\\Users\\locha\\AppData\\Local\\Temp\\ipykernel_7852\\968512103.py:9: RuntimeWarning: Limited 1 annotation(s) that were expanding outside the data range.\n",
      "  raw = mne.io.read_raw_eeglab(filepath, preload=True)\n",
      "C:\\Users\\locha\\AppData\\Local\\Temp\\ipykernel_7852\\968512103.py:9: RuntimeWarning: The data contains 'boundary' events, indicating data discontinuities. Be cautious of filtering and epoching around these events.\n",
      "  raw = mne.io.read_raw_eeglab(filepath, preload=True)\n"
     ]
    },
    {
     "name": "stdout",
     "output_type": "stream",
     "text": [
      "Reading G:\\ABP_PreprocessedEEG\\AB3_212049_Rest1_ds_GA_rE_rL_ds_flt_rr_Dqrs_Rbcg_ASR_rr_eog_ica_mara_proj_rSE.fdt\n",
      "Reading 0 ... 66989  =      0.000 ...   267.956 secs...\n"
     ]
    },
    {
     "name": "stderr",
     "output_type": "stream",
     "text": [
      "C:\\Users\\locha\\AppData\\Local\\Temp\\ipykernel_7852\\968512103.py:9: RuntimeWarning: The data contains 'boundary' events, indicating data discontinuities. Be cautious of filtering and epoching around these events.\n",
      "  raw = mne.io.read_raw_eeglab(filepath, preload=True)\n"
     ]
    },
    {
     "name": "stdout",
     "output_type": "stream",
     "text": [
      "Reading G:\\ABP_PreprocessedEEG\\AB3_212336_Rest1_ds_GA_rE_rL_ds_flt_rr_Dqrs_Rbcg_ASR_rr_eog_ica_mara_proj_rSE.fdt\n",
      "Reading 0 ... 67439  =      0.000 ...   269.756 secs...\n"
     ]
    },
    {
     "name": "stderr",
     "output_type": "stream",
     "text": [
      "C:\\Users\\locha\\AppData\\Local\\Temp\\ipykernel_7852\\968512103.py:9: RuntimeWarning: Limited 1 annotation(s) that were expanding outside the data range.\n",
      "  raw = mne.io.read_raw_eeglab(filepath, preload=True)\n",
      "C:\\Users\\locha\\AppData\\Local\\Temp\\ipykernel_7852\\968512103.py:9: RuntimeWarning: The data contains 'boundary' events, indicating data discontinuities. Be cautious of filtering and epoching around these events.\n",
      "  raw = mne.io.read_raw_eeglab(filepath, preload=True)\n"
     ]
    },
    {
     "name": "stdout",
     "output_type": "stream",
     "text": [
      "Reading G:\\ABP_PreprocessedEEG\\AB3_212577_Rest1_ds_GA_rE_rL_ds_flt_rr_Dqrs_Rbcg_ASR_rr_eog_ica_mara_proj_rSE.fdt\n",
      "Reading 0 ... 76444  =      0.000 ...   305.776 secs...\n"
     ]
    },
    {
     "name": "stderr",
     "output_type": "stream",
     "text": [
      "C:\\Users\\locha\\AppData\\Local\\Temp\\ipykernel_7852\\968512103.py:9: RuntimeWarning: Limited 1 annotation(s) that were expanding outside the data range.\n",
      "  raw = mne.io.read_raw_eeglab(filepath, preload=True)\n",
      "C:\\Users\\locha\\AppData\\Local\\Temp\\ipykernel_7852\\968512103.py:9: RuntimeWarning: The data contains 'boundary' events, indicating data discontinuities. Be cautious of filtering and epoching around these events.\n",
      "  raw = mne.io.read_raw_eeglab(filepath, preload=True)\n"
     ]
    },
    {
     "name": "stdout",
     "output_type": "stream",
     "text": [
      "Reading G:\\ABP_PreprocessedEEG\\AB3_212578_Rest1_ds_GA_rE_rL_ds_flt_rr_Dqrs_Rbcg_ASR_rr_eog_ica_mara_proj_rSE.fdt\n",
      "Reading 0 ... 77629  =      0.000 ...   310.516 secs...\n"
     ]
    },
    {
     "name": "stderr",
     "output_type": "stream",
     "text": [
      "C:\\Users\\locha\\AppData\\Local\\Temp\\ipykernel_7852\\968512103.py:9: RuntimeWarning: Limited 1 annotation(s) that were expanding outside the data range.\n",
      "  raw = mne.io.read_raw_eeglab(filepath, preload=True)\n",
      "C:\\Users\\locha\\AppData\\Local\\Temp\\ipykernel_7852\\968512103.py:9: RuntimeWarning: The data contains 'boundary' events, indicating data discontinuities. Be cautious of filtering and epoching around these events.\n",
      "  raw = mne.io.read_raw_eeglab(filepath, preload=True)\n"
     ]
    },
    {
     "name": "stdout",
     "output_type": "stream",
     "text": [
      "Reading G:\\ABP_PreprocessedEEG\\AB3_212590_Rest1_ds_GA_rE_rL_ds_flt_rr_Dqrs_Rbcg_ASR_rr_eog_ica_mara_proj_rSE.fdt\n",
      "Reading 0 ... 72744  =      0.000 ...   290.976 secs...\n"
     ]
    },
    {
     "name": "stderr",
     "output_type": "stream",
     "text": [
      "C:\\Users\\locha\\AppData\\Local\\Temp\\ipykernel_7852\\968512103.py:9: RuntimeWarning: The data contains 'boundary' events, indicating data discontinuities. Be cautious of filtering and epoching around these events.\n",
      "  raw = mne.io.read_raw_eeglab(filepath, preload=True)\n"
     ]
    },
    {
     "name": "stdout",
     "output_type": "stream",
     "text": [
      "Reading G:\\ABP_PreprocessedEEG\\AB3_212595_Rest1_ds_GA_rE_rL_ds_flt_rr_Dqrs_Rbcg_ASR_rr_eog_ica_mara_proj_rSE.fdt\n",
      "Reading 0 ... 76245  =      0.000 ...   304.980 secs...\n"
     ]
    },
    {
     "name": "stderr",
     "output_type": "stream",
     "text": [
      "C:\\Users\\locha\\AppData\\Local\\Temp\\ipykernel_7852\\968512103.py:9: RuntimeWarning: The data contains 'boundary' events, indicating data discontinuities. Be cautious of filtering and epoching around these events.\n",
      "  raw = mne.io.read_raw_eeglab(filepath, preload=True)\n",
      "C:\\Users\\locha\\AppData\\Local\\Temp\\ipykernel_7852\\968512103.py:9: RuntimeWarning: Limited 1 annotation(s) that were expanding outside the data range.\n",
      "  raw = mne.io.read_raw_eeglab(filepath, preload=True)\n",
      "C:\\Users\\locha\\AppData\\Local\\Temp\\ipykernel_7852\\968512103.py:9: RuntimeWarning: The data contains 'boundary' events, indicating data discontinuities. Be cautious of filtering and epoching around these events.\n",
      "  raw = mne.io.read_raw_eeglab(filepath, preload=True)\n"
     ]
    },
    {
     "name": "stdout",
     "output_type": "stream",
     "text": [
      "Reading G:\\ABP_PreprocessedEEG\\AB3_212654_Rest1_ds_GA_rE_rL_ds_flt_rr_Dqrs_Rbcg_ASR_rr_eog_ica_mara_proj_rSE.fdt\n",
      "Reading 0 ... 69659  =      0.000 ...   278.636 secs...\n",
      "Reading G:\\ABP_PreprocessedEEG\\AB3_212751_Rest1_ds_GA_rE_rL_ds_flt_rr_Dqrs_Rbcg_ASR_rr_eog_ica_mara_proj_rSE.fdt\n",
      "Reading 0 ... 64589  =      0.000 ...   258.356 secs...\n"
     ]
    },
    {
     "name": "stderr",
     "output_type": "stream",
     "text": [
      "C:\\Users\\locha\\AppData\\Local\\Temp\\ipykernel_7852\\968512103.py:9: RuntimeWarning: The data contains 'boundary' events, indicating data discontinuities. Be cautious of filtering and epoching around these events.\n",
      "  raw = mne.io.read_raw_eeglab(filepath, preload=True)\n",
      "C:\\Users\\locha\\AppData\\Local\\Temp\\ipykernel_7852\\968512103.py:9: RuntimeWarning: Limited 1 annotation(s) that were expanding outside the data range.\n",
      "  raw = mne.io.read_raw_eeglab(filepath, preload=True)\n",
      "C:\\Users\\locha\\AppData\\Local\\Temp\\ipykernel_7852\\968512103.py:9: RuntimeWarning: The data contains 'boundary' events, indicating data discontinuities. Be cautious of filtering and epoching around these events.\n",
      "  raw = mne.io.read_raw_eeglab(filepath, preload=True)\n"
     ]
    },
    {
     "name": "stdout",
     "output_type": "stream",
     "text": [
      "Reading G:\\ABP_PreprocessedEEG\\AB3_212769_Rest1_ds_GA_rE_rL_ds_flt_rr_Dqrs_Rbcg_ASR_rr_eog_ica_mara_proj_rSE.fdt\n",
      "Reading 0 ... 74924  =      0.000 ...   299.696 secs...\n",
      "Reading G:\\ABP_PreprocessedEEG\\AB3_212976_Rest1_ds_GA_rE_rL_ds_flt_rr_Dqrs_Rbcg_ASR_rr_eog_ica_mara_proj_rSE.fdt\n",
      "Reading 0 ... 78224  =      0.000 ...   312.896 secs...\n"
     ]
    },
    {
     "name": "stderr",
     "output_type": "stream",
     "text": [
      "C:\\Users\\locha\\AppData\\Local\\Temp\\ipykernel_7852\\968512103.py:9: RuntimeWarning: The data contains 'boundary' events, indicating data discontinuities. Be cautious of filtering and epoching around these events.\n",
      "  raw = mne.io.read_raw_eeglab(filepath, preload=True)\n"
     ]
    },
    {
     "name": "stdout",
     "output_type": "stream",
     "text": [
      "Common channels: ['TP7', 'CP6', 'FT10', 'FC5', 'F1', 'PO3', 'CP3', 'T8', 'FT8', 'F6', 'PO4', 'P7', 'F5', 'PO8', 'FC4', 'TP9', 'CP5', 'C5', 'FT9', 'TP10', 'AF4', 'Fpz', 'F2', 'P5', 'FT7', 'P4', 'O2', 'F8', 'AF3', 'TP8', 'P8', 'Fp2', 'PO7', 'P6', 'P1']\n"
     ]
    },
    {
     "name": "stderr",
     "output_type": "stream",
     "text": [
      "C:\\Users\\locha\\AppData\\Local\\Temp\\ipykernel_7852\\968512103.py:9: RuntimeWarning: Limited 1 annotation(s) that were expanding outside the data range.\n",
      "  raw = mne.io.read_raw_eeglab(filepath, preload=True)\n",
      "C:\\Users\\locha\\AppData\\Local\\Temp\\ipykernel_7852\\968512103.py:9: RuntimeWarning: The data contains 'boundary' events, indicating data discontinuities. Be cautious of filtering and epoching around these events.\n",
      "  raw = mne.io.read_raw_eeglab(filepath, preload=True)\n"
     ]
    }
   ],
   "source": [
    "import mne\n",
    "import os\n",
    "\n",
    "def find_common_channels(directory):\n",
    "    common_channels = None\n",
    "    for filename in os.listdir(directory):\n",
    "        if filename.endswith('.set'):\n",
    "            filepath = os.path.join(directory, filename)\n",
    "            raw = mne.io.read_raw_eeglab(filepath, preload=True)\n",
    "            if common_channels is None:\n",
    "                common_channels = set(raw.ch_names)\n",
    "            else:\n",
    "                common_channels.intersection_update(raw.ch_names)\n",
    "    return list(common_channels)\n",
    "\n",
    "# Directory containing your preprocessed data\n",
    "common_channels = find_common_channels(directory)\n",
    "print(f\"Common channels: {common_channels}\")\n"
   ]
  },
  {
   "cell_type": "code",
   "execution_count": 1,
   "id": "5a1c0e16-7a8a-462e-a629-5fe9943dec62",
   "metadata": {},
   "outputs": [
    {
     "name": "stdout",
     "output_type": "stream",
     "text": [
      "Processing file AB1_211180_Rest1_ds_GA_rE_rL_ds_flt_rr_Dqrs_Rbcg_ASR_rr_eog_ica_mara_proj_rSE.set\n",
      "Reading G:\\ABP_PreprocessedEEG\\AB1_211180_Rest1_ds_GA_rE_rL_ds_flt_rr_Dqrs_Rbcg_ASR_rr_eog_ica_mara_proj_rSE.fdt\n",
      "Reading 0 ... 57494  =      0.000 ...   229.976 secs...\n",
      "NOTE: pick_channels() is a legacy function. New code should use inst.pick(...).\n",
      "Effective window size : 2.048 (s)\n",
      "Assigned label 0 (Healthy) for file AB1_211180_Rest1_ds_GA_rE_rL_ds_flt_rr_Dqrs_Rbcg_ASR_rr_eog_ica_mara_proj_rSE.set\n",
      "Processing file AB1_211196_Rest1_ds_GA_rE_rL_ds_flt_rr_Dqrs_Rbcg_ASR_rr_eog_ica_mara_proj_rSE.set\n",
      "Reading G:\\ABP_PreprocessedEEG\\AB1_211196_Rest1_ds_GA_rE_rL_ds_flt_rr_Dqrs_Rbcg_ASR_rr_eog_ica_mara_proj_rSE.fdt\n",
      "Reading 0 ... 76359  =      0.000 ...   305.436 secs...\n"
     ]
    },
    {
     "name": "stderr",
     "output_type": "stream",
     "text": [
      "C:\\Users\\locha\\AppData\\Local\\Temp\\ipykernel_43348\\3314105345.py:13: RuntimeWarning: Limited 2 annotation(s) that were expanding outside the data range.\n",
      "  raw = mne.io.read_raw_eeglab(filepath, preload=True)\n",
      "C:\\Users\\locha\\AppData\\Local\\Temp\\ipykernel_43348\\3314105345.py:13: RuntimeWarning: The data contains 'boundary' events, indicating data discontinuities. Be cautious of filtering and epoching around these events.\n",
      "  raw = mne.io.read_raw_eeglab(filepath, preload=True)\n",
      "[Parallel(n_jobs=1)]: Using backend SequentialBackend with 1 concurrent workers.\n",
      "[Parallel(n_jobs=1)]: Done   1 out of   1 | elapsed:    0.0s remaining:    0.0s\n",
      "[Parallel(n_jobs=1)]: Done   1 out of   1 | elapsed:    0.0s finished\n"
     ]
    },
    {
     "name": "stdout",
     "output_type": "stream",
     "text": [
      "NOTE: pick_channels() is a legacy function. New code should use inst.pick(...).\n",
      "Effective window size : 2.048 (s)\n",
      "Assigned label 0 (Healthy) for file AB1_211196_Rest1_ds_GA_rE_rL_ds_flt_rr_Dqrs_Rbcg_ASR_rr_eog_ica_mara_proj_rSE.set\n",
      "Processing file AB2_109077_Rest1_ds_GA_rE_rL_ds_flt_rr_Dqrs_Rbcg_ASR_rr_eog_ica_mara_proj_rSE.set\n",
      "Reading G:\\ABP_PreprocessedEEG\\AB2_109077_Rest1_ds_GA_rE_rL_ds_flt_rr_Dqrs_Rbcg_ASR_rr_eog_ica_mara_proj_rSE.fdt\n",
      "Reading 0 ... 59294  =      0.000 ...   237.176 secs...\n"
     ]
    },
    {
     "name": "stderr",
     "output_type": "stream",
     "text": [
      "C:\\Users\\locha\\AppData\\Local\\Temp\\ipykernel_43348\\3314105345.py:13: RuntimeWarning: Limited 1 annotation(s) that were expanding outside the data range.\n",
      "  raw = mne.io.read_raw_eeglab(filepath, preload=True)\n",
      "C:\\Users\\locha\\AppData\\Local\\Temp\\ipykernel_43348\\3314105345.py:13: RuntimeWarning: The data contains 'boundary' events, indicating data discontinuities. Be cautious of filtering and epoching around these events.\n",
      "  raw = mne.io.read_raw_eeglab(filepath, preload=True)\n",
      "[Parallel(n_jobs=1)]: Using backend SequentialBackend with 1 concurrent workers.\n",
      "[Parallel(n_jobs=1)]: Done   1 out of   1 | elapsed:    0.0s remaining:    0.0s\n",
      "[Parallel(n_jobs=1)]: Done   1 out of   1 | elapsed:    0.0s finished\n"
     ]
    },
    {
     "name": "stdout",
     "output_type": "stream",
     "text": [
      "NOTE: pick_channels() is a legacy function. New code should use inst.pick(...).\n",
      "Effective window size : 2.048 (s)\n",
      "Assigned label 0 (Healthy) for file AB2_109077_Rest1_ds_GA_rE_rL_ds_flt_rr_Dqrs_Rbcg_ASR_rr_eog_ica_mara_proj_rSE.set\n",
      "Processing file AB2_206497_Rest1_ds_GA_rE_rL_ds_flt_rr_Dqrs_Rbcg_ASR_rr_eog_ica_mara_proj_rSE.set\n",
      "Reading G:\\ABP_PreprocessedEEG\\AB2_206497_Rest1_ds_GA_rE_rL_ds_flt_rr_Dqrs_Rbcg_ASR_rr_eog_ica_mara_proj_rSE.fdt\n",
      "Reading 0 ... 71614  =      0.000 ...   286.456 secs...\n"
     ]
    },
    {
     "name": "stderr",
     "output_type": "stream",
     "text": [
      "C:\\Users\\locha\\AppData\\Local\\Temp\\ipykernel_43348\\3314105345.py:13: RuntimeWarning: Limited 2 annotation(s) that were expanding outside the data range.\n",
      "  raw = mne.io.read_raw_eeglab(filepath, preload=True)\n",
      "C:\\Users\\locha\\AppData\\Local\\Temp\\ipykernel_43348\\3314105345.py:13: RuntimeWarning: The data contains 'boundary' events, indicating data discontinuities. Be cautious of filtering and epoching around these events.\n",
      "  raw = mne.io.read_raw_eeglab(filepath, preload=True)\n",
      "[Parallel(n_jobs=1)]: Using backend SequentialBackend with 1 concurrent workers.\n",
      "[Parallel(n_jobs=1)]: Done   1 out of   1 | elapsed:    0.0s remaining:    0.0s\n",
      "[Parallel(n_jobs=1)]: Done   1 out of   1 | elapsed:    0.0s finished\n"
     ]
    },
    {
     "name": "stdout",
     "output_type": "stream",
     "text": [
      "NOTE: pick_channels() is a legacy function. New code should use inst.pick(...).\n",
      "Effective window size : 2.048 (s)\n",
      "Assigned label 0 (Healthy) for file AB2_206497_Rest1_ds_GA_rE_rL_ds_flt_rr_Dqrs_Rbcg_ASR_rr_eog_ica_mara_proj_rSE.set\n",
      "Processing file AB2_209170_Rest1_ds_GA_rE_rL_ds_flt_rr_Dqrs_Rbcg_ASR_rr_eog_ica_mara_proj_rSE.set\n",
      "Reading G:\\ABP_PreprocessedEEG\\AB2_209170_Rest1_ds_GA_rE_rL_ds_flt_rr_Dqrs_Rbcg_ASR_rr_eog_ica_mara_proj_rSE.fdt\n",
      "Reading 0 ... 73419  =      0.000 ...   293.676 secs...\n"
     ]
    },
    {
     "name": "stderr",
     "output_type": "stream",
     "text": [
      "C:\\Users\\locha\\AppData\\Local\\Temp\\ipykernel_43348\\3314105345.py:13: RuntimeWarning: Limited 2 annotation(s) that were expanding outside the data range.\n",
      "  raw = mne.io.read_raw_eeglab(filepath, preload=True)\n",
      "C:\\Users\\locha\\AppData\\Local\\Temp\\ipykernel_43348\\3314105345.py:13: RuntimeWarning: The data contains 'boundary' events, indicating data discontinuities. Be cautious of filtering and epoching around these events.\n",
      "  raw = mne.io.read_raw_eeglab(filepath, preload=True)\n",
      "[Parallel(n_jobs=1)]: Using backend SequentialBackend with 1 concurrent workers.\n",
      "[Parallel(n_jobs=1)]: Done   1 out of   1 | elapsed:    0.0s remaining:    0.0s\n",
      "[Parallel(n_jobs=1)]: Done   1 out of   1 | elapsed:    0.0s finished\n"
     ]
    },
    {
     "name": "stdout",
     "output_type": "stream",
     "text": [
      "NOTE: pick_channels() is a legacy function. New code should use inst.pick(...).\n",
      "Effective window size : 2.048 (s)\n",
      "Assigned label 0 (Healthy) for file AB2_209170_Rest1_ds_GA_rE_rL_ds_flt_rr_Dqrs_Rbcg_ASR_rr_eog_ica_mara_proj_rSE.set\n",
      "Processing file AB2_210495_Rest1_ds_GA_rE_rL_ds_flt_rr_Dqrs_Rbcg_ASR_rr_eog_ica_mara_proj_rSE.set\n",
      "Reading G:\\ABP_PreprocessedEEG\\AB2_210495_Rest1_ds_GA_rE_rL_ds_flt_rr_Dqrs_Rbcg_ASR_rr_eog_ica_mara_proj_rSE.fdt\n",
      "Reading 0 ... 79909  =      0.000 ...   319.636 secs...\n"
     ]
    },
    {
     "name": "stderr",
     "output_type": "stream",
     "text": [
      "C:\\Users\\locha\\AppData\\Local\\Temp\\ipykernel_43348\\3314105345.py:13: RuntimeWarning: Limited 1 annotation(s) that were expanding outside the data range.\n",
      "  raw = mne.io.read_raw_eeglab(filepath, preload=True)\n",
      "C:\\Users\\locha\\AppData\\Local\\Temp\\ipykernel_43348\\3314105345.py:13: RuntimeWarning: The data contains 'boundary' events, indicating data discontinuities. Be cautious of filtering and epoching around these events.\n",
      "  raw = mne.io.read_raw_eeglab(filepath, preload=True)\n",
      "[Parallel(n_jobs=1)]: Using backend SequentialBackend with 1 concurrent workers.\n",
      "[Parallel(n_jobs=1)]: Done   1 out of   1 | elapsed:    0.0s remaining:    0.0s\n",
      "[Parallel(n_jobs=1)]: Done   1 out of   1 | elapsed:    0.0s finished\n"
     ]
    },
    {
     "name": "stdout",
     "output_type": "stream",
     "text": [
      "NOTE: pick_channels() is a legacy function. New code should use inst.pick(...).\n",
      "Effective window size : 2.048 (s)\n",
      "Assigned label 0 (Healthy) for file AB2_210495_Rest1_ds_GA_rE_rL_ds_flt_rr_Dqrs_Rbcg_ASR_rr_eog_ica_mara_proj_rSE.set\n",
      "Processing file AB2_211334_Rest1_ds_GA_rE_rL_ds_flt_rr_Dqrs_Rbcg_ASR_rr_eog_ica_mara_proj_rSE.set\n",
      "Reading G:\\ABP_PreprocessedEEG\\AB2_211334_Rest1_ds_GA_rE_rL_ds_flt_rr_Dqrs_Rbcg_ASR_rr_eog_ica_mara_proj_rSE.fdt\n",
      "Reading 0 ... 72004  =      0.000 ...   288.016 secs...\n"
     ]
    },
    {
     "name": "stderr",
     "output_type": "stream",
     "text": [
      "C:\\Users\\locha\\AppData\\Local\\Temp\\ipykernel_43348\\3314105345.py:13: RuntimeWarning: The data contains 'boundary' events, indicating data discontinuities. Be cautious of filtering and epoching around these events.\n",
      "  raw = mne.io.read_raw_eeglab(filepath, preload=True)\n",
      "[Parallel(n_jobs=1)]: Using backend SequentialBackend with 1 concurrent workers.\n",
      "[Parallel(n_jobs=1)]: Done   1 out of   1 | elapsed:    0.0s remaining:    0.0s\n",
      "[Parallel(n_jobs=1)]: Done   1 out of   1 | elapsed:    0.0s finished\n"
     ]
    },
    {
     "name": "stdout",
     "output_type": "stream",
     "text": [
      "NOTE: pick_channels() is a legacy function. New code should use inst.pick(...).\n",
      "Effective window size : 2.048 (s)\n",
      "Assigned label 0 (Healthy) for file AB2_211334_Rest1_ds_GA_rE_rL_ds_flt_rr_Dqrs_Rbcg_ASR_rr_eog_ica_mara_proj_rSE.set\n",
      "Processing file AB2_211629_Rest1_ds_GA_rE_rL_ds_flt_rr_Dqrs_Rbcg_ASR_rr_eog_ica_mara_proj_rSE.set\n",
      "Reading G:\\ABP_PreprocessedEEG\\AB2_211629_Rest1_ds_GA_rE_rL_ds_flt_rr_Dqrs_Rbcg_ASR_rr_eog_ica_mara_proj_rSE.fdt\n",
      "Reading 0 ... 73579  =      0.000 ...   294.316 secs...\n"
     ]
    },
    {
     "name": "stderr",
     "output_type": "stream",
     "text": [
      "C:\\Users\\locha\\AppData\\Local\\Temp\\ipykernel_43348\\3314105345.py:13: RuntimeWarning: Limited 1 annotation(s) that were expanding outside the data range.\n",
      "  raw = mne.io.read_raw_eeglab(filepath, preload=True)\n",
      "C:\\Users\\locha\\AppData\\Local\\Temp\\ipykernel_43348\\3314105345.py:13: RuntimeWarning: The data contains 'boundary' events, indicating data discontinuities. Be cautious of filtering and epoching around these events.\n",
      "  raw = mne.io.read_raw_eeglab(filepath, preload=True)\n",
      "[Parallel(n_jobs=1)]: Using backend SequentialBackend with 1 concurrent workers.\n",
      "[Parallel(n_jobs=1)]: Done   1 out of   1 | elapsed:    0.0s remaining:    0.0s\n",
      "[Parallel(n_jobs=1)]: Done   1 out of   1 | elapsed:    0.0s finished\n"
     ]
    },
    {
     "name": "stdout",
     "output_type": "stream",
     "text": [
      "NOTE: pick_channels() is a legacy function. New code should use inst.pick(...).\n",
      "Effective window size : 2.048 (s)\n",
      "Assigned label 0 (Healthy) for file AB2_211629_Rest1_ds_GA_rE_rL_ds_flt_rr_Dqrs_Rbcg_ASR_rr_eog_ica_mara_proj_rSE.set\n",
      "Processing file AB2_211630_Rest1_ds_GA_rE_rL_ds_flt_rr_Dqrs_Rbcg_ASR_rr_eog_ica_mara_proj_rSE.set\n",
      "Reading G:\\ABP_PreprocessedEEG\\AB2_211630_Rest1_ds_GA_rE_rL_ds_flt_rr_Dqrs_Rbcg_ASR_rr_eog_ica_mara_proj_rSE.fdt\n",
      "Reading 0 ... 77369  =      0.000 ...   309.476 secs...\n"
     ]
    },
    {
     "name": "stderr",
     "output_type": "stream",
     "text": [
      "C:\\Users\\locha\\AppData\\Local\\Temp\\ipykernel_43348\\3314105345.py:13: RuntimeWarning: Limited 1 annotation(s) that were expanding outside the data range.\n",
      "  raw = mne.io.read_raw_eeglab(filepath, preload=True)\n",
      "C:\\Users\\locha\\AppData\\Local\\Temp\\ipykernel_43348\\3314105345.py:13: RuntimeWarning: The data contains 'boundary' events, indicating data discontinuities. Be cautious of filtering and epoching around these events.\n",
      "  raw = mne.io.read_raw_eeglab(filepath, preload=True)\n",
      "[Parallel(n_jobs=1)]: Using backend SequentialBackend with 1 concurrent workers.\n",
      "[Parallel(n_jobs=1)]: Done   1 out of   1 | elapsed:    0.0s remaining:    0.0s\n",
      "[Parallel(n_jobs=1)]: Done   1 out of   1 | elapsed:    0.0s finished\n"
     ]
    },
    {
     "name": "stdout",
     "output_type": "stream",
     "text": [
      "NOTE: pick_channels() is a legacy function. New code should use inst.pick(...).\n",
      "Effective window size : 2.048 (s)\n",
      "Assigned label 0 (Healthy) for file AB2_211630_Rest1_ds_GA_rE_rL_ds_flt_rr_Dqrs_Rbcg_ASR_rr_eog_ica_mara_proj_rSE.set\n",
      "Processing file AB2_211631_Rest1_ds_GA_rE_rL_ds_flt_rr_Dqrs_Rbcg_ASR_rr_eog_ica_mara_proj_rSE.set\n",
      "Reading G:\\ABP_PreprocessedEEG\\AB2_211631_Rest1_ds_GA_rE_rL_ds_flt_rr_Dqrs_Rbcg_ASR_rr_eog_ica_mara_proj_rSE.fdt\n",
      "Reading 0 ... 73324  =      0.000 ...   293.296 secs...\n"
     ]
    },
    {
     "name": "stderr",
     "output_type": "stream",
     "text": [
      "C:\\Users\\locha\\AppData\\Local\\Temp\\ipykernel_43348\\3314105345.py:13: RuntimeWarning: Limited 1 annotation(s) that were expanding outside the data range.\n",
      "  raw = mne.io.read_raw_eeglab(filepath, preload=True)\n",
      "C:\\Users\\locha\\AppData\\Local\\Temp\\ipykernel_43348\\3314105345.py:13: RuntimeWarning: The data contains 'boundary' events, indicating data discontinuities. Be cautious of filtering and epoching around these events.\n",
      "  raw = mne.io.read_raw_eeglab(filepath, preload=True)\n",
      "[Parallel(n_jobs=1)]: Using backend SequentialBackend with 1 concurrent workers.\n",
      "[Parallel(n_jobs=1)]: Done   1 out of   1 | elapsed:    0.0s remaining:    0.0s\n",
      "[Parallel(n_jobs=1)]: Done   1 out of   1 | elapsed:    0.0s finished\n"
     ]
    },
    {
     "name": "stdout",
     "output_type": "stream",
     "text": [
      "NOTE: pick_channels() is a legacy function. New code should use inst.pick(...).\n",
      "Effective window size : 2.048 (s)\n",
      "Assigned label 0 (Healthy) for file AB2_211631_Rest1_ds_GA_rE_rL_ds_flt_rr_Dqrs_Rbcg_ASR_rr_eog_ica_mara_proj_rSE.set\n",
      "Processing file AB2_211639_Rest1_ds_GA_rE_rL_ds_flt_rr_Dqrs_Rbcg_ASR_rr_eog_ica_mara_proj_rSE.set\n",
      "Reading G:\\ABP_PreprocessedEEG\\AB2_211639_Rest1_ds_GA_rE_rL_ds_flt_rr_Dqrs_Rbcg_ASR_rr_eog_ica_mara_proj_rSE.fdt\n",
      "Reading 0 ... 79309  =      0.000 ...   317.236 secs...\n"
     ]
    },
    {
     "name": "stderr",
     "output_type": "stream",
     "text": [
      "C:\\Users\\locha\\AppData\\Local\\Temp\\ipykernel_43348\\3314105345.py:13: RuntimeWarning: The data contains 'boundary' events, indicating data discontinuities. Be cautious of filtering and epoching around these events.\n",
      "  raw = mne.io.read_raw_eeglab(filepath, preload=True)\n",
      "[Parallel(n_jobs=1)]: Using backend SequentialBackend with 1 concurrent workers.\n",
      "[Parallel(n_jobs=1)]: Done   1 out of   1 | elapsed:    0.0s remaining:    0.0s\n",
      "[Parallel(n_jobs=1)]: Done   1 out of   1 | elapsed:    0.0s finished\n"
     ]
    },
    {
     "name": "stdout",
     "output_type": "stream",
     "text": [
      "NOTE: pick_channels() is a legacy function. New code should use inst.pick(...).\n",
      "Effective window size : 2.048 (s)\n",
      "Assigned label 0 (Healthy) for file AB2_211639_Rest1_ds_GA_rE_rL_ds_flt_rr_Dqrs_Rbcg_ASR_rr_eog_ica_mara_proj_rSE.set\n",
      "Processing file AB2_211774_Rest1_ds_GA_rE_rL_ds_flt_rr_Dqrs_Rbcg_ASR_rr_eog_ica_mara_proj_rSE.set\n",
      "Reading G:\\ABP_PreprocessedEEG\\AB2_211774_Rest1_ds_GA_rE_rL_ds_flt_rr_Dqrs_Rbcg_ASR_rr_eog_ica_mara_proj_rSE.fdt\n",
      "Reading 0 ... 78454  =      0.000 ...   313.816 secs...\n"
     ]
    },
    {
     "name": "stderr",
     "output_type": "stream",
     "text": [
      "C:\\Users\\locha\\AppData\\Local\\Temp\\ipykernel_43348\\3314105345.py:13: RuntimeWarning: Limited 1 annotation(s) that were expanding outside the data range.\n",
      "  raw = mne.io.read_raw_eeglab(filepath, preload=True)\n",
      "C:\\Users\\locha\\AppData\\Local\\Temp\\ipykernel_43348\\3314105345.py:13: RuntimeWarning: The data contains 'boundary' events, indicating data discontinuities. Be cautious of filtering and epoching around these events.\n",
      "  raw = mne.io.read_raw_eeglab(filepath, preload=True)\n",
      "[Parallel(n_jobs=1)]: Using backend SequentialBackend with 1 concurrent workers.\n",
      "[Parallel(n_jobs=1)]: Done   1 out of   1 | elapsed:    0.0s remaining:    0.0s\n",
      "[Parallel(n_jobs=1)]: Done   1 out of   1 | elapsed:    0.0s finished\n"
     ]
    },
    {
     "name": "stdout",
     "output_type": "stream",
     "text": [
      "NOTE: pick_channels() is a legacy function. New code should use inst.pick(...).\n",
      "Effective window size : 2.048 (s)\n",
      "Assigned label 0 (Healthy) for file AB2_211774_Rest1_ds_GA_rE_rL_ds_flt_rr_Dqrs_Rbcg_ASR_rr_eog_ica_mara_proj_rSE.set\n",
      "Processing file AB2_211782_Rest1_ds_GA_rE_rL_ds_flt_rr_Dqrs_Rbcg_ASR_rr_eog_ica_mara_proj_rSE.set\n",
      "Reading G:\\ABP_PreprocessedEEG\\AB2_211782_Rest1_ds_GA_rE_rL_ds_flt_rr_Dqrs_Rbcg_ASR_rr_eog_ica_mara_proj_rSE.fdt\n",
      "Reading 0 ... 80404  =      0.000 ...   321.616 secs...\n"
     ]
    },
    {
     "name": "stderr",
     "output_type": "stream",
     "text": [
      "C:\\Users\\locha\\AppData\\Local\\Temp\\ipykernel_43348\\3314105345.py:13: RuntimeWarning: Limited 1 annotation(s) that were expanding outside the data range.\n",
      "  raw = mne.io.read_raw_eeglab(filepath, preload=True)\n",
      "C:\\Users\\locha\\AppData\\Local\\Temp\\ipykernel_43348\\3314105345.py:13: RuntimeWarning: The data contains 'boundary' events, indicating data discontinuities. Be cautious of filtering and epoching around these events.\n",
      "  raw = mne.io.read_raw_eeglab(filepath, preload=True)\n",
      "[Parallel(n_jobs=1)]: Using backend SequentialBackend with 1 concurrent workers.\n",
      "[Parallel(n_jobs=1)]: Done   1 out of   1 | elapsed:    0.0s remaining:    0.0s\n",
      "[Parallel(n_jobs=1)]: Done   1 out of   1 | elapsed:    0.0s finished\n"
     ]
    },
    {
     "name": "stdout",
     "output_type": "stream",
     "text": [
      "NOTE: pick_channels() is a legacy function. New code should use inst.pick(...).\n",
      "Effective window size : 2.048 (s)\n",
      "Assigned label 0 (Healthy) for file AB2_211782_Rest1_ds_GA_rE_rL_ds_flt_rr_Dqrs_Rbcg_ASR_rr_eog_ica_mara_proj_rSE.set\n",
      "Processing file AB2_211852_Rest1_ds_GA_rE_rL_ds_flt_rr_Dqrs_Rbcg_ASR_rr_eog_ica_mara_proj_rSE.set\n",
      "Reading G:\\ABP_PreprocessedEEG\\AB2_211852_Rest1_ds_GA_rE_rL_ds_flt_rr_Dqrs_Rbcg_ASR_rr_eog_ica_mara_proj_rSE.fdt\n",
      "Reading 0 ... 37064  =      0.000 ...   148.256 secs...\n",
      "NOTE: pick_channels() is a legacy function. New code should use inst.pick(...).\n"
     ]
    },
    {
     "name": "stderr",
     "output_type": "stream",
     "text": [
      "C:\\Users\\locha\\AppData\\Local\\Temp\\ipykernel_43348\\3314105345.py:13: RuntimeWarning: The data contains 'boundary' events, indicating data discontinuities. Be cautious of filtering and epoching around these events.\n",
      "  raw = mne.io.read_raw_eeglab(filepath, preload=True)\n",
      "[Parallel(n_jobs=1)]: Using backend SequentialBackend with 1 concurrent workers.\n",
      "[Parallel(n_jobs=1)]: Done   1 out of   1 | elapsed:    0.0s remaining:    0.0s\n",
      "[Parallel(n_jobs=1)]: Done   1 out of   1 | elapsed:    0.0s finished\n",
      "C:\\Users\\locha\\AppData\\Local\\Temp\\ipykernel_43348\\3314105345.py:13: RuntimeWarning: Limited 2 annotation(s) that were expanding outside the data range.\n",
      "  raw = mne.io.read_raw_eeglab(filepath, preload=True)\n",
      "C:\\Users\\locha\\AppData\\Local\\Temp\\ipykernel_43348\\3314105345.py:13: RuntimeWarning: The data contains 'boundary' events, indicating data discontinuities. Be cautious of filtering and epoching around these events.\n",
      "  raw = mne.io.read_raw_eeglab(filepath, preload=True)\n"
     ]
    },
    {
     "name": "stdout",
     "output_type": "stream",
     "text": [
      "Effective window size : 2.048 (s)\n",
      "Assigned label 0 (Healthy) for file AB2_211852_Rest1_ds_GA_rE_rL_ds_flt_rr_Dqrs_Rbcg_ASR_rr_eog_ica_mara_proj_rSE.set\n",
      "Processing file AB2_212016_Rest1_ds_GA_rE_rL_ds_flt_rr_Dqrs_Rbcg_ASR_rr_eog_ica_mara_proj_rSE.set\n",
      "Reading G:\\ABP_PreprocessedEEG\\AB2_212016_Rest1_ds_GA_rE_rL_ds_flt_rr_Dqrs_Rbcg_ASR_rr_eog_ica_mara_proj_rSE.fdt\n",
      "Reading 0 ... 61439  =      0.000 ...   245.756 secs...\n"
     ]
    },
    {
     "name": "stderr",
     "output_type": "stream",
     "text": [
      "[Parallel(n_jobs=1)]: Using backend SequentialBackend with 1 concurrent workers.\n",
      "[Parallel(n_jobs=1)]: Done   1 out of   1 | elapsed:    0.0s remaining:    0.0s\n",
      "[Parallel(n_jobs=1)]: Done   1 out of   1 | elapsed:    0.0s finished\n"
     ]
    },
    {
     "name": "stdout",
     "output_type": "stream",
     "text": [
      "NOTE: pick_channels() is a legacy function. New code should use inst.pick(...).\n",
      "Effective window size : 2.048 (s)\n",
      "Assigned label 0 (Healthy) for file AB2_212016_Rest1_ds_GA_rE_rL_ds_flt_rr_Dqrs_Rbcg_ASR_rr_eog_ica_mara_proj_rSE.set\n",
      "Processing file AB2_212030_Rest1_ds_GA_rE_rL_ds_flt_rr_Dqrs_Rbcg_ASR_rr_eog_ica_mara_proj_rSE.set\n",
      "Reading G:\\ABP_PreprocessedEEG\\AB2_212030_Rest1_ds_GA_rE_rL_ds_flt_rr_Dqrs_Rbcg_ASR_rr_eog_ica_mara_proj_rSE.fdt\n",
      "Reading 0 ... 77629  =      0.000 ...   310.516 secs...\n"
     ]
    },
    {
     "name": "stderr",
     "output_type": "stream",
     "text": [
      "C:\\Users\\locha\\AppData\\Local\\Temp\\ipykernel_43348\\3314105345.py:13: RuntimeWarning: The data contains 'boundary' events, indicating data discontinuities. Be cautious of filtering and epoching around these events.\n",
      "  raw = mne.io.read_raw_eeglab(filepath, preload=True)\n",
      "[Parallel(n_jobs=1)]: Using backend SequentialBackend with 1 concurrent workers.\n",
      "[Parallel(n_jobs=1)]: Done   1 out of   1 | elapsed:    0.0s remaining:    0.0s\n",
      "[Parallel(n_jobs=1)]: Done   1 out of   1 | elapsed:    0.0s finished\n"
     ]
    },
    {
     "name": "stdout",
     "output_type": "stream",
     "text": [
      "NOTE: pick_channels() is a legacy function. New code should use inst.pick(...).\n",
      "Effective window size : 2.048 (s)\n",
      "Assigned label 0 (Healthy) for file AB2_212030_Rest1_ds_GA_rE_rL_ds_flt_rr_Dqrs_Rbcg_ASR_rr_eog_ica_mara_proj_rSE.set\n",
      "Processing file AB2_212048_Rest1_ds_GA_rE_rL_ds_flt_rr_Dqrs_Rbcg_ASR_rr_eog_ica_mara_proj_rSE.set\n",
      "Reading G:\\ABP_PreprocessedEEG\\AB2_212048_Rest1_ds_GA_rE_rL_ds_flt_rr_Dqrs_Rbcg_ASR_rr_eog_ica_mara_proj_rSE.fdt\n",
      "Reading 0 ... 79049  =      0.000 ...   316.196 secs...\n"
     ]
    },
    {
     "name": "stderr",
     "output_type": "stream",
     "text": [
      "C:\\Users\\locha\\AppData\\Local\\Temp\\ipykernel_43348\\3314105345.py:13: RuntimeWarning: Limited 1 annotation(s) that were expanding outside the data range.\n",
      "  raw = mne.io.read_raw_eeglab(filepath, preload=True)\n",
      "C:\\Users\\locha\\AppData\\Local\\Temp\\ipykernel_43348\\3314105345.py:13: RuntimeWarning: The data contains 'boundary' events, indicating data discontinuities. Be cautious of filtering and epoching around these events.\n",
      "  raw = mne.io.read_raw_eeglab(filepath, preload=True)\n",
      "[Parallel(n_jobs=1)]: Using backend SequentialBackend with 1 concurrent workers.\n",
      "[Parallel(n_jobs=1)]: Done   1 out of   1 | elapsed:    0.0s remaining:    0.0s\n",
      "[Parallel(n_jobs=1)]: Done   1 out of   1 | elapsed:    0.0s finished\n"
     ]
    },
    {
     "name": "stdout",
     "output_type": "stream",
     "text": [
      "NOTE: pick_channels() is a legacy function. New code should use inst.pick(...).\n",
      "Effective window size : 2.048 (s)\n",
      "Assigned label 0 (Healthy) for file AB2_212048_Rest1_ds_GA_rE_rL_ds_flt_rr_Dqrs_Rbcg_ASR_rr_eog_ica_mara_proj_rSE.set\n",
      "Processing file AB2_212101_Rest1_ds_GA_rE_rL_ds_flt_rr_Dqrs_Rbcg_ASR_rr_eog_ica_mara_proj_rSE.set\n",
      "Reading G:\\ABP_PreprocessedEEG\\AB2_212101_Rest1_ds_GA_rE_rL_ds_flt_rr_Dqrs_Rbcg_ASR_rr_eog_ica_mara_proj_rSE.fdt\n",
      "Reading 0 ... 75774  =      0.000 ...   303.096 secs...\n"
     ]
    },
    {
     "name": "stderr",
     "output_type": "stream",
     "text": [
      "C:\\Users\\locha\\AppData\\Local\\Temp\\ipykernel_43348\\3314105345.py:13: RuntimeWarning: Limited 1 annotation(s) that were expanding outside the data range.\n",
      "  raw = mne.io.read_raw_eeglab(filepath, preload=True)\n",
      "C:\\Users\\locha\\AppData\\Local\\Temp\\ipykernel_43348\\3314105345.py:13: RuntimeWarning: The data contains 'boundary' events, indicating data discontinuities. Be cautious of filtering and epoching around these events.\n",
      "  raw = mne.io.read_raw_eeglab(filepath, preload=True)\n",
      "[Parallel(n_jobs=1)]: Using backend SequentialBackend with 1 concurrent workers.\n",
      "[Parallel(n_jobs=1)]: Done   1 out of   1 | elapsed:    0.0s remaining:    0.0s\n",
      "[Parallel(n_jobs=1)]: Done   1 out of   1 | elapsed:    0.0s finished\n"
     ]
    },
    {
     "name": "stdout",
     "output_type": "stream",
     "text": [
      "NOTE: pick_channels() is a legacy function. New code should use inst.pick(...).\n",
      "Effective window size : 2.048 (s)\n",
      "Assigned label 0 (Healthy) for file AB2_212101_Rest1_ds_GA_rE_rL_ds_flt_rr_Dqrs_Rbcg_ASR_rr_eog_ica_mara_proj_rSE.set\n",
      "Processing file AB2_212166_Rest1_ds_GA_rE_rL_ds_flt_rr_Dqrs_Rbcg_ASR_rr_eog_ica_mara_proj_rSE.set\n",
      "Reading G:\\ABP_PreprocessedEEG\\AB2_212166_Rest1_ds_GA_rE_rL_ds_flt_rr_Dqrs_Rbcg_ASR_rr_eog_ica_mara_proj_rSE.fdt\n",
      "Reading 0 ... 74919  =      0.000 ...   299.676 secs...\n"
     ]
    },
    {
     "name": "stderr",
     "output_type": "stream",
     "text": [
      "C:\\Users\\locha\\AppData\\Local\\Temp\\ipykernel_43348\\3314105345.py:13: RuntimeWarning: Limited 1 annotation(s) that were expanding outside the data range.\n",
      "  raw = mne.io.read_raw_eeglab(filepath, preload=True)\n",
      "C:\\Users\\locha\\AppData\\Local\\Temp\\ipykernel_43348\\3314105345.py:13: RuntimeWarning: The data contains 'boundary' events, indicating data discontinuities. Be cautious of filtering and epoching around these events.\n",
      "  raw = mne.io.read_raw_eeglab(filepath, preload=True)\n",
      "[Parallel(n_jobs=1)]: Using backend SequentialBackend with 1 concurrent workers.\n",
      "[Parallel(n_jobs=1)]: Done   1 out of   1 | elapsed:    0.0s remaining:    0.0s\n",
      "[Parallel(n_jobs=1)]: Done   1 out of   1 | elapsed:    0.0s finished\n"
     ]
    },
    {
     "name": "stdout",
     "output_type": "stream",
     "text": [
      "NOTE: pick_channels() is a legacy function. New code should use inst.pick(...).\n",
      "Effective window size : 2.048 (s)\n",
      "Assigned label 0 (Healthy) for file AB2_212166_Rest1_ds_GA_rE_rL_ds_flt_rr_Dqrs_Rbcg_ASR_rr_eog_ica_mara_proj_rSE.set\n",
      "Processing file AB2_212167_Rest1_ds_GA_rE_rL_ds_flt_rr_Dqrs_Rbcg_ASR_rr_eog_ica_mara_proj_rSE.set\n",
      "Reading G:\\ABP_PreprocessedEEG\\AB2_212167_Rest1_ds_GA_rE_rL_ds_flt_rr_Dqrs_Rbcg_ASR_rr_eog_ica_mara_proj_rSE.fdt\n",
      "Reading 0 ... 61689  =      0.000 ...   246.756 secs...\n"
     ]
    },
    {
     "name": "stderr",
     "output_type": "stream",
     "text": [
      "C:\\Users\\locha\\AppData\\Local\\Temp\\ipykernel_43348\\3314105345.py:13: RuntimeWarning: Limited 1 annotation(s) that were expanding outside the data range.\n",
      "  raw = mne.io.read_raw_eeglab(filepath, preload=True)\n",
      "C:\\Users\\locha\\AppData\\Local\\Temp\\ipykernel_43348\\3314105345.py:13: RuntimeWarning: The data contains 'boundary' events, indicating data discontinuities. Be cautious of filtering and epoching around these events.\n",
      "  raw = mne.io.read_raw_eeglab(filepath, preload=True)\n",
      "[Parallel(n_jobs=1)]: Using backend SequentialBackend with 1 concurrent workers.\n",
      "[Parallel(n_jobs=1)]: Done   1 out of   1 | elapsed:    0.0s remaining:    0.0s\n",
      "[Parallel(n_jobs=1)]: Done   1 out of   1 | elapsed:    0.0s finished\n"
     ]
    },
    {
     "name": "stdout",
     "output_type": "stream",
     "text": [
      "NOTE: pick_channels() is a legacy function. New code should use inst.pick(...).\n",
      "Effective window size : 2.048 (s)\n",
      "Assigned label 0 (Healthy) for file AB2_212167_Rest1_ds_GA_rE_rL_ds_flt_rr_Dqrs_Rbcg_ASR_rr_eog_ica_mara_proj_rSE.set\n",
      "Processing file AB2_212496_Rest1_ds_GA_rE_rL_ds_flt_rr_Dqrs_Rbcg_ASR_rr_eog_ica_mara_proj_rSE.set\n",
      "Reading G:\\ABP_PreprocessedEEG\\AB2_212496_Rest1_ds_GA_rE_rL_ds_flt_rr_Dqrs_Rbcg_ASR_rr_eog_ica_mara_proj_rSE.fdt\n",
      "Reading 0 ... 64663  =      0.000 ...   258.652 secs...\n"
     ]
    },
    {
     "name": "stderr",
     "output_type": "stream",
     "text": [
      "C:\\Users\\locha\\AppData\\Local\\Temp\\ipykernel_43348\\3314105345.py:13: RuntimeWarning: The data contains 'boundary' events, indicating data discontinuities. Be cautious of filtering and epoching around these events.\n",
      "  raw = mne.io.read_raw_eeglab(filepath, preload=True)\n",
      "[Parallel(n_jobs=1)]: Using backend SequentialBackend with 1 concurrent workers.\n",
      "[Parallel(n_jobs=1)]: Done   1 out of   1 | elapsed:    0.0s remaining:    0.0s\n",
      "[Parallel(n_jobs=1)]: Done   1 out of   1 | elapsed:    0.0s finished\n"
     ]
    },
    {
     "name": "stdout",
     "output_type": "stream",
     "text": [
      "NOTE: pick_channels() is a legacy function. New code should use inst.pick(...).\n",
      "Effective window size : 2.048 (s)\n",
      "Assigned label 0 (Healthy) for file AB2_212496_Rest1_ds_GA_rE_rL_ds_flt_rr_Dqrs_Rbcg_ASR_rr_eog_ica_mara_proj_rSE.set\n",
      "Processing file AB2_212514_Rest1_ds_GA_rE_rL_ds_flt_rr_Dqrs_Rbcg_ASR_rr_eog_ica_mara_proj_rSE.set\n",
      "Reading G:\\ABP_PreprocessedEEG\\AB2_212514_Rest1_ds_GA_rE_rL_ds_flt_rr_Dqrs_Rbcg_ASR_rr_eog_ica_mara_proj_rSE.fdt\n",
      "Reading 0 ... 70949  =      0.000 ...   283.796 secs...\n"
     ]
    },
    {
     "name": "stderr",
     "output_type": "stream",
     "text": [
      "C:\\Users\\locha\\AppData\\Local\\Temp\\ipykernel_43348\\3314105345.py:13: RuntimeWarning: Limited 2 annotation(s) that were expanding outside the data range.\n",
      "  raw = mne.io.read_raw_eeglab(filepath, preload=True)\n",
      "C:\\Users\\locha\\AppData\\Local\\Temp\\ipykernel_43348\\3314105345.py:13: RuntimeWarning: The data contains 'boundary' events, indicating data discontinuities. Be cautious of filtering and epoching around these events.\n",
      "  raw = mne.io.read_raw_eeglab(filepath, preload=True)\n",
      "[Parallel(n_jobs=1)]: Using backend SequentialBackend with 1 concurrent workers.\n",
      "[Parallel(n_jobs=1)]: Done   1 out of   1 | elapsed:    0.0s remaining:    0.0s\n",
      "[Parallel(n_jobs=1)]: Done   1 out of   1 | elapsed:    0.0s finished\n"
     ]
    },
    {
     "name": "stdout",
     "output_type": "stream",
     "text": [
      "NOTE: pick_channels() is a legacy function. New code should use inst.pick(...).\n",
      "Effective window size : 2.048 (s)\n",
      "Assigned label 0 (Healthy) for file AB2_212514_Rest1_ds_GA_rE_rL_ds_flt_rr_Dqrs_Rbcg_ASR_rr_eog_ica_mara_proj_rSE.set\n",
      "Processing file AB2_212515_Rest1_ds_GA_rE_rL_ds_flt_rr_Dqrs_Rbcg_ASR_rr_eog_ica_mara_proj_rSE.set\n",
      "Reading G:\\ABP_PreprocessedEEG\\AB2_212515_Rest1_ds_GA_rE_rL_ds_flt_rr_Dqrs_Rbcg_ASR_rr_eog_ica_mara_proj_rSE.fdt\n",
      "Reading 0 ... 69984  =      0.000 ...   279.936 secs...\n"
     ]
    },
    {
     "name": "stderr",
     "output_type": "stream",
     "text": [
      "C:\\Users\\locha\\AppData\\Local\\Temp\\ipykernel_43348\\3314105345.py:13: RuntimeWarning: Limited 2 annotation(s) that were expanding outside the data range.\n",
      "  raw = mne.io.read_raw_eeglab(filepath, preload=True)\n",
      "C:\\Users\\locha\\AppData\\Local\\Temp\\ipykernel_43348\\3314105345.py:13: RuntimeWarning: The data contains 'boundary' events, indicating data discontinuities. Be cautious of filtering and epoching around these events.\n",
      "  raw = mne.io.read_raw_eeglab(filepath, preload=True)\n",
      "[Parallel(n_jobs=1)]: Using backend SequentialBackend with 1 concurrent workers.\n",
      "[Parallel(n_jobs=1)]: Done   1 out of   1 | elapsed:    0.0s remaining:    0.0s\n",
      "[Parallel(n_jobs=1)]: Done   1 out of   1 | elapsed:    0.0s finished\n"
     ]
    },
    {
     "name": "stdout",
     "output_type": "stream",
     "text": [
      "NOTE: pick_channels() is a legacy function. New code should use inst.pick(...).\n",
      "Effective window size : 2.048 (s)\n",
      "Assigned label 0 (Healthy) for file AB2_212515_Rest1_ds_GA_rE_rL_ds_flt_rr_Dqrs_Rbcg_ASR_rr_eog_ica_mara_proj_rSE.set\n",
      "Processing file AB2_212542_Rest1_ds_GA_rE_rL_ds_flt_rr_Dqrs_Rbcg_ASR_rr_eog_ica_mara_proj_rSE.set\n",
      "Reading G:\\ABP_PreprocessedEEG\\AB2_212542_Rest1_ds_GA_rE_rL_ds_flt_rr_Dqrs_Rbcg_ASR_rr_eog_ica_mara_proj_rSE.fdt\n",
      "Reading 0 ... 63479  =      0.000 ...   253.916 secs...\n"
     ]
    },
    {
     "name": "stderr",
     "output_type": "stream",
     "text": [
      "C:\\Users\\locha\\AppData\\Local\\Temp\\ipykernel_43348\\3314105345.py:13: RuntimeWarning: The data contains 'boundary' events, indicating data discontinuities. Be cautious of filtering and epoching around these events.\n",
      "  raw = mne.io.read_raw_eeglab(filepath, preload=True)\n",
      "[Parallel(n_jobs=1)]: Using backend SequentialBackend with 1 concurrent workers.\n",
      "[Parallel(n_jobs=1)]: Done   1 out of   1 | elapsed:    0.0s remaining:    0.0s\n",
      "[Parallel(n_jobs=1)]: Done   1 out of   1 | elapsed:    0.0s finished\n"
     ]
    },
    {
     "name": "stdout",
     "output_type": "stream",
     "text": [
      "NOTE: pick_channels() is a legacy function. New code should use inst.pick(...).\n",
      "Effective window size : 2.048 (s)\n",
      "Assigned label 0 (Healthy) for file AB2_212542_Rest1_ds_GA_rE_rL_ds_flt_rr_Dqrs_Rbcg_ASR_rr_eog_ica_mara_proj_rSE.set\n",
      "Processing file AB2_212760_Rest1_ds_GA_rE_rL_ds_flt_rr_Dqrs_Rbcg_ASR_rr_eog_ica_mara_proj_rSE.set\n",
      "Reading G:\\ABP_PreprocessedEEG\\AB2_212760_Rest1_ds_GA_rE_rL_ds_flt_rr_Dqrs_Rbcg_ASR_rr_eog_ica_mara_proj_rSE.fdt\n",
      "Reading 0 ... 76114  =      0.000 ...   304.456 secs...\n"
     ]
    },
    {
     "name": "stderr",
     "output_type": "stream",
     "text": [
      "C:\\Users\\locha\\AppData\\Local\\Temp\\ipykernel_43348\\3314105345.py:13: RuntimeWarning: Limited 2 annotation(s) that were expanding outside the data range.\n",
      "  raw = mne.io.read_raw_eeglab(filepath, preload=True)\n",
      "C:\\Users\\locha\\AppData\\Local\\Temp\\ipykernel_43348\\3314105345.py:13: RuntimeWarning: The data contains 'boundary' events, indicating data discontinuities. Be cautious of filtering and epoching around these events.\n",
      "  raw = mne.io.read_raw_eeglab(filepath, preload=True)\n",
      "[Parallel(n_jobs=1)]: Using backend SequentialBackend with 1 concurrent workers.\n",
      "[Parallel(n_jobs=1)]: Done   1 out of   1 | elapsed:    0.0s remaining:    0.0s\n",
      "[Parallel(n_jobs=1)]: Done   1 out of   1 | elapsed:    0.0s finished\n"
     ]
    },
    {
     "name": "stdout",
     "output_type": "stream",
     "text": [
      "NOTE: pick_channels() is a legacy function. New code should use inst.pick(...).\n",
      "Effective window size : 2.048 (s)\n",
      "Assigned label 0 (Healthy) for file AB2_212760_Rest1_ds_GA_rE_rL_ds_flt_rr_Dqrs_Rbcg_ASR_rr_eog_ica_mara_proj_rSE.set\n",
      "Processing file AB2_212782_Rest1_ds_GA_rE_rL_ds_flt_rr_Dqrs_Rbcg_ASR_rr_eog_ica_mara_proj_rSE.set\n",
      "Reading G:\\ABP_PreprocessedEEG\\AB2_212782_Rest1_ds_GA_rE_rL_ds_flt_rr_Dqrs_Rbcg_ASR_rr_eog_ica_mara_proj_rSE.fdt\n",
      "Reading 0 ... 72169  =      0.000 ...   288.676 secs...\n"
     ]
    },
    {
     "name": "stderr",
     "output_type": "stream",
     "text": [
      "C:\\Users\\locha\\AppData\\Local\\Temp\\ipykernel_43348\\3314105345.py:13: RuntimeWarning: The data contains 'boundary' events, indicating data discontinuities. Be cautious of filtering and epoching around these events.\n",
      "  raw = mne.io.read_raw_eeglab(filepath, preload=True)\n",
      "[Parallel(n_jobs=1)]: Using backend SequentialBackend with 1 concurrent workers.\n",
      "[Parallel(n_jobs=1)]: Done   1 out of   1 | elapsed:    0.0s remaining:    0.0s\n",
      "[Parallel(n_jobs=1)]: Done   1 out of   1 | elapsed:    0.0s finished\n"
     ]
    },
    {
     "name": "stdout",
     "output_type": "stream",
     "text": [
      "NOTE: pick_channels() is a legacy function. New code should use inst.pick(...).\n",
      "Effective window size : 2.048 (s)\n",
      "Assigned label 0 (Healthy) for file AB2_212782_Rest1_ds_GA_rE_rL_ds_flt_rr_Dqrs_Rbcg_ASR_rr_eog_ica_mara_proj_rSE.set\n",
      "Processing file AB2_212819_Rest1_ds_GA_rE_rL_ds_flt_rr_Dqrs_Rbcg_ASR_rr_eog_ica_mara_proj_rSE.set\n",
      "Reading G:\\ABP_PreprocessedEEG\\AB2_212819_Rest1_ds_GA_rE_rL_ds_flt_rr_Dqrs_Rbcg_ASR_rr_eog_ica_mara_proj_rSE.fdt\n",
      "Reading 0 ... 77204  =      0.000 ...   308.816 secs...\n"
     ]
    },
    {
     "name": "stderr",
     "output_type": "stream",
     "text": [
      "C:\\Users\\locha\\AppData\\Local\\Temp\\ipykernel_43348\\3314105345.py:13: RuntimeWarning: The data contains 'boundary' events, indicating data discontinuities. Be cautious of filtering and epoching around these events.\n",
      "  raw = mne.io.read_raw_eeglab(filepath, preload=True)\n",
      "[Parallel(n_jobs=1)]: Using backend SequentialBackend with 1 concurrent workers.\n",
      "[Parallel(n_jobs=1)]: Done   1 out of   1 | elapsed:    0.0s remaining:    0.0s\n",
      "[Parallel(n_jobs=1)]: Done   1 out of   1 | elapsed:    0.0s finished\n"
     ]
    },
    {
     "name": "stdout",
     "output_type": "stream",
     "text": [
      "NOTE: pick_channels() is a legacy function. New code should use inst.pick(...).\n",
      "Effective window size : 2.048 (s)\n",
      "Assigned label 0 (Healthy) for file AB2_212819_Rest1_ds_GA_rE_rL_ds_flt_rr_Dqrs_Rbcg_ASR_rr_eog_ica_mara_proj_rSE.set\n",
      "Processing file AB2_212820_Rest1_ds_GA_rE_rL_ds_flt_rr_Dqrs_Rbcg_ASR_rr_eog_ica_mara_proj_rSE.set\n",
      "Reading G:\\ABP_PreprocessedEEG\\AB2_212820_Rest1_ds_GA_rE_rL_ds_flt_rr_Dqrs_Rbcg_ASR_rr_eog_ica_mara_proj_rSE.fdt\n",
      "Reading 0 ... 80319  =      0.000 ...   321.276 secs...\n"
     ]
    },
    {
     "name": "stderr",
     "output_type": "stream",
     "text": [
      "C:\\Users\\locha\\AppData\\Local\\Temp\\ipykernel_43348\\3314105345.py:13: RuntimeWarning: Limited 1 annotation(s) that were expanding outside the data range.\n",
      "  raw = mne.io.read_raw_eeglab(filepath, preload=True)\n",
      "C:\\Users\\locha\\AppData\\Local\\Temp\\ipykernel_43348\\3314105345.py:13: RuntimeWarning: The data contains 'boundary' events, indicating data discontinuities. Be cautious of filtering and epoching around these events.\n",
      "  raw = mne.io.read_raw_eeglab(filepath, preload=True)\n",
      "[Parallel(n_jobs=1)]: Using backend SequentialBackend with 1 concurrent workers.\n",
      "[Parallel(n_jobs=1)]: Done   1 out of   1 | elapsed:    0.0s remaining:    0.0s\n",
      "[Parallel(n_jobs=1)]: Done   1 out of   1 | elapsed:    0.0s finished\n"
     ]
    },
    {
     "name": "stdout",
     "output_type": "stream",
     "text": [
      "NOTE: pick_channels() is a legacy function. New code should use inst.pick(...).\n",
      "Effective window size : 2.048 (s)\n",
      "Assigned label 0 (Healthy) for file AB2_212820_Rest1_ds_GA_rE_rL_ds_flt_rr_Dqrs_Rbcg_ASR_rr_eog_ica_mara_proj_rSE.set\n",
      "Processing file AB2_212840_Rest1_ds_GA_rE_rL_ds_flt_rr_Dqrs_Rbcg_ASR_rr_eog_ica_mara_proj_rSE.set\n",
      "Reading G:\\ABP_PreprocessedEEG\\AB2_212840_Rest1_ds_GA_rE_rL_ds_flt_rr_Dqrs_Rbcg_ASR_rr_eog_ica_mara_proj_rSE.fdt\n",
      "Reading 0 ... 79734  =      0.000 ...   318.936 secs...\n"
     ]
    },
    {
     "name": "stderr",
     "output_type": "stream",
     "text": [
      "C:\\Users\\locha\\AppData\\Local\\Temp\\ipykernel_43348\\3314105345.py:13: RuntimeWarning: The data contains 'boundary' events, indicating data discontinuities. Be cautious of filtering and epoching around these events.\n",
      "  raw = mne.io.read_raw_eeglab(filepath, preload=True)\n",
      "[Parallel(n_jobs=1)]: Using backend SequentialBackend with 1 concurrent workers.\n",
      "[Parallel(n_jobs=1)]: Done   1 out of   1 | elapsed:    0.0s remaining:    0.0s\n",
      "[Parallel(n_jobs=1)]: Done   1 out of   1 | elapsed:    0.0s finished\n"
     ]
    },
    {
     "name": "stdout",
     "output_type": "stream",
     "text": [
      "NOTE: pick_channels() is a legacy function. New code should use inst.pick(...).\n",
      "Effective window size : 2.048 (s)\n",
      "Assigned label 0 (Healthy) for file AB2_212840_Rest1_ds_GA_rE_rL_ds_flt_rr_Dqrs_Rbcg_ASR_rr_eog_ica_mara_proj_rSE.set\n",
      "Processing file AB2_213033_Rest1_ds_GA_rE_rL_ds_flt_rr_Dqrs_Rbcg_ASR_rr_eog_ica_mara_proj_rSE.set\n",
      "Reading G:\\ABP_PreprocessedEEG\\AB2_213033_Rest1_ds_GA_rE_rL_ds_flt_rr_Dqrs_Rbcg_ASR_rr_eog_ica_mara_proj_rSE.fdt\n",
      "Reading 0 ... 64639  =      0.000 ...   258.556 secs...\n"
     ]
    },
    {
     "name": "stderr",
     "output_type": "stream",
     "text": [
      "C:\\Users\\locha\\AppData\\Local\\Temp\\ipykernel_43348\\3314105345.py:13: RuntimeWarning: The data contains 'boundary' events, indicating data discontinuities. Be cautious of filtering and epoching around these events.\n",
      "  raw = mne.io.read_raw_eeglab(filepath, preload=True)\n",
      "[Parallel(n_jobs=1)]: Using backend SequentialBackend with 1 concurrent workers.\n",
      "[Parallel(n_jobs=1)]: Done   1 out of   1 | elapsed:    0.0s remaining:    0.0s\n",
      "[Parallel(n_jobs=1)]: Done   1 out of   1 | elapsed:    0.0s finished\n"
     ]
    },
    {
     "name": "stdout",
     "output_type": "stream",
     "text": [
      "NOTE: pick_channels() is a legacy function. New code should use inst.pick(...).\n",
      "Effective window size : 2.048 (s)\n",
      "Assigned label 0 (Healthy) for file AB2_213033_Rest1_ds_GA_rE_rL_ds_flt_rr_Dqrs_Rbcg_ASR_rr_eog_ica_mara_proj_rSE.set\n",
      "Processing file AB2_213075_Rest1_ds_GA_rE_rL_ds_flt_rr_Dqrs_Rbcg_ASR_rr_eog_ica_mara_proj_rSE.set\n",
      "Reading G:\\ABP_PreprocessedEEG\\AB2_213075_Rest1_ds_GA_rE_rL_ds_flt_rr_Dqrs_Rbcg_ASR_rr_eog_ica_mara_proj_rSE.fdt\n",
      "Reading 0 ... 75589  =      0.000 ...   302.356 secs...\n"
     ]
    },
    {
     "name": "stderr",
     "output_type": "stream",
     "text": [
      "C:\\Users\\locha\\AppData\\Local\\Temp\\ipykernel_43348\\3314105345.py:13: RuntimeWarning: Limited 2 annotation(s) that were expanding outside the data range.\n",
      "  raw = mne.io.read_raw_eeglab(filepath, preload=True)\n",
      "C:\\Users\\locha\\AppData\\Local\\Temp\\ipykernel_43348\\3314105345.py:13: RuntimeWarning: The data contains 'boundary' events, indicating data discontinuities. Be cautious of filtering and epoching around these events.\n",
      "  raw = mne.io.read_raw_eeglab(filepath, preload=True)\n",
      "[Parallel(n_jobs=1)]: Using backend SequentialBackend with 1 concurrent workers.\n",
      "[Parallel(n_jobs=1)]: Done   1 out of   1 | elapsed:    0.0s remaining:    0.0s\n",
      "[Parallel(n_jobs=1)]: Done   1 out of   1 | elapsed:    0.0s finished\n"
     ]
    },
    {
     "name": "stdout",
     "output_type": "stream",
     "text": [
      "NOTE: pick_channels() is a legacy function. New code should use inst.pick(...).\n",
      "Effective window size : 2.048 (s)\n",
      "Assigned label 0 (Healthy) for file AB2_213075_Rest1_ds_GA_rE_rL_ds_flt_rr_Dqrs_Rbcg_ASR_rr_eog_ica_mara_proj_rSE.set\n",
      "Processing file AB2_213193_Rest1_ds_GA_rE_rL_ds_flt_rr_Dqrs_Rbcg_ASR_rr_eog_ica_mara_proj_rSE.set\n",
      "Reading G:\\ABP_PreprocessedEEG\\AB2_213193_Rest1_ds_GA_rE_rL_ds_flt_rr_Dqrs_Rbcg_ASR_rr_eog_ica_mara_proj_rSE.fdt\n",
      "Reading 0 ... 78044  =      0.000 ...   312.176 secs...\n"
     ]
    },
    {
     "name": "stderr",
     "output_type": "stream",
     "text": [
      "C:\\Users\\locha\\AppData\\Local\\Temp\\ipykernel_43348\\3314105345.py:13: RuntimeWarning: The data contains 'boundary' events, indicating data discontinuities. Be cautious of filtering and epoching around these events.\n",
      "  raw = mne.io.read_raw_eeglab(filepath, preload=True)\n",
      "[Parallel(n_jobs=1)]: Using backend SequentialBackend with 1 concurrent workers.\n",
      "[Parallel(n_jobs=1)]: Done   1 out of   1 | elapsed:    0.0s remaining:    0.0s\n",
      "[Parallel(n_jobs=1)]: Done   1 out of   1 | elapsed:    0.0s finished\n"
     ]
    },
    {
     "name": "stdout",
     "output_type": "stream",
     "text": [
      "NOTE: pick_channels() is a legacy function. New code should use inst.pick(...).\n",
      "Effective window size : 2.048 (s)\n",
      "Assigned label 0 (Healthy) for file AB2_213193_Rest1_ds_GA_rE_rL_ds_flt_rr_Dqrs_Rbcg_ASR_rr_eog_ica_mara_proj_rSE.set\n",
      "Processing file AB2_213194_Rest1_ds_GA_rE_rL_ds_flt_rr_Dqrs_Rbcg_ASR_rr_eog_ica_mara_proj_rSE.set\n",
      "Reading G:\\ABP_PreprocessedEEG\\AB2_213194_Rest1_ds_GA_rE_rL_ds_flt_rr_Dqrs_Rbcg_ASR_rr_eog_ica_mara_proj_rSE.fdt\n",
      "Reading 0 ... 78389  =      0.000 ...   313.556 secs...\n"
     ]
    },
    {
     "name": "stderr",
     "output_type": "stream",
     "text": [
      "C:\\Users\\locha\\AppData\\Local\\Temp\\ipykernel_43348\\3314105345.py:13: RuntimeWarning: Limited 1 annotation(s) that were expanding outside the data range.\n",
      "  raw = mne.io.read_raw_eeglab(filepath, preload=True)\n",
      "C:\\Users\\locha\\AppData\\Local\\Temp\\ipykernel_43348\\3314105345.py:13: RuntimeWarning: The data contains 'boundary' events, indicating data discontinuities. Be cautious of filtering and epoching around these events.\n",
      "  raw = mne.io.read_raw_eeglab(filepath, preload=True)\n",
      "[Parallel(n_jobs=1)]: Using backend SequentialBackend with 1 concurrent workers.\n",
      "[Parallel(n_jobs=1)]: Done   1 out of   1 | elapsed:    0.0s remaining:    0.0s\n",
      "[Parallel(n_jobs=1)]: Done   1 out of   1 | elapsed:    0.0s finished\n"
     ]
    },
    {
     "name": "stdout",
     "output_type": "stream",
     "text": [
      "NOTE: pick_channels() is a legacy function. New code should use inst.pick(...).\n",
      "Effective window size : 2.048 (s)\n",
      "Assigned label 0 (Healthy) for file AB2_213194_Rest1_ds_GA_rE_rL_ds_flt_rr_Dqrs_Rbcg_ASR_rr_eog_ica_mara_proj_rSE.set\n",
      "Processing file AB2_213212_Rest1_ds_GA_rE_rL_ds_flt_rr_Dqrs_Rbcg_ASR_rr_eog_ica_mara_proj_rSE.set\n",
      "Reading G:\\ABP_PreprocessedEEG\\AB2_213212_Rest1_ds_GA_rE_rL_ds_flt_rr_Dqrs_Rbcg_ASR_rr_eog_ica_mara_proj_rSE.fdt\n",
      "Reading 0 ... 74834  =      0.000 ...   299.336 secs...\n"
     ]
    },
    {
     "name": "stderr",
     "output_type": "stream",
     "text": [
      "C:\\Users\\locha\\AppData\\Local\\Temp\\ipykernel_43348\\3314105345.py:13: RuntimeWarning: The data contains 'boundary' events, indicating data discontinuities. Be cautious of filtering and epoching around these events.\n",
      "  raw = mne.io.read_raw_eeglab(filepath, preload=True)\n",
      "[Parallel(n_jobs=1)]: Using backend SequentialBackend with 1 concurrent workers.\n",
      "[Parallel(n_jobs=1)]: Done   1 out of   1 | elapsed:    0.0s remaining:    0.0s\n",
      "[Parallel(n_jobs=1)]: Done   1 out of   1 | elapsed:    0.0s finished\n"
     ]
    },
    {
     "name": "stdout",
     "output_type": "stream",
     "text": [
      "NOTE: pick_channels() is a legacy function. New code should use inst.pick(...).\n",
      "Effective window size : 2.048 (s)\n",
      "Assigned label 0 (Healthy) for file AB2_213212_Rest1_ds_GA_rE_rL_ds_flt_rr_Dqrs_Rbcg_ASR_rr_eog_ica_mara_proj_rSE.set\n",
      "Processing file AB2_213325_Rest1_ds_GA_rE_rL_ds_flt_rr_Dqrs_Rbcg_ASR_rr_eog_ica_mara_proj_rSE.set\n",
      "Reading G:\\ABP_PreprocessedEEG\\AB2_213325_Rest1_ds_GA_rE_rL_ds_flt_rr_Dqrs_Rbcg_ASR_rr_eog_ica_mara_proj_rSE.fdt\n",
      "Reading 0 ... 77879  =      0.000 ...   311.516 secs...\n"
     ]
    },
    {
     "name": "stderr",
     "output_type": "stream",
     "text": [
      "C:\\Users\\locha\\AppData\\Local\\Temp\\ipykernel_43348\\3314105345.py:13: RuntimeWarning: The data contains 'boundary' events, indicating data discontinuities. Be cautious of filtering and epoching around these events.\n",
      "  raw = mne.io.read_raw_eeglab(filepath, preload=True)\n",
      "[Parallel(n_jobs=1)]: Using backend SequentialBackend with 1 concurrent workers.\n",
      "[Parallel(n_jobs=1)]: Done   1 out of   1 | elapsed:    0.0s remaining:    0.0s\n",
      "[Parallel(n_jobs=1)]: Done   1 out of   1 | elapsed:    0.0s finished\n"
     ]
    },
    {
     "name": "stdout",
     "output_type": "stream",
     "text": [
      "NOTE: pick_channels() is a legacy function. New code should use inst.pick(...).\n",
      "Effective window size : 2.048 (s)\n",
      "Assigned label 0 (Healthy) for file AB2_213325_Rest1_ds_GA_rE_rL_ds_flt_rr_Dqrs_Rbcg_ASR_rr_eog_ica_mara_proj_rSE.set\n",
      "Processing file AB3_110146_Rest1_ds_GA_rE_rL_ds_flt_rr_Dqrs_Rbcg_ASR_rr_eog_ica_mara_proj_rSE.set\n",
      "Reading G:\\ABP_PreprocessedEEG\\AB3_110146_Rest1_ds_GA_rE_rL_ds_flt_rr_Dqrs_Rbcg_ASR_rr_eog_ica_mara_proj_rSE.fdt\n",
      "Reading 0 ... 77094  =      0.000 ...   308.376 secs...\n"
     ]
    },
    {
     "name": "stderr",
     "output_type": "stream",
     "text": [
      "C:\\Users\\locha\\AppData\\Local\\Temp\\ipykernel_43348\\3314105345.py:13: RuntimeWarning: The data contains 'boundary' events, indicating data discontinuities. Be cautious of filtering and epoching around these events.\n",
      "  raw = mne.io.read_raw_eeglab(filepath, preload=True)\n",
      "[Parallel(n_jobs=1)]: Using backend SequentialBackend with 1 concurrent workers.\n",
      "[Parallel(n_jobs=1)]: Done   1 out of   1 | elapsed:    0.0s remaining:    0.0s\n",
      "[Parallel(n_jobs=1)]: Done   1 out of   1 | elapsed:    0.0s finished\n"
     ]
    },
    {
     "name": "stdout",
     "output_type": "stream",
     "text": [
      "NOTE: pick_channels() is a legacy function. New code should use inst.pick(...).\n",
      "Effective window size : 2.048 (s)\n",
      "Assigned label 1 (Schizophrenia) for file AB3_110146_Rest1_ds_GA_rE_rL_ds_flt_rr_Dqrs_Rbcg_ASR_rr_eog_ica_mara_proj_rSE.set\n",
      "Processing file AB3_202503_Rest1_ds_GA_rE_rL_ds_flt_rr_Dqrs_Rbcg_ASR_rr_eog_ica_mara_proj_rSE.set\n",
      "Reading G:\\ABP_PreprocessedEEG\\AB3_202503_Rest1_ds_GA_rE_rL_ds_flt_rr_Dqrs_Rbcg_ASR_rr_eog_ica_mara_proj_rSE.fdt\n",
      "Reading 0 ... 72659  =      0.000 ...   290.636 secs...\n"
     ]
    },
    {
     "name": "stderr",
     "output_type": "stream",
     "text": [
      "C:\\Users\\locha\\AppData\\Local\\Temp\\ipykernel_43348\\3314105345.py:13: RuntimeWarning: The data contains 'boundary' events, indicating data discontinuities. Be cautious of filtering and epoching around these events.\n",
      "  raw = mne.io.read_raw_eeglab(filepath, preload=True)\n",
      "[Parallel(n_jobs=1)]: Using backend SequentialBackend with 1 concurrent workers.\n",
      "[Parallel(n_jobs=1)]: Done   1 out of   1 | elapsed:    0.0s remaining:    0.0s\n",
      "[Parallel(n_jobs=1)]: Done   1 out of   1 | elapsed:    0.0s finished\n"
     ]
    },
    {
     "name": "stdout",
     "output_type": "stream",
     "text": [
      "NOTE: pick_channels() is a legacy function. New code should use inst.pick(...).\n",
      "Effective window size : 2.048 (s)\n",
      "Assigned label 1 (Schizophrenia) for file AB3_202503_Rest1_ds_GA_rE_rL_ds_flt_rr_Dqrs_Rbcg_ASR_rr_eog_ica_mara_proj_rSE.set\n",
      "Processing file AB3_209767_Rest1_ds_GA_rE_rL_ds_flt_rr_Dqrs_Rbcg_ASR_rr_eog_ica_mara_proj_rSE.set\n",
      "Reading G:\\ABP_PreprocessedEEG\\AB3_209767_Rest1_ds_GA_rE_rL_ds_flt_rr_Dqrs_Rbcg_ASR_rr_eog_ica_mara_proj_rSE.fdt\n",
      "Reading 0 ... 67504  =      0.000 ...   270.016 secs...\n"
     ]
    },
    {
     "name": "stderr",
     "output_type": "stream",
     "text": [
      "C:\\Users\\locha\\AppData\\Local\\Temp\\ipykernel_43348\\3314105345.py:13: RuntimeWarning: The data contains 'boundary' events, indicating data discontinuities. Be cautious of filtering and epoching around these events.\n",
      "  raw = mne.io.read_raw_eeglab(filepath, preload=True)\n",
      "[Parallel(n_jobs=1)]: Using backend SequentialBackend with 1 concurrent workers.\n",
      "[Parallel(n_jobs=1)]: Done   1 out of   1 | elapsed:    0.0s remaining:    0.0s\n",
      "[Parallel(n_jobs=1)]: Done   1 out of   1 | elapsed:    0.0s finished\n"
     ]
    },
    {
     "name": "stdout",
     "output_type": "stream",
     "text": [
      "NOTE: pick_channels() is a legacy function. New code should use inst.pick(...).\n",
      "Effective window size : 2.048 (s)\n",
      "Assigned label 1 (Schizophrenia) for file AB3_209767_Rest1_ds_GA_rE_rL_ds_flt_rr_Dqrs_Rbcg_ASR_rr_eog_ica_mara_proj_rSE.set\n",
      "Processing file AB3_211236_Rest1_ds_GA_rE_rL_ds_flt_rr_Dqrs_Rbcg_ASR_rr_eog_ica_mara_proj_rSE.set\n",
      "Reading G:\\ABP_PreprocessedEEG\\AB3_211236_Rest1_ds_GA_rE_rL_ds_flt_rr_Dqrs_Rbcg_ASR_rr_eog_ica_mara_proj_rSE.fdt\n",
      "Reading 0 ... 59429  =      0.000 ...   237.716 secs...\n"
     ]
    },
    {
     "name": "stderr",
     "output_type": "stream",
     "text": [
      "C:\\Users\\locha\\AppData\\Local\\Temp\\ipykernel_43348\\3314105345.py:13: RuntimeWarning: Limited 1 annotation(s) that were expanding outside the data range.\n",
      "  raw = mne.io.read_raw_eeglab(filepath, preload=True)\n",
      "C:\\Users\\locha\\AppData\\Local\\Temp\\ipykernel_43348\\3314105345.py:13: RuntimeWarning: The data contains 'boundary' events, indicating data discontinuities. Be cautious of filtering and epoching around these events.\n",
      "  raw = mne.io.read_raw_eeglab(filepath, preload=True)\n",
      "[Parallel(n_jobs=1)]: Using backend SequentialBackend with 1 concurrent workers.\n",
      "[Parallel(n_jobs=1)]: Done   1 out of   1 | elapsed:    0.0s remaining:    0.0s\n",
      "[Parallel(n_jobs=1)]: Done   1 out of   1 | elapsed:    0.0s finished\n"
     ]
    },
    {
     "name": "stdout",
     "output_type": "stream",
     "text": [
      "NOTE: pick_channels() is a legacy function. New code should use inst.pick(...).\n",
      "Effective window size : 2.048 (s)\n",
      "Assigned label 1 (Schizophrenia) for file AB3_211236_Rest1_ds_GA_rE_rL_ds_flt_rr_Dqrs_Rbcg_ASR_rr_eog_ica_mara_proj_rSE.set\n",
      "Processing file AB3_211237_Rest1_ds_GA_rE_rL_ds_flt_rr_Dqrs_Rbcg_ASR_rr_eog_ica_mara_proj_rSE.set\n",
      "Reading G:\\ABP_PreprocessedEEG\\AB3_211237_Rest1_ds_GA_rE_rL_ds_flt_rr_Dqrs_Rbcg_ASR_rr_eog_ica_mara_proj_rSE.fdt\n",
      "Reading 0 ... 77779  =      0.000 ...   311.116 secs...\n"
     ]
    },
    {
     "name": "stderr",
     "output_type": "stream",
     "text": [
      "C:\\Users\\locha\\AppData\\Local\\Temp\\ipykernel_43348\\3314105345.py:13: RuntimeWarning: Limited 2 annotation(s) that were expanding outside the data range.\n",
      "  raw = mne.io.read_raw_eeglab(filepath, preload=True)\n",
      "C:\\Users\\locha\\AppData\\Local\\Temp\\ipykernel_43348\\3314105345.py:13: RuntimeWarning: The data contains 'boundary' events, indicating data discontinuities. Be cautious of filtering and epoching around these events.\n",
      "  raw = mne.io.read_raw_eeglab(filepath, preload=True)\n",
      "[Parallel(n_jobs=1)]: Using backend SequentialBackend with 1 concurrent workers.\n",
      "[Parallel(n_jobs=1)]: Done   1 out of   1 | elapsed:    0.0s remaining:    0.0s\n",
      "[Parallel(n_jobs=1)]: Done   1 out of   1 | elapsed:    0.0s finished\n"
     ]
    },
    {
     "name": "stdout",
     "output_type": "stream",
     "text": [
      "NOTE: pick_channels() is a legacy function. New code should use inst.pick(...).\n",
      "Effective window size : 2.048 (s)\n",
      "Assigned label 1 (Schizophrenia) for file AB3_211237_Rest1_ds_GA_rE_rL_ds_flt_rr_Dqrs_Rbcg_ASR_rr_eog_ica_mara_proj_rSE.set\n",
      "Processing file AB3_211249_Rest1_ds_GA_rE_rL_ds_flt_rr_Dqrs_Rbcg_ASR_rr_eog_ica_mara_proj_rSE.set\n",
      "Reading G:\\ABP_PreprocessedEEG\\AB3_211249_Rest1_ds_GA_rE_rL_ds_flt_rr_Dqrs_Rbcg_ASR_rr_eog_ica_mara_proj_rSE.fdt\n",
      "Reading 0 ... 76204  =      0.000 ...   304.816 secs...\n"
     ]
    },
    {
     "name": "stderr",
     "output_type": "stream",
     "text": [
      "C:\\Users\\locha\\AppData\\Local\\Temp\\ipykernel_43348\\3314105345.py:13: RuntimeWarning: The data contains 'boundary' events, indicating data discontinuities. Be cautious of filtering and epoching around these events.\n",
      "  raw = mne.io.read_raw_eeglab(filepath, preload=True)\n",
      "[Parallel(n_jobs=1)]: Using backend SequentialBackend with 1 concurrent workers.\n",
      "[Parallel(n_jobs=1)]: Done   1 out of   1 | elapsed:    0.0s remaining:    0.0s\n",
      "[Parallel(n_jobs=1)]: Done   1 out of   1 | elapsed:    0.0s finished\n"
     ]
    },
    {
     "name": "stdout",
     "output_type": "stream",
     "text": [
      "NOTE: pick_channels() is a legacy function. New code should use inst.pick(...).\n",
      "Effective window size : 2.048 (s)\n",
      "Assigned label 1 (Schizophrenia) for file AB3_211249_Rest1_ds_GA_rE_rL_ds_flt_rr_Dqrs_Rbcg_ASR_rr_eog_ica_mara_proj_rSE.set\n",
      "Processing file AB3_211250_Rest1_ds_GA_rE_rL_ds_flt_rr_Dqrs_Rbcg_ASR_rr_eog_ica_mara_proj_rSE.set\n",
      "Reading G:\\ABP_PreprocessedEEG\\AB3_211250_Rest1_ds_GA_rE_rL_ds_flt_rr_Dqrs_Rbcg_ASR_rr_eog_ica_mara_proj_rSE.fdt\n",
      "Reading 0 ... 72959  =      0.000 ...   291.836 secs...\n"
     ]
    },
    {
     "name": "stderr",
     "output_type": "stream",
     "text": [
      "C:\\Users\\locha\\AppData\\Local\\Temp\\ipykernel_43348\\3314105345.py:13: RuntimeWarning: Limited 1 annotation(s) that were expanding outside the data range.\n",
      "  raw = mne.io.read_raw_eeglab(filepath, preload=True)\n",
      "C:\\Users\\locha\\AppData\\Local\\Temp\\ipykernel_43348\\3314105345.py:13: RuntimeWarning: The data contains 'boundary' events, indicating data discontinuities. Be cautious of filtering and epoching around these events.\n",
      "  raw = mne.io.read_raw_eeglab(filepath, preload=True)\n",
      "[Parallel(n_jobs=1)]: Using backend SequentialBackend with 1 concurrent workers.\n",
      "[Parallel(n_jobs=1)]: Done   1 out of   1 | elapsed:    0.0s remaining:    0.0s\n",
      "[Parallel(n_jobs=1)]: Done   1 out of   1 | elapsed:    0.0s finished\n"
     ]
    },
    {
     "name": "stdout",
     "output_type": "stream",
     "text": [
      "NOTE: pick_channels() is a legacy function. New code should use inst.pick(...).\n",
      "Effective window size : 2.048 (s)\n",
      "Assigned label 1 (Schizophrenia) for file AB3_211250_Rest1_ds_GA_rE_rL_ds_flt_rr_Dqrs_Rbcg_ASR_rr_eog_ica_mara_proj_rSE.set\n",
      "Processing file AB3_211275_Rest1_ds_GA_rE_rL_ds_flt_rr_Dqrs_Rbcg_ASR_rr_eog_ica_mara_proj_rSE.set\n",
      "Reading G:\\ABP_PreprocessedEEG\\AB3_211275_Rest1_ds_GA_rE_rL_ds_flt_rr_Dqrs_Rbcg_ASR_rr_eog_ica_mara_proj_rSE.fdt\n",
      "Reading 0 ... 78979  =      0.000 ...   315.916 secs...\n"
     ]
    },
    {
     "name": "stderr",
     "output_type": "stream",
     "text": [
      "C:\\Users\\locha\\AppData\\Local\\Temp\\ipykernel_43348\\3314105345.py:13: RuntimeWarning: The data contains 'boundary' events, indicating data discontinuities. Be cautious of filtering and epoching around these events.\n",
      "  raw = mne.io.read_raw_eeglab(filepath, preload=True)\n",
      "[Parallel(n_jobs=1)]: Using backend SequentialBackend with 1 concurrent workers.\n",
      "[Parallel(n_jobs=1)]: Done   1 out of   1 | elapsed:    0.0s remaining:    0.0s\n",
      "[Parallel(n_jobs=1)]: Done   1 out of   1 | elapsed:    0.0s finished\n"
     ]
    },
    {
     "name": "stdout",
     "output_type": "stream",
     "text": [
      "NOTE: pick_channels() is a legacy function. New code should use inst.pick(...).\n",
      "Effective window size : 2.048 (s)\n",
      "Assigned label 1 (Schizophrenia) for file AB3_211275_Rest1_ds_GA_rE_rL_ds_flt_rr_Dqrs_Rbcg_ASR_rr_eog_ica_mara_proj_rSE.set\n",
      "Processing file AB3_211312_Rest1_ds_GA_rE_rL_ds_flt_rr_Dqrs_Rbcg_ASR_rr_eog_ica_mara_proj_rSE.set\n",
      "Reading G:\\ABP_PreprocessedEEG\\AB3_211312_Rest1_ds_GA_rE_rL_ds_flt_rr_Dqrs_Rbcg_ASR_rr_eog_ica_mara_proj_rSE.fdt\n",
      "Reading 0 ... 76769  =      0.000 ...   307.076 secs...\n"
     ]
    },
    {
     "name": "stderr",
     "output_type": "stream",
     "text": [
      "C:\\Users\\locha\\AppData\\Local\\Temp\\ipykernel_43348\\3314105345.py:13: RuntimeWarning: Limited 1 annotation(s) that were expanding outside the data range.\n",
      "  raw = mne.io.read_raw_eeglab(filepath, preload=True)\n",
      "C:\\Users\\locha\\AppData\\Local\\Temp\\ipykernel_43348\\3314105345.py:13: RuntimeWarning: The data contains 'boundary' events, indicating data discontinuities. Be cautious of filtering and epoching around these events.\n",
      "  raw = mne.io.read_raw_eeglab(filepath, preload=True)\n",
      "[Parallel(n_jobs=1)]: Using backend SequentialBackend with 1 concurrent workers.\n",
      "[Parallel(n_jobs=1)]: Done   1 out of   1 | elapsed:    0.0s remaining:    0.0s\n",
      "[Parallel(n_jobs=1)]: Done   1 out of   1 | elapsed:    0.0s finished\n"
     ]
    },
    {
     "name": "stdout",
     "output_type": "stream",
     "text": [
      "NOTE: pick_channels() is a legacy function. New code should use inst.pick(...).\n",
      "Effective window size : 2.048 (s)\n",
      "Assigned label 1 (Schizophrenia) for file AB3_211312_Rest1_ds_GA_rE_rL_ds_flt_rr_Dqrs_Rbcg_ASR_rr_eog_ica_mara_proj_rSE.set\n",
      "Processing file AB3_211325_Rest1_ds_GA_rE_rL_ds_flt_rr_Dqrs_Rbcg_ASR_rr_eog_ica_mara_proj_rSE.set\n",
      "Reading G:\\ABP_PreprocessedEEG\\AB3_211325_Rest1_ds_GA_rE_rL_ds_flt_rr_Dqrs_Rbcg_ASR_rr_eog_ica_mara_proj_rSE.fdt\n",
      "Reading 0 ... 78224  =      0.000 ...   312.896 secs...\n"
     ]
    },
    {
     "name": "stderr",
     "output_type": "stream",
     "text": [
      "C:\\Users\\locha\\AppData\\Local\\Temp\\ipykernel_43348\\3314105345.py:13: RuntimeWarning: Limited 2 annotation(s) that were expanding outside the data range.\n",
      "  raw = mne.io.read_raw_eeglab(filepath, preload=True)\n",
      "C:\\Users\\locha\\AppData\\Local\\Temp\\ipykernel_43348\\3314105345.py:13: RuntimeWarning: The data contains 'boundary' events, indicating data discontinuities. Be cautious of filtering and epoching around these events.\n",
      "  raw = mne.io.read_raw_eeglab(filepath, preload=True)\n",
      "[Parallel(n_jobs=1)]: Using backend SequentialBackend with 1 concurrent workers.\n",
      "[Parallel(n_jobs=1)]: Done   1 out of   1 | elapsed:    0.0s remaining:    0.0s\n",
      "[Parallel(n_jobs=1)]: Done   1 out of   1 | elapsed:    0.0s finished\n"
     ]
    },
    {
     "name": "stdout",
     "output_type": "stream",
     "text": [
      "NOTE: pick_channels() is a legacy function. New code should use inst.pick(...).\n",
      "Effective window size : 2.048 (s)\n",
      "Assigned label 1 (Schizophrenia) for file AB3_211325_Rest1_ds_GA_rE_rL_ds_flt_rr_Dqrs_Rbcg_ASR_rr_eog_ica_mara_proj_rSE.set\n",
      "Processing file AB3_211326_Rest1_ds_GA_rE_rL_ds_flt_rr_Dqrs_Rbcg_ASR_rr_eog_ica_mara_proj_rSE.set\n",
      "Reading G:\\ABP_PreprocessedEEG\\AB3_211326_Rest1_ds_GA_rE_rL_ds_flt_rr_Dqrs_Rbcg_ASR_rr_eog_ica_mara_proj_rSE.fdt\n",
      "Reading 0 ... 75609  =      0.000 ...   302.436 secs...\n"
     ]
    },
    {
     "name": "stderr",
     "output_type": "stream",
     "text": [
      "C:\\Users\\locha\\AppData\\Local\\Temp\\ipykernel_43348\\3314105345.py:13: RuntimeWarning: The data contains 'boundary' events, indicating data discontinuities. Be cautious of filtering and epoching around these events.\n",
      "  raw = mne.io.read_raw_eeglab(filepath, preload=True)\n",
      "[Parallel(n_jobs=1)]: Using backend SequentialBackend with 1 concurrent workers.\n",
      "[Parallel(n_jobs=1)]: Done   1 out of   1 | elapsed:    0.0s remaining:    0.0s\n",
      "[Parallel(n_jobs=1)]: Done   1 out of   1 | elapsed:    0.0s finished\n"
     ]
    },
    {
     "name": "stdout",
     "output_type": "stream",
     "text": [
      "NOTE: pick_channels() is a legacy function. New code should use inst.pick(...).\n",
      "Effective window size : 2.048 (s)\n",
      "Assigned label 1 (Schizophrenia) for file AB3_211326_Rest1_ds_GA_rE_rL_ds_flt_rr_Dqrs_Rbcg_ASR_rr_eog_ica_mara_proj_rSE.set\n",
      "Processing file AB3_211340_Rest1_ds_GA_rE_rL_ds_flt_rr_Dqrs_Rbcg_ASR_rr_eog_ica_mara_proj_rSE.set\n",
      "Reading G:\\ABP_PreprocessedEEG\\AB3_211340_Rest1_ds_GA_rE_rL_ds_flt_rr_Dqrs_Rbcg_ASR_rr_eog_ica_mara_proj_rSE.fdt\n",
      "Reading 0 ... 81414  =      0.000 ...   325.656 secs...\n"
     ]
    },
    {
     "name": "stderr",
     "output_type": "stream",
     "text": [
      "C:\\Users\\locha\\AppData\\Local\\Temp\\ipykernel_43348\\3314105345.py:13: RuntimeWarning: The data contains 'boundary' events, indicating data discontinuities. Be cautious of filtering and epoching around these events.\n",
      "  raw = mne.io.read_raw_eeglab(filepath, preload=True)\n",
      "[Parallel(n_jobs=1)]: Using backend SequentialBackend with 1 concurrent workers.\n",
      "[Parallel(n_jobs=1)]: Done   1 out of   1 | elapsed:    0.0s remaining:    0.0s\n",
      "[Parallel(n_jobs=1)]: Done   1 out of   1 | elapsed:    0.0s finished\n"
     ]
    },
    {
     "name": "stdout",
     "output_type": "stream",
     "text": [
      "NOTE: pick_channels() is a legacy function. New code should use inst.pick(...).\n",
      "Effective window size : 2.048 (s)\n",
      "Assigned label 1 (Schizophrenia) for file AB3_211340_Rest1_ds_GA_rE_rL_ds_flt_rr_Dqrs_Rbcg_ASR_rr_eog_ica_mara_proj_rSE.set\n",
      "Processing file AB3_211670_Rest1_ds_GA_rE_rL_ds_flt_rr_Dqrs_Rbcg_ASR_rr_eog_ica_mara_proj_rSE.set\n",
      "Reading G:\\ABP_PreprocessedEEG\\AB3_211670_Rest1_ds_GA_rE_rL_ds_flt_rr_Dqrs_Rbcg_ASR_rr_eog_ica_mara_proj_rSE.fdt\n",
      "Reading 0 ... 80654  =      0.000 ...   322.616 secs...\n"
     ]
    },
    {
     "name": "stderr",
     "output_type": "stream",
     "text": [
      "C:\\Users\\locha\\AppData\\Local\\Temp\\ipykernel_43348\\3314105345.py:13: RuntimeWarning: The data contains 'boundary' events, indicating data discontinuities. Be cautious of filtering and epoching around these events.\n",
      "  raw = mne.io.read_raw_eeglab(filepath, preload=True)\n",
      "[Parallel(n_jobs=1)]: Using backend SequentialBackend with 1 concurrent workers.\n",
      "[Parallel(n_jobs=1)]: Done   1 out of   1 | elapsed:    0.0s remaining:    0.0s\n",
      "[Parallel(n_jobs=1)]: Done   1 out of   1 | elapsed:    0.0s finished\n"
     ]
    },
    {
     "name": "stdout",
     "output_type": "stream",
     "text": [
      "NOTE: pick_channels() is a legacy function. New code should use inst.pick(...).\n",
      "Effective window size : 2.048 (s)\n",
      "Assigned label 1 (Schizophrenia) for file AB3_211670_Rest1_ds_GA_rE_rL_ds_flt_rr_Dqrs_Rbcg_ASR_rr_eog_ica_mara_proj_rSE.set\n",
      "Processing file AB3_211694_Rest1_ds_GA_rE_rL_ds_flt_rr_Dqrs_Rbcg_ASR_rr_eog_ica_mara_proj_rSE.set\n",
      "Reading G:\\ABP_PreprocessedEEG\\AB3_211694_Rest1_ds_GA_rE_rL_ds_flt_rr_Dqrs_Rbcg_ASR_rr_eog_ica_mara_proj_rSE.fdt\n",
      "Reading 0 ... 77969  =      0.000 ...   311.876 secs...\n"
     ]
    },
    {
     "name": "stderr",
     "output_type": "stream",
     "text": [
      "C:\\Users\\locha\\AppData\\Local\\Temp\\ipykernel_43348\\3314105345.py:13: RuntimeWarning: The data contains 'boundary' events, indicating data discontinuities. Be cautious of filtering and epoching around these events.\n",
      "  raw = mne.io.read_raw_eeglab(filepath, preload=True)\n",
      "[Parallel(n_jobs=1)]: Using backend SequentialBackend with 1 concurrent workers.\n",
      "[Parallel(n_jobs=1)]: Done   1 out of   1 | elapsed:    0.0s remaining:    0.0s\n",
      "[Parallel(n_jobs=1)]: Done   1 out of   1 | elapsed:    0.0s finished\n"
     ]
    },
    {
     "name": "stdout",
     "output_type": "stream",
     "text": [
      "NOTE: pick_channels() is a legacy function. New code should use inst.pick(...).\n",
      "Effective window size : 2.048 (s)\n",
      "Assigned label 1 (Schizophrenia) for file AB3_211694_Rest1_ds_GA_rE_rL_ds_flt_rr_Dqrs_Rbcg_ASR_rr_eog_ica_mara_proj_rSE.set\n",
      "Processing file AB3_212027_Rest1_ds_GA_rE_rL_ds_flt_rr_Dqrs_Rbcg_ASR_rr_eog_ica_mara_proj_rSE.set\n",
      "Reading G:\\ABP_PreprocessedEEG\\AB3_212027_Rest1_ds_GA_rE_rL_ds_flt_rr_Dqrs_Rbcg_ASR_rr_eog_ica_mara_proj_rSE.fdt\n",
      "Reading 0 ... 79139  =      0.000 ...   316.556 secs...\n"
     ]
    },
    {
     "name": "stderr",
     "output_type": "stream",
     "text": [
      "C:\\Users\\locha\\AppData\\Local\\Temp\\ipykernel_43348\\3314105345.py:13: RuntimeWarning: Limited 1 annotation(s) that were expanding outside the data range.\n",
      "  raw = mne.io.read_raw_eeglab(filepath, preload=True)\n",
      "C:\\Users\\locha\\AppData\\Local\\Temp\\ipykernel_43348\\3314105345.py:13: RuntimeWarning: The data contains 'boundary' events, indicating data discontinuities. Be cautious of filtering and epoching around these events.\n",
      "  raw = mne.io.read_raw_eeglab(filepath, preload=True)\n",
      "[Parallel(n_jobs=1)]: Using backend SequentialBackend with 1 concurrent workers.\n",
      "[Parallel(n_jobs=1)]: Done   1 out of   1 | elapsed:    0.0s remaining:    0.0s\n",
      "[Parallel(n_jobs=1)]: Done   1 out of   1 | elapsed:    0.0s finished\n"
     ]
    },
    {
     "name": "stdout",
     "output_type": "stream",
     "text": [
      "NOTE: pick_channels() is a legacy function. New code should use inst.pick(...).\n",
      "Effective window size : 2.048 (s)\n",
      "Assigned label 1 (Schizophrenia) for file AB3_212027_Rest1_ds_GA_rE_rL_ds_flt_rr_Dqrs_Rbcg_ASR_rr_eog_ica_mara_proj_rSE.set\n",
      "Processing file AB3_212049_Rest1_ds_GA_rE_rL_ds_flt_rr_Dqrs_Rbcg_ASR_rr_eog_ica_mara_proj_rSE.set\n",
      "Reading G:\\ABP_PreprocessedEEG\\AB3_212049_Rest1_ds_GA_rE_rL_ds_flt_rr_Dqrs_Rbcg_ASR_rr_eog_ica_mara_proj_rSE.fdt\n",
      "Reading 0 ... 66989  =      0.000 ...   267.956 secs...\n"
     ]
    },
    {
     "name": "stderr",
     "output_type": "stream",
     "text": [
      "C:\\Users\\locha\\AppData\\Local\\Temp\\ipykernel_43348\\3314105345.py:13: RuntimeWarning: The data contains 'boundary' events, indicating data discontinuities. Be cautious of filtering and epoching around these events.\n",
      "  raw = mne.io.read_raw_eeglab(filepath, preload=True)\n",
      "[Parallel(n_jobs=1)]: Using backend SequentialBackend with 1 concurrent workers.\n",
      "[Parallel(n_jobs=1)]: Done   1 out of   1 | elapsed:    0.0s remaining:    0.0s\n",
      "[Parallel(n_jobs=1)]: Done   1 out of   1 | elapsed:    0.0s finished\n"
     ]
    },
    {
     "name": "stdout",
     "output_type": "stream",
     "text": [
      "NOTE: pick_channels() is a legacy function. New code should use inst.pick(...).\n",
      "Effective window size : 2.048 (s)\n",
      "Assigned label 1 (Schizophrenia) for file AB3_212049_Rest1_ds_GA_rE_rL_ds_flt_rr_Dqrs_Rbcg_ASR_rr_eog_ica_mara_proj_rSE.set\n",
      "Processing file AB3_212336_Rest1_ds_GA_rE_rL_ds_flt_rr_Dqrs_Rbcg_ASR_rr_eog_ica_mara_proj_rSE.set\n",
      "Reading G:\\ABP_PreprocessedEEG\\AB3_212336_Rest1_ds_GA_rE_rL_ds_flt_rr_Dqrs_Rbcg_ASR_rr_eog_ica_mara_proj_rSE.fdt\n",
      "Reading 0 ... 67439  =      0.000 ...   269.756 secs...\n"
     ]
    },
    {
     "name": "stderr",
     "output_type": "stream",
     "text": [
      "C:\\Users\\locha\\AppData\\Local\\Temp\\ipykernel_43348\\3314105345.py:13: RuntimeWarning: Limited 1 annotation(s) that were expanding outside the data range.\n",
      "  raw = mne.io.read_raw_eeglab(filepath, preload=True)\n",
      "C:\\Users\\locha\\AppData\\Local\\Temp\\ipykernel_43348\\3314105345.py:13: RuntimeWarning: The data contains 'boundary' events, indicating data discontinuities. Be cautious of filtering and epoching around these events.\n",
      "  raw = mne.io.read_raw_eeglab(filepath, preload=True)\n",
      "[Parallel(n_jobs=1)]: Using backend SequentialBackend with 1 concurrent workers.\n",
      "[Parallel(n_jobs=1)]: Done   1 out of   1 | elapsed:    0.0s remaining:    0.0s\n",
      "[Parallel(n_jobs=1)]: Done   1 out of   1 | elapsed:    0.0s finished\n"
     ]
    },
    {
     "name": "stdout",
     "output_type": "stream",
     "text": [
      "NOTE: pick_channels() is a legacy function. New code should use inst.pick(...).\n",
      "Effective window size : 2.048 (s)\n",
      "Assigned label 1 (Schizophrenia) for file AB3_212336_Rest1_ds_GA_rE_rL_ds_flt_rr_Dqrs_Rbcg_ASR_rr_eog_ica_mara_proj_rSE.set\n",
      "Processing file AB3_212577_Rest1_ds_GA_rE_rL_ds_flt_rr_Dqrs_Rbcg_ASR_rr_eog_ica_mara_proj_rSE.set\n",
      "Reading G:\\ABP_PreprocessedEEG\\AB3_212577_Rest1_ds_GA_rE_rL_ds_flt_rr_Dqrs_Rbcg_ASR_rr_eog_ica_mara_proj_rSE.fdt\n",
      "Reading 0 ... 76444  =      0.000 ...   305.776 secs...\n"
     ]
    },
    {
     "name": "stderr",
     "output_type": "stream",
     "text": [
      "C:\\Users\\locha\\AppData\\Local\\Temp\\ipykernel_43348\\3314105345.py:13: RuntimeWarning: Limited 1 annotation(s) that were expanding outside the data range.\n",
      "  raw = mne.io.read_raw_eeglab(filepath, preload=True)\n",
      "C:\\Users\\locha\\AppData\\Local\\Temp\\ipykernel_43348\\3314105345.py:13: RuntimeWarning: The data contains 'boundary' events, indicating data discontinuities. Be cautious of filtering and epoching around these events.\n",
      "  raw = mne.io.read_raw_eeglab(filepath, preload=True)\n",
      "[Parallel(n_jobs=1)]: Using backend SequentialBackend with 1 concurrent workers.\n",
      "[Parallel(n_jobs=1)]: Done   1 out of   1 | elapsed:    0.0s remaining:    0.0s\n",
      "[Parallel(n_jobs=1)]: Done   1 out of   1 | elapsed:    0.0s finished\n"
     ]
    },
    {
     "name": "stdout",
     "output_type": "stream",
     "text": [
      "NOTE: pick_channels() is a legacy function. New code should use inst.pick(...).\n",
      "Effective window size : 2.048 (s)\n",
      "Assigned label 1 (Schizophrenia) for file AB3_212577_Rest1_ds_GA_rE_rL_ds_flt_rr_Dqrs_Rbcg_ASR_rr_eog_ica_mara_proj_rSE.set\n",
      "Processing file AB3_212578_Rest1_ds_GA_rE_rL_ds_flt_rr_Dqrs_Rbcg_ASR_rr_eog_ica_mara_proj_rSE.set\n",
      "Reading G:\\ABP_PreprocessedEEG\\AB3_212578_Rest1_ds_GA_rE_rL_ds_flt_rr_Dqrs_Rbcg_ASR_rr_eog_ica_mara_proj_rSE.fdt\n",
      "Reading 0 ... 77629  =      0.000 ...   310.516 secs...\n"
     ]
    },
    {
     "name": "stderr",
     "output_type": "stream",
     "text": [
      "C:\\Users\\locha\\AppData\\Local\\Temp\\ipykernel_43348\\3314105345.py:13: RuntimeWarning: Limited 1 annotation(s) that were expanding outside the data range.\n",
      "  raw = mne.io.read_raw_eeglab(filepath, preload=True)\n",
      "C:\\Users\\locha\\AppData\\Local\\Temp\\ipykernel_43348\\3314105345.py:13: RuntimeWarning: The data contains 'boundary' events, indicating data discontinuities. Be cautious of filtering and epoching around these events.\n",
      "  raw = mne.io.read_raw_eeglab(filepath, preload=True)\n",
      "[Parallel(n_jobs=1)]: Using backend SequentialBackend with 1 concurrent workers.\n",
      "[Parallel(n_jobs=1)]: Done   1 out of   1 | elapsed:    0.0s remaining:    0.0s\n",
      "[Parallel(n_jobs=1)]: Done   1 out of   1 | elapsed:    0.0s finished\n"
     ]
    },
    {
     "name": "stdout",
     "output_type": "stream",
     "text": [
      "NOTE: pick_channels() is a legacy function. New code should use inst.pick(...).\n",
      "Effective window size : 2.048 (s)\n",
      "Assigned label 1 (Schizophrenia) for file AB3_212578_Rest1_ds_GA_rE_rL_ds_flt_rr_Dqrs_Rbcg_ASR_rr_eog_ica_mara_proj_rSE.set\n",
      "Processing file AB3_212590_Rest1_ds_GA_rE_rL_ds_flt_rr_Dqrs_Rbcg_ASR_rr_eog_ica_mara_proj_rSE.set\n",
      "Reading G:\\ABP_PreprocessedEEG\\AB3_212590_Rest1_ds_GA_rE_rL_ds_flt_rr_Dqrs_Rbcg_ASR_rr_eog_ica_mara_proj_rSE.fdt\n",
      "Reading 0 ... 72744  =      0.000 ...   290.976 secs...\n"
     ]
    },
    {
     "name": "stderr",
     "output_type": "stream",
     "text": [
      "C:\\Users\\locha\\AppData\\Local\\Temp\\ipykernel_43348\\3314105345.py:13: RuntimeWarning: The data contains 'boundary' events, indicating data discontinuities. Be cautious of filtering and epoching around these events.\n",
      "  raw = mne.io.read_raw_eeglab(filepath, preload=True)\n",
      "[Parallel(n_jobs=1)]: Using backend SequentialBackend with 1 concurrent workers.\n",
      "[Parallel(n_jobs=1)]: Done   1 out of   1 | elapsed:    0.0s remaining:    0.0s\n",
      "[Parallel(n_jobs=1)]: Done   1 out of   1 | elapsed:    0.0s finished\n"
     ]
    },
    {
     "name": "stdout",
     "output_type": "stream",
     "text": [
      "NOTE: pick_channels() is a legacy function. New code should use inst.pick(...).\n",
      "Effective window size : 2.048 (s)\n",
      "Assigned label 1 (Schizophrenia) for file AB3_212590_Rest1_ds_GA_rE_rL_ds_flt_rr_Dqrs_Rbcg_ASR_rr_eog_ica_mara_proj_rSE.set\n",
      "Processing file AB3_212595_Rest1_ds_GA_rE_rL_ds_flt_rr_Dqrs_Rbcg_ASR_rr_eog_ica_mara_proj_rSE.set\n",
      "Reading G:\\ABP_PreprocessedEEG\\AB3_212595_Rest1_ds_GA_rE_rL_ds_flt_rr_Dqrs_Rbcg_ASR_rr_eog_ica_mara_proj_rSE.fdt\n",
      "Reading 0 ... 76245  =      0.000 ...   304.980 secs...\n"
     ]
    },
    {
     "name": "stderr",
     "output_type": "stream",
     "text": [
      "C:\\Users\\locha\\AppData\\Local\\Temp\\ipykernel_43348\\3314105345.py:13: RuntimeWarning: The data contains 'boundary' events, indicating data discontinuities. Be cautious of filtering and epoching around these events.\n",
      "  raw = mne.io.read_raw_eeglab(filepath, preload=True)\n",
      "[Parallel(n_jobs=1)]: Using backend SequentialBackend with 1 concurrent workers.\n",
      "[Parallel(n_jobs=1)]: Done   1 out of   1 | elapsed:    0.0s remaining:    0.0s\n",
      "[Parallel(n_jobs=1)]: Done   1 out of   1 | elapsed:    0.0s finished\n"
     ]
    },
    {
     "name": "stdout",
     "output_type": "stream",
     "text": [
      "NOTE: pick_channels() is a legacy function. New code should use inst.pick(...).\n",
      "Effective window size : 2.048 (s)\n",
      "Assigned label 1 (Schizophrenia) for file AB3_212595_Rest1_ds_GA_rE_rL_ds_flt_rr_Dqrs_Rbcg_ASR_rr_eog_ica_mara_proj_rSE.set\n",
      "Processing file AB3_212654_Rest1_ds_GA_rE_rL_ds_flt_rr_Dqrs_Rbcg_ASR_rr_eog_ica_mara_proj_rSE.set\n",
      "Reading G:\\ABP_PreprocessedEEG\\AB3_212654_Rest1_ds_GA_rE_rL_ds_flt_rr_Dqrs_Rbcg_ASR_rr_eog_ica_mara_proj_rSE.fdt\n",
      "Reading 0 ... 69659  =      0.000 ...   278.636 secs...\n"
     ]
    },
    {
     "name": "stderr",
     "output_type": "stream",
     "text": [
      "C:\\Users\\locha\\AppData\\Local\\Temp\\ipykernel_43348\\3314105345.py:13: RuntimeWarning: Limited 1 annotation(s) that were expanding outside the data range.\n",
      "  raw = mne.io.read_raw_eeglab(filepath, preload=True)\n",
      "C:\\Users\\locha\\AppData\\Local\\Temp\\ipykernel_43348\\3314105345.py:13: RuntimeWarning: The data contains 'boundary' events, indicating data discontinuities. Be cautious of filtering and epoching around these events.\n",
      "  raw = mne.io.read_raw_eeglab(filepath, preload=True)\n",
      "[Parallel(n_jobs=1)]: Using backend SequentialBackend with 1 concurrent workers.\n",
      "[Parallel(n_jobs=1)]: Done   1 out of   1 | elapsed:    0.0s remaining:    0.0s\n",
      "[Parallel(n_jobs=1)]: Done   1 out of   1 | elapsed:    0.0s finished\n"
     ]
    },
    {
     "name": "stdout",
     "output_type": "stream",
     "text": [
      "NOTE: pick_channels() is a legacy function. New code should use inst.pick(...).\n",
      "Effective window size : 2.048 (s)\n",
      "Assigned label 1 (Schizophrenia) for file AB3_212654_Rest1_ds_GA_rE_rL_ds_flt_rr_Dqrs_Rbcg_ASR_rr_eog_ica_mara_proj_rSE.set\n",
      "Processing file AB3_212751_Rest1_ds_GA_rE_rL_ds_flt_rr_Dqrs_Rbcg_ASR_rr_eog_ica_mara_proj_rSE.set\n",
      "Reading G:\\ABP_PreprocessedEEG\\AB3_212751_Rest1_ds_GA_rE_rL_ds_flt_rr_Dqrs_Rbcg_ASR_rr_eog_ica_mara_proj_rSE.fdt\n",
      "Reading 0 ... 64589  =      0.000 ...   258.356 secs...\n"
     ]
    },
    {
     "name": "stderr",
     "output_type": "stream",
     "text": [
      "C:\\Users\\locha\\AppData\\Local\\Temp\\ipykernel_43348\\3314105345.py:13: RuntimeWarning: The data contains 'boundary' events, indicating data discontinuities. Be cautious of filtering and epoching around these events.\n",
      "  raw = mne.io.read_raw_eeglab(filepath, preload=True)\n",
      "[Parallel(n_jobs=1)]: Using backend SequentialBackend with 1 concurrent workers.\n",
      "[Parallel(n_jobs=1)]: Done   1 out of   1 | elapsed:    0.0s remaining:    0.0s\n",
      "[Parallel(n_jobs=1)]: Done   1 out of   1 | elapsed:    0.0s finished\n"
     ]
    },
    {
     "name": "stdout",
     "output_type": "stream",
     "text": [
      "NOTE: pick_channels() is a legacy function. New code should use inst.pick(...).\n",
      "Effective window size : 2.048 (s)\n",
      "Assigned label 1 (Schizophrenia) for file AB3_212751_Rest1_ds_GA_rE_rL_ds_flt_rr_Dqrs_Rbcg_ASR_rr_eog_ica_mara_proj_rSE.set\n",
      "Processing file AB3_212769_Rest1_ds_GA_rE_rL_ds_flt_rr_Dqrs_Rbcg_ASR_rr_eog_ica_mara_proj_rSE.set\n",
      "Reading G:\\ABP_PreprocessedEEG\\AB3_212769_Rest1_ds_GA_rE_rL_ds_flt_rr_Dqrs_Rbcg_ASR_rr_eog_ica_mara_proj_rSE.fdt\n",
      "Reading 0 ... 74924  =      0.000 ...   299.696 secs...\n"
     ]
    },
    {
     "name": "stderr",
     "output_type": "stream",
     "text": [
      "C:\\Users\\locha\\AppData\\Local\\Temp\\ipykernel_43348\\3314105345.py:13: RuntimeWarning: Limited 1 annotation(s) that were expanding outside the data range.\n",
      "  raw = mne.io.read_raw_eeglab(filepath, preload=True)\n",
      "C:\\Users\\locha\\AppData\\Local\\Temp\\ipykernel_43348\\3314105345.py:13: RuntimeWarning: The data contains 'boundary' events, indicating data discontinuities. Be cautious of filtering and epoching around these events.\n",
      "  raw = mne.io.read_raw_eeglab(filepath, preload=True)\n",
      "[Parallel(n_jobs=1)]: Using backend SequentialBackend with 1 concurrent workers.\n",
      "[Parallel(n_jobs=1)]: Done   1 out of   1 | elapsed:    0.0s remaining:    0.0s\n",
      "[Parallel(n_jobs=1)]: Done   1 out of   1 | elapsed:    0.0s finished\n"
     ]
    },
    {
     "name": "stdout",
     "output_type": "stream",
     "text": [
      "NOTE: pick_channels() is a legacy function. New code should use inst.pick(...).\n",
      "Effective window size : 2.048 (s)\n",
      "Assigned label 1 (Schizophrenia) for file AB3_212769_Rest1_ds_GA_rE_rL_ds_flt_rr_Dqrs_Rbcg_ASR_rr_eog_ica_mara_proj_rSE.set\n",
      "Processing file AB3_212976_Rest1_ds_GA_rE_rL_ds_flt_rr_Dqrs_Rbcg_ASR_rr_eog_ica_mara_proj_rSE.set\n",
      "Reading G:\\ABP_PreprocessedEEG\\AB3_212976_Rest1_ds_GA_rE_rL_ds_flt_rr_Dqrs_Rbcg_ASR_rr_eog_ica_mara_proj_rSE.fdt\n",
      "Reading 0 ... 78224  =      0.000 ...   312.896 secs...\n"
     ]
    },
    {
     "name": "stderr",
     "output_type": "stream",
     "text": [
      "C:\\Users\\locha\\AppData\\Local\\Temp\\ipykernel_43348\\3314105345.py:13: RuntimeWarning: The data contains 'boundary' events, indicating data discontinuities. Be cautious of filtering and epoching around these events.\n",
      "  raw = mne.io.read_raw_eeglab(filepath, preload=True)\n",
      "[Parallel(n_jobs=1)]: Using backend SequentialBackend with 1 concurrent workers.\n",
      "[Parallel(n_jobs=1)]: Done   1 out of   1 | elapsed:    0.0s remaining:    0.0s\n",
      "[Parallel(n_jobs=1)]: Done   1 out of   1 | elapsed:    0.0s finished\n"
     ]
    },
    {
     "name": "stdout",
     "output_type": "stream",
     "text": [
      "NOTE: pick_channels() is a legacy function. New code should use inst.pick(...).\n",
      "Effective window size : 2.048 (s)\n",
      "Assigned label 1 (Schizophrenia) for file AB3_212976_Rest1_ds_GA_rE_rL_ds_flt_rr_Dqrs_Rbcg_ASR_rr_eog_ica_mara_proj_rSE.set\n",
      "Number of feature vectors: 60\n",
      "Number of labels: 60\n",
      "Classification Report:\n",
      "               precision    recall  f1-score   support\n",
      "\n",
      "           0       0.83      1.00      0.91         5\n",
      "           1       1.00      0.75      0.86         4\n",
      "\n",
      "    accuracy                           0.89         9\n",
      "   macro avg       0.92      0.88      0.88         9\n",
      "weighted avg       0.91      0.89      0.89         9\n",
      "\n",
      "Accuracy: 0.8888888888888888\n"
     ]
    },
    {
     "name": "stderr",
     "output_type": "stream",
     "text": [
      "C:\\Users\\locha\\AppData\\Local\\Temp\\ipykernel_43348\\3314105345.py:13: RuntimeWarning: Limited 1 annotation(s) that were expanding outside the data range.\n",
      "  raw = mne.io.read_raw_eeglab(filepath, preload=True)\n",
      "C:\\Users\\locha\\AppData\\Local\\Temp\\ipykernel_43348\\3314105345.py:13: RuntimeWarning: The data contains 'boundary' events, indicating data discontinuities. Be cautious of filtering and epoching around these events.\n",
      "  raw = mne.io.read_raw_eeglab(filepath, preload=True)\n",
      "[Parallel(n_jobs=1)]: Using backend SequentialBackend with 1 concurrent workers.\n",
      "[Parallel(n_jobs=1)]: Done   1 out of   1 | elapsed:    0.0s remaining:    0.0s\n",
      "[Parallel(n_jobs=1)]: Done   1 out of   1 | elapsed:    0.0s finished\n"
     ]
    }
   ],
   "source": [
    "import mne\n",
    "import numpy as np\n",
    "import os\n",
    "from sklearn.model_selection import train_test_split\n",
    "from sklearn.preprocessing import StandardScaler\n",
    "from sklearn.svm import SVC\n",
    "from sklearn.pipeline import make_pipeline\n",
    "from sklearn.metrics import classification_report, accuracy_score\n",
    "\n",
    "def load_and_extract_features(filepath, common_channels, target_length=62):\n",
    "    try:\n",
    "        # Load the preprocessed .set file\n",
    "        raw = mne.io.read_raw_eeglab(filepath, preload=True)\n",
    "        \n",
    "        # Ensure that the file contains the common channels\n",
    "        missing_channels = set(common_channels) - set(raw.ch_names)\n",
    "        if missing_channels:\n",
    "            print(f\"File {filepath} is missing channels: {missing_channels}\")\n",
    "            return None\n",
    "        \n",
    "        # Pick only the common channels\n",
    "        raw.pick_channels(common_channels, ordered=True)\n",
    "        \n",
    "        # Get data as numpy array\n",
    "        data = raw.get_data()\n",
    "        \n",
    "        # Calculate PSD from 1 to 40 Hz using Welch's method\n",
    "        psd, freqs = mne.time_frequency.psd_array_welch(data, sfreq=raw.info['sfreq'], fmin=1, fmax=40, n_fft=512)\n",
    "        \n",
    "        # Flatten the PSD to use as features, log-scaled\n",
    "        feature_vector = np.log10(psd).mean(axis=1)\n",
    "\n",
    "        # Ensure feature vector has consistent length\n",
    "        if feature_vector.size < target_length:\n",
    "            # Pad with zeros if smaller\n",
    "            feature_vector = np.pad(feature_vector, (0, target_length - feature_vector.size), 'constant')\n",
    "        elif feature_vector.size > target_length:\n",
    "            # Truncate if larger\n",
    "            feature_vector = feature_vector[:target_length]\n",
    "        \n",
    "        return feature_vector\n",
    "    except Exception as e:\n",
    "        print(f\"Error processing file {filepath}: {e}\")\n",
    "        return None\n",
    "\n",
    "# Setup directories and process files\n",
    "directory = \"G:\\\\ABP_PreprocessedEEG\"\n",
    "common_channels = ['TP7', 'CP6', 'FT10', 'FC5', 'F1', 'PO3', 'CP3', 'T8', 'FT8', 'F6', 'PO4', 'P7', 'F5', 'PO8', 'FC4', 'TP9', 'CP5', 'C5', 'FT9', 'TP10', 'AF4', 'Fpz', 'F2', 'P5', 'FT7', 'P4', 'O2', 'F8', 'AF3', 'TP8', 'P8', 'Fp2', 'PO7', 'P6', 'P1']\n",
    "\n",
    "features_list = []\n",
    "labels_list = []\n",
    "\n",
    "for filename in os.listdir(directory):\n",
    "    if filename.endswith('.set'):\n",
    "        filepath = os.path.join(directory, filename)\n",
    "        print(f\"Processing file {filename}\")\n",
    "        features = load_and_extract_features(filepath, common_channels)\n",
    "        if features is not None:\n",
    "            features_list.append(features)\n",
    "            # Assign labels based on filename prefixes\n",
    "            if filename.startswith('AB1') or filename.startswith('AB2'):\n",
    "                labels_list.append(0)  # Healthy\n",
    "                print(f\"Assigned label 0 (Healthy) for file {filename}\")\n",
    "            elif filename.startswith('AB3'):\n",
    "                labels_list.append(1)  # Schizophrenia patient\n",
    "                print(f\"Assigned label 1 (Schizophrenia) for file {filename}\")\n",
    "            else:\n",
    "                print(f\"Could not determine label for file {filename}. Skipping...\")\n",
    "        else:\n",
    "            print(f\"Skipping file {filename} due to feature extraction failure.\")\n",
    "\n",
    "# Debugging to see the lengths of lists\n",
    "print(f\"Number of feature vectors: {len(features_list)}\")\n",
    "print(f\"Number of labels: {len(labels_list)}\")\n",
    "\n",
    "# Ensure both lists have the same number of elements\n",
    "if len(features_list) != len(labels_list):\n",
    "    raise ValueError(f\"Inconsistent number of samples in features and labels: {len(features_list)} features and {len(labels_list)} labels.\")\n",
    "\n",
    "# Convert lists to NumPy arrays for further processing\n",
    "if features_list:\n",
    "    features_array = np.vstack(features_list)\n",
    "else:\n",
    "    raise ValueError(\"No features extracted. Check the logs for issues with feature extraction.\")\n",
    "\n",
    "labels_array = np.array(labels_list)\n",
    "\n",
    "# Data splitting and SVM classifier setup\n",
    "X_train, X_test, y_train, y_test = train_test_split(features_array, labels_array, test_size=0.2, random_state=42)\n",
    "svm_pipeline = make_pipeline(StandardScaler(), SVC(kernel='rbf', C=1, gamma=0.01, probability=True))\n",
    "svm_pipeline.fit(X_train, y_train)\n",
    "\n",
    "# Model evaluation\n",
    "y_pred = svm_pipeline.predict(X_test)\n",
    "print(\"Classification Report:\\n\", classification_report(y_test, y_pred))\n",
    "print(\"Accuracy:\", accuracy_score(y_test, y_pred))\n"
   ]
  },
  {
   "cell_type": "code",
   "execution_count": null,
   "id": "2403b8f2-68bc-4891-97dd-127ac7449cda",
   "metadata": {},
   "outputs": [],
   "source": []
  }
 ],
 "metadata": {
  "kernelspec": {
   "display_name": "Python 3 (ipykernel)",
   "language": "python",
   "name": "python3"
  },
  "language_info": {
   "codemirror_mode": {
    "name": "ipython",
    "version": 3
   },
   "file_extension": ".py",
   "mimetype": "text/x-python",
   "name": "python",
   "nbconvert_exporter": "python",
   "pygments_lexer": "ipython3",
   "version": "3.11.7"
  }
 },
 "nbformat": 4,
 "nbformat_minor": 5
}
